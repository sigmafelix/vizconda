{
 "cells": [
  {
   "cell_type": "markdown",
   "metadata": {},
   "source": [
    "# Elementary data manipulation: Split-Apply-Combine with `tidyverse`"
   ]
  },
  {
   "cell_type": "markdown",
   "metadata": {},
   "source": [
    "## 0. Standard data types and structures"
   ]
  },
  {
   "cell_type": "markdown",
   "metadata": {},
   "source": [
    "### 0.1 Data types\n",
    "+ logical(=boolean): `TRUE`(1) 또는 `FALSE(0)`의 값을 가지는 논리값으로, 정수로도 취급됨\n",
    "+ integer: $[-2^{31} , 2^{31} - 1]$ 범위를 갖는 정수\n",
    "+ numeric: 일반적인 실수 전체를 의미. integer보다 범위가 넓음\n",
    "+ factor: 의미를 가지는 수준(level)을 수와 매치시킨 인수\n",
    "    + ordered factor: 수준이 일정한 기준을 가지고 정렬된 경우\n",
    "+ character: 문자형"
   ]
  },
  {
   "cell_type": "code",
   "execution_count": 2,
   "metadata": {},
   "outputs": [
    {
     "name": "stderr",
     "output_type": "stream",
     "text": [
      "-- Attaching packages --------------------------------------- tidyverse 1.2.1 --\n",
      "v ggplot2 2.2.1     v purrr   0.2.5\n",
      "v tibble  1.4.2     v dplyr   0.7.6\n",
      "v tidyr   0.8.1     v stringr 1.3.1\n",
      "v readr   1.1.1     v forcats 0.3.0\n",
      "-- Conflicts ------------------------------------------ tidyverse_conflicts() --\n",
      "x dplyr::filter() masks stats::filter()\n",
      "x dplyr::lag()    masks stats::lag()\n"
     ]
    }
   ],
   "source": [
    "library(tidyverse)"
   ]
  },
  {
   "cell_type": "code",
   "execution_count": 6,
   "metadata": {},
   "outputs": [
    {
     "name": "stderr",
     "output_type": "stream",
     "text": [
      "Your code contains a unicode char which cannot be displayed in your\n",
      "current locale and R will silently convert it to an escaped form when the\n",
      "R kernel executes this code. This can lead to subtle errors if you use\n",
      "such chars to do comparisons. For more information, please see\n",
      "https://github.com/IRkernel/repr/wiki/Problems-with-unicode-on-windows"
     ]
    },
    {
     "data": {
      "text/html": [
       "'logical'"
      ],
      "text/latex": [
       "'logical'"
      ],
      "text/markdown": [
       "'logical'"
      ],
      "text/plain": [
       "[1] \"logical\""
      ]
     },
     "metadata": {},
     "output_type": "display_data"
    },
    {
     "data": {
      "text/html": [
       "'numeric'"
      ],
      "text/latex": [
       "'numeric'"
      ],
      "text/markdown": [
       "'numeric'"
      ],
      "text/plain": [
       "[1] \"numeric\""
      ]
     },
     "metadata": {},
     "output_type": "display_data"
    },
    {
     "data": {
      "text/html": [
       "'integer'"
      ],
      "text/latex": [
       "'integer'"
      ],
      "text/markdown": [
       "'integer'"
      ],
      "text/plain": [
       "[1] \"integer\""
      ]
     },
     "metadata": {},
     "output_type": "display_data"
    },
    {
     "name": "stderr",
     "output_type": "stream",
     "text": [
      "Warning message in eval(expr, envir, enclos):\n",
      "\"NAs introduced by coercion to integer range\""
     ]
    },
    {
     "data": {
      "text/html": [
       "'integer'"
      ],
      "text/latex": [
       "'integer'"
      ],
      "text/markdown": [
       "'integer'"
      ],
      "text/plain": [
       "[1] \"integer\""
      ]
     },
     "metadata": {},
     "output_type": "display_data"
    },
    {
     "data": {
      "text/html": [
       "'numeric'"
      ],
      "text/latex": [
       "'numeric'"
      ],
      "text/markdown": [
       "'numeric'"
      ],
      "text/plain": [
       "[1] \"numeric\""
      ]
     },
     "metadata": {},
     "output_type": "display_data"
    },
    {
     "data": {
      "text/html": [
       "'numeric'"
      ],
      "text/latex": [
       "'numeric'"
      ],
      "text/markdown": [
       "'numeric'"
      ],
      "text/plain": [
       "[1] \"numeric\""
      ]
     },
     "metadata": {},
     "output_type": "display_data"
    },
    {
     "data": {
      "text/html": [
       "'character'"
      ],
      "text/latex": [
       "'character'"
      ],
      "text/markdown": [
       "'character'"
      ],
      "text/plain": [
       "[1] \"character\""
      ]
     },
     "metadata": {},
     "output_type": "display_data"
    }
   ],
   "source": [
    "class(TRUE) # 자료형을 확인하려면 class를 이용합니다.\n",
    "class(2^30)\n",
    "class(as.integer(3)) # 명시적으로 정수형 선언\n",
    "class(as.integer(2^32)) # 명시적으로 정수형 선언: 오류\n",
    "class(1.03)\n",
    "class(5.67e+04) #e식 표현법은 부동소수점 표현법이라 하며 이 수는 56700과 같음\n",
    "class('My name is Lora')"
   ]
  },
  {
   "cell_type": "code",
   "execution_count": 17,
   "metadata": {},
   "outputs": [
    {
     "name": "stderr",
     "output_type": "stream",
     "text": [
      "Your code contains a unicode char which cannot be displayed in your\n",
      "current locale and R will silently convert it to an escaped form when the\n",
      "R kernel executes this code. This can lead to subtle errors if you use\n",
      "such chars to do comparisons. For more information, please see\n",
      "https://github.com/IRkernel/repr/wiki/Problems-with-unicode-on-windows"
     ]
    },
    {
     "data": {
      "text/html": [
       "<ol class=list-inline>\n",
       "\t<li>Green</li>\n",
       "\t<li>Blue</li>\n",
       "\t<li>Red</li>\n",
       "</ol>\n",
       "\n",
       "<details>\n",
       "\t<summary style=display:list-item;cursor:pointer>\n",
       "\t\t<strong>Levels</strong>:\n",
       "\t</summary>\n",
       "\t<ol class=list-inline>\n",
       "\t\t<li>'Blue'</li>\n",
       "\t\t<li>'Green'</li>\n",
       "\t\t<li>'Red'</li>\n",
       "\t</ol>\n",
       "</details>"
      ],
      "text/latex": [
       "\\begin{enumerate*}\n",
       "\\item Green\n",
       "\\item Blue\n",
       "\\item Red\n",
       "\\end{enumerate*}\n",
       "\n",
       "\\emph{Levels}: \\begin{enumerate*}\n",
       "\\item 'Blue'\n",
       "\\item 'Green'\n",
       "\\item 'Red'\n",
       "\\end{enumerate*}\n"
      ],
      "text/markdown": [
       "1. Green\n",
       "2. Blue\n",
       "3. Red\n",
       "\n",
       "\n",
       "\n",
       "**Levels**: 1. 'Blue'\n",
       "2. 'Green'\n",
       "3. 'Red'\n",
       "\n",
       "\n"
      ],
      "text/plain": [
       "[1] Green Blue  Red  \n",
       "Levels: Blue Green Red"
      ]
     },
     "metadata": {},
     "output_type": "display_data"
    },
    {
     "data": {
      "text/html": [
       "<ol class=list-inline>\n",
       "\t<li>Green</li>\n",
       "\t<li>Blue</li>\n",
       "\t<li>Red</li>\n",
       "</ol>\n",
       "\n",
       "<details>\n",
       "\t<summary style=display:list-item;cursor:pointer>\n",
       "\t\t<strong>Levels</strong>:\n",
       "\t</summary>\n",
       "\t<ol class=list-inline>\n",
       "\t\t<li>'Green'</li>\n",
       "\t\t<li>'Blue'</li>\n",
       "\t\t<li>'Red'</li>\n",
       "\t</ol>\n",
       "</details>"
      ],
      "text/latex": [
       "\\begin{enumerate*}\n",
       "\\item Green\n",
       "\\item Blue\n",
       "\\item Red\n",
       "\\end{enumerate*}\n",
       "\n",
       "\\emph{Levels}: \\begin{enumerate*}\n",
       "\\item 'Green'\n",
       "\\item 'Blue'\n",
       "\\item 'Red'\n",
       "\\end{enumerate*}\n"
      ],
      "text/markdown": [
       "1. Green\n",
       "2. Blue\n",
       "3. Red\n",
       "\n",
       "\n",
       "\n",
       "**Levels**: 1. 'Green'\n",
       "2. 'Blue'\n",
       "3. 'Red'\n",
       "\n",
       "\n"
      ],
      "text/plain": [
       "[1] Green Blue  Red  \n",
       "Levels: Green < Blue < Red"
      ]
     },
     "metadata": {},
     "output_type": "display_data"
    },
    {
     "data": {
      "text/html": [
       "<ol class=list-inline>\n",
       "\t<li>1</li>\n",
       "\t<li>2</li>\n",
       "\t<li>3</li>\n",
       "</ol>\n"
      ],
      "text/latex": [
       "\\begin{enumerate*}\n",
       "\\item 1\n",
       "\\item 2\n",
       "\\item 3\n",
       "\\end{enumerate*}\n"
      ],
      "text/markdown": [
       "1. 1\n",
       "2. 2\n",
       "3. 3\n",
       "\n",
       "\n"
      ],
      "text/plain": [
       "[1] 1 2 3"
      ]
     },
     "metadata": {},
     "output_type": "display_data"
    },
    {
     "data": {
      "text/html": [
       "<ol class=list-inline>\n",
       "\t<li>G</li>\n",
       "\t<li>B</li>\n",
       "\t<li>R</li>\n",
       "</ol>\n",
       "\n",
       "<details>\n",
       "\t<summary style=display:list-item;cursor:pointer>\n",
       "\t\t<strong>Levels</strong>:\n",
       "\t</summary>\n",
       "\t<ol class=list-inline>\n",
       "\t\t<li>'G'</li>\n",
       "\t\t<li>'B'</li>\n",
       "\t\t<li>'R'</li>\n",
       "\t</ol>\n",
       "</details>"
      ],
      "text/latex": [
       "\\begin{enumerate*}\n",
       "\\item G\n",
       "\\item B\n",
       "\\item R\n",
       "\\end{enumerate*}\n",
       "\n",
       "\\emph{Levels}: \\begin{enumerate*}\n",
       "\\item 'G'\n",
       "\\item 'B'\n",
       "\\item 'R'\n",
       "\\end{enumerate*}\n"
      ],
      "text/markdown": [
       "1. G\n",
       "2. B\n",
       "3. R\n",
       "\n",
       "\n",
       "\n",
       "**Levels**: 1. 'G'\n",
       "2. 'B'\n",
       "3. 'R'\n",
       "\n",
       "\n"
      ],
      "text/plain": [
       "[1] G B R\n",
       "Levels: G B R"
      ]
     },
     "metadata": {},
     "output_type": "display_data"
    },
    {
     "data": {
      "text/html": [
       "<ol class=list-inline>\n",
       "\t<li>1</li>\n",
       "\t<li>2</li>\n",
       "\t<li>3</li>\n",
       "</ol>\n"
      ],
      "text/latex": [
       "\\begin{enumerate*}\n",
       "\\item 1\n",
       "\\item 2\n",
       "\\item 3\n",
       "\\end{enumerate*}\n"
      ],
      "text/markdown": [
       "1. 1\n",
       "2. 2\n",
       "3. 3\n",
       "\n",
       "\n"
      ],
      "text/plain": [
       "[1] 1 2 3"
      ]
     },
     "metadata": {},
     "output_type": "display_data"
    },
    {
     "data": {
      "text/html": [
       "<ol class=list-inline>\n",
       "\t<li>1</li>\n",
       "\t<li>2</li>\n",
       "\t<li>3</li>\n",
       "\t<li>4</li>\n",
       "\t<li>5</li>\n",
       "\t<li>6</li>\n",
       "\t<li>7</li>\n",
       "\t<li>8</li>\n",
       "\t<li>9</li>\n",
       "\t<li>10</li>\n",
       "</ol>\n",
       "\n",
       "<details>\n",
       "\t<summary style=display:list-item;cursor:pointer>\n",
       "\t\t<strong>Levels</strong>:\n",
       "\t</summary>\n",
       "\t<ol class=list-inline>\n",
       "\t\t<li>'1'</li>\n",
       "\t\t<li>'2'</li>\n",
       "\t\t<li>'3'</li>\n",
       "\t\t<li>'4'</li>\n",
       "\t\t<li>'5'</li>\n",
       "\t\t<li>'6'</li>\n",
       "\t\t<li>'7'</li>\n",
       "\t\t<li>'8'</li>\n",
       "\t\t<li>'9'</li>\n",
       "\t\t<li>'10'</li>\n",
       "\t</ol>\n",
       "</details>"
      ],
      "text/latex": [
       "\\begin{enumerate*}\n",
       "\\item 1\n",
       "\\item 2\n",
       "\\item 3\n",
       "\\item 4\n",
       "\\item 5\n",
       "\\item 6\n",
       "\\item 7\n",
       "\\item 8\n",
       "\\item 9\n",
       "\\item 10\n",
       "\\end{enumerate*}\n",
       "\n",
       "\\emph{Levels}: \\begin{enumerate*}\n",
       "\\item '1'\n",
       "\\item '2'\n",
       "\\item '3'\n",
       "\\item '4'\n",
       "\\item '5'\n",
       "\\item '6'\n",
       "\\item '7'\n",
       "\\item '8'\n",
       "\\item '9'\n",
       "\\item '10'\n",
       "\\end{enumerate*}\n"
      ],
      "text/markdown": [
       "1. 1\n",
       "2. 2\n",
       "3. 3\n",
       "4. 4\n",
       "5. 5\n",
       "6. 6\n",
       "7. 7\n",
       "8. 8\n",
       "9. 9\n",
       "10. 10\n",
       "\n",
       "\n",
       "\n",
       "**Levels**: 1. '1'\n",
       "2. '2'\n",
       "3. '3'\n",
       "4. '4'\n",
       "5. '5'\n",
       "6. '6'\n",
       "7. '7'\n",
       "8. '8'\n",
       "9. '9'\n",
       "10. '10'\n",
       "\n",
       "\n"
      ],
      "text/plain": [
       " [1] 1  2  3  4  5  6  7  8  9  10\n",
       "Levels: 1 2 3 4 5 6 7 8 9 10"
      ]
     },
     "metadata": {},
     "output_type": "display_data"
    },
    {
     "data": {
      "text/html": [
       "<ol class=list-inline>\n",
       "\t<li>1</li>\n",
       "\t<li>2</li>\n",
       "\t<li>3</li>\n",
       "\t<li>4</li>\n",
       "\t<li>5</li>\n",
       "</ol>\n",
       "\n",
       "<details>\n",
       "\t<summary style=display:list-item;cursor:pointer>\n",
       "\t\t<strong>Levels</strong>:\n",
       "\t</summary>\n",
       "\t<ol class=list-inline>\n",
       "\t\t<li>'3'</li>\n",
       "\t\t<li>'1'</li>\n",
       "\t\t<li>'5'</li>\n",
       "\t\t<li>'4'</li>\n",
       "\t\t<li>'2'</li>\n",
       "\t</ol>\n",
       "</details>"
      ],
      "text/latex": [
       "\\begin{enumerate*}\n",
       "\\item 1\n",
       "\\item 2\n",
       "\\item 3\n",
       "\\item 4\n",
       "\\item 5\n",
       "\\end{enumerate*}\n",
       "\n",
       "\\emph{Levels}: \\begin{enumerate*}\n",
       "\\item '3'\n",
       "\\item '1'\n",
       "\\item '5'\n",
       "\\item '4'\n",
       "\\item '2'\n",
       "\\end{enumerate*}\n"
      ],
      "text/markdown": [
       "1. 1\n",
       "2. 2\n",
       "3. 3\n",
       "4. 4\n",
       "5. 5\n",
       "\n",
       "\n",
       "\n",
       "**Levels**: 1. '3'\n",
       "2. '1'\n",
       "3. '5'\n",
       "4. '4'\n",
       "5. '2'\n",
       "\n",
       "\n"
      ],
      "text/plain": [
       "[1] 1 2 3 4 5\n",
       "Levels: 3 < 1 < 5 < 4 < 2"
      ]
     },
     "metadata": {},
     "output_type": "display_data"
    },
    {
     "data": {
      "text/html": [
       "<ol class=list-inline>\n",
       "\t<li>2</li>\n",
       "\t<li>5</li>\n",
       "\t<li>1</li>\n",
       "\t<li>4</li>\n",
       "\t<li>3</li>\n",
       "</ol>\n"
      ],
      "text/latex": [
       "\\begin{enumerate*}\n",
       "\\item 2\n",
       "\\item 5\n",
       "\\item 1\n",
       "\\item 4\n",
       "\\item 3\n",
       "\\end{enumerate*}\n"
      ],
      "text/markdown": [
       "1. 2\n",
       "2. 5\n",
       "3. 1\n",
       "4. 4\n",
       "5. 3\n",
       "\n",
       "\n"
      ],
      "text/plain": [
       "[1] 2 5 1 4 3"
      ]
     },
     "metadata": {},
     "output_type": "display_data"
    },
    {
     "name": "stdout",
     "output_type": "stream",
     "text": [
      " Ord.factor w/ 5 levels \"3\"<\"1\"<\"5\"<\"4\"<..: 2 5 1 4 3\n"
     ]
    }
   ],
   "source": [
    "ftest <- factor(c('Green','Blue','Red'), ordered = FALSE)\n",
    "ftest\n",
    "ftest2 <- factor(c('Green','Blue','Red'), levels = c('Green','Blue','Red'), ordered = TRUE)\n",
    "ftest2\n",
    "as.integer(ftest2)\n",
    "ftest2_1 <- factor(c('Green', 'Blue', 'Red'), levels = c('Green','Blue','Red'), labels = c('G','B','R'))\n",
    "ftest2_1\n",
    "as.integer(ftest2_1)\n",
    "ftest3 <- factor(1:10)\n",
    "ftest3\n",
    "ftest4 <- factor(1:5, levels = c(3, 1, 5, 4, 2), ordered = TRUE) # 지정된 수준으로 정렬된 factor; 각 수준은 정수 1~5에 순서대로 배열\n",
    "ftest4\n",
    "as.integer(ftest4) # 결과에 주목. 숫자 1이 두 번째 수준이므로 2가,  숫자 2가 다섯 번째 수준이므로 5가, 같은 요령으로 각각 1, 4, 3순서가 정수형으로 출력됨\n",
    "str(ftest4)"
   ]
  },
  {
   "cell_type": "markdown",
   "metadata": {},
   "source": [
    "### Why do we use `factor`?\n",
    "- 메모리 절약: 실제로 저장되는 것은 모든 `levels`의 레이블에 대응하는 정수가 저장되기 때문입니다.\n",
    "- 아래 코드 블록과 실행 결과를 참고하시면 확실하게 이해되시리라 생각합니다."
   ]
  },
  {
   "cell_type": "code",
   "execution_count": 24,
   "metadata": {},
   "outputs": [
    {
     "name": "stderr",
     "output_type": "stream",
     "text": [
      "Your code contains a unicode char which cannot be displayed in your\n",
      "current locale and R will silently convert it to an escaped form when the\n",
      "R kernel executes this code. This can lead to subtle errors if you use\n",
      "such chars to do comparisons. For more information, please see\n",
      "https://github.com/IRkernel/repr/wiki/Problems-with-unicode-on-windows"
     ]
    },
    {
     "data": {
      "text/plain": [
       "13416 bytes"
      ]
     },
     "metadata": {},
     "output_type": "display_data"
    },
    {
     "data": {
      "text/plain": [
       "7232 bytes"
      ]
     },
     "metadata": {},
     "output_type": "display_data"
    },
    {
     "data": {
      "text/plain": [
       "7232 bytes"
      ]
     },
     "metadata": {},
     "output_type": "display_data"
    },
    {
     "data": {
      "text/plain": [
       "7296 bytes"
      ]
     },
     "metadata": {},
     "output_type": "display_data"
    }
   ],
   "source": [
    "## Character로 관리할 때\n",
    "object.size(rep(c('Green','Blue','Red'), c(1000, 250, 400)))\n",
    "## Factorize하여 관리할 때\n",
    "object.size(factor(rep(c('Green','Blue','Red'), c(1000, 250, 400))))\n",
    "## Factorize하여 관리하되, 순서를 강제하지 않을 때\n",
    "object.size(factor(rep(c('Green','Blue','Red'), c(1000, 250, 400)), levels = c('Red', 'Blue', 'Green')))\n",
    "## Factorize하여 관리하되, 순서를 강제할 때\n",
    "object.size(factor(rep(c('Green','Blue','Red'), c(1000, 250, 400)), levels = c('Red', 'Blue', 'Green'), ordered = TRUE))"
   ]
  },
  {
   "cell_type": "markdown",
   "metadata": {},
   "source": [
    "## 0.2 Data classes\n",
    "+ `vector`: 1차원 숫자 뭉치\n",
    "+ `matrix`: 2차원 숫자 뭉치\n",
    "+ __`data.frame`__: 자료를 고유한 열 이름을 갖는 틀(frame)에 담은 것으로, 자료 분석의 일반적 단위\n",
    "+ `array`: 숫자 뭉치를 여러 개의 `matrix`로 저장한 형태 (3차원)\n",
    "+ `list`: 모든 자료형을 저장할 수 있는 단위"
   ]
  },
  {
   "cell_type": "code",
   "execution_count": 1,
   "metadata": {},
   "outputs": [
    {
     "data": {
      "text/html": [
       "'numeric'"
      ],
      "text/latex": [
       "'numeric'"
      ],
      "text/markdown": [
       "'numeric'"
      ],
      "text/plain": [
       "[1] \"numeric\""
      ]
     },
     "metadata": {},
     "output_type": "display_data"
    },
    {
     "data": {
      "text/html": [
       "<table>\n",
       "<tbody>\n",
       "\t<tr><td>1</td><td>2</td><td>3</td></tr>\n",
       "\t<tr><td>4</td><td>5</td><td>6</td></tr>\n",
       "\t<tr><td>7</td><td>8</td><td>9</td></tr>\n",
       "</tbody>\n",
       "</table>\n"
      ],
      "text/latex": [
       "\\begin{tabular}{lll}\n",
       "\t 1 & 2 & 3\\\\\n",
       "\t 4 & 5 & 6\\\\\n",
       "\t 7 & 8 & 9\\\\\n",
       "\\end{tabular}\n"
      ],
      "text/markdown": [
       "\n",
       "| 1 | 2 | 3 | \n",
       "| 4 | 5 | 6 | \n",
       "| 7 | 8 | 9 | \n",
       "\n",
       "\n"
      ],
      "text/plain": [
       "     [,1] [,2] [,3]\n",
       "[1,] 1    2    3   \n",
       "[2,] 4    5    6   \n",
       "[3,] 7    8    9   "
      ]
     },
     "metadata": {},
     "output_type": "display_data"
    },
    {
     "data": {
      "text/html": [
       "'matrix'"
      ],
      "text/latex": [
       "'matrix'"
      ],
      "text/markdown": [
       "'matrix'"
      ],
      "text/plain": [
       "[1] \"matrix\""
      ]
     },
     "metadata": {},
     "output_type": "display_data"
    },
    {
     "data": {
      "text/html": [
       "'integer'"
      ],
      "text/latex": [
       "'integer'"
      ],
      "text/markdown": [
       "'integer'"
      ],
      "text/plain": [
       "[1] \"integer\""
      ]
     },
     "metadata": {},
     "output_type": "display_data"
    },
    {
     "data": {
      "text/html": [
       "'character'"
      ],
      "text/latex": [
       "'character'"
      ],
      "text/markdown": [
       "'character'"
      ],
      "text/plain": [
       "[1] \"character\""
      ]
     },
     "metadata": {},
     "output_type": "display_data"
    },
    {
     "data": {
      "text/html": [
       "'character'"
      ],
      "text/latex": [
       "'character'"
      ],
      "text/markdown": [
       "'character'"
      ],
      "text/plain": [
       "[1] \"character\""
      ]
     },
     "metadata": {},
     "output_type": "display_data"
    }
   ],
   "source": [
    "# vectors and matrices\n",
    "class(as.vector(1))\n",
    "mat <- matrix(1:9, nrow = 3, ncol = 3, byrow = TRUE)\n",
    "mat\n",
    "class(mat)\n",
    "class(as.vector(mat))\n",
    "class(c(1,'1','3',3))\n",
    "class(c(1,'1',factor('1')))"
   ]
  },
  {
   "cell_type": "code",
   "execution_count": 42,
   "metadata": {},
   "outputs": [
    {
     "name": "stderr",
     "output_type": "stream",
     "text": [
      "Your code contains a unicode char which cannot be displayed in your\n",
      "current locale and R will silently convert it to an escaped form when the\n",
      "R kernel executes this code. This can lead to subtle errors if you use\n",
      "such chars to do comparisons. For more information, please see\n",
      "https://github.com/IRkernel/repr/wiki/Problems-with-unicode-on-windows"
     ]
    },
    {
     "data": {
      "text/html": [
       "<table>\n",
       "<thead><tr><th scope=col>field1</th><th scope=col>field2</th><th scope=col>field3</th></tr></thead>\n",
       "<tbody>\n",
       "\t<tr><td>doc  </td><td>1    </td><td>alpha</td></tr>\n",
       "\t<tr><td>dog  </td><td>2    </td><td>beta </td></tr>\n",
       "\t<tr><td>dor  </td><td>3    </td><td>phi  </td></tr>\n",
       "</tbody>\n",
       "</table>\n"
      ],
      "text/latex": [
       "\\begin{tabular}{r|lll}\n",
       " field1 & field2 & field3\\\\\n",
       "\\hline\n",
       "\t doc   & 1     & alpha\\\\\n",
       "\t dog   & 2     & beta \\\\\n",
       "\t dor   & 3     & phi  \\\\\n",
       "\\end{tabular}\n"
      ],
      "text/markdown": [
       "\n",
       "field1 | field2 | field3 | \n",
       "|---|---|---|\n",
       "| doc   | 1     | alpha | \n",
       "| dog   | 2     | beta  | \n",
       "| dor   | 3     | phi   | \n",
       "\n",
       "\n"
      ],
      "text/plain": [
       "  field1 field2 field3\n",
       "1 doc    1      alpha \n",
       "2 dog    2      beta  \n",
       "3 dor    3      phi   "
      ]
     },
     "metadata": {},
     "output_type": "display_data"
    },
    {
     "name": "stdout",
     "output_type": "stream",
     "text": [
      "'data.frame':\t3 obs. of  3 variables:\n",
      " $ field1: Factor w/ 3 levels \"doc\",\"dog\",\"dor\": 1 2 3\n",
      " $ field2: int  1 2 3\n",
      " $ field3: Factor w/ 3 levels \"phi\",\"beta\",\"alpha\": 3 2 1\n"
     ]
    },
    {
     "ename": "ERROR",
     "evalue": "Error in data.frame(field1 = c(\"doc\", \"dog\", \"dor\"), field2 = 1:2, field3 = factor(c(\"alpha\", : arguments imply differing number of rows: 3, 2\n",
     "output_type": "error",
     "traceback": [
      "Error in data.frame(field1 = c(\"doc\", \"dog\", \"dor\"), field2 = 1:2, field3 = factor(c(\"alpha\", : arguments imply differing number of rows: 3, 2\nTraceback:\n",
      "1. data.frame(field1 = c(\"doc\", \"dog\", \"dor\"), field2 = 1:2, field3 = factor(c(\"alpha\", \n .     \"beta\", \"phi\"), levels = c(\"phi\", \"beta\", \"alpha\")))",
      "2. stop(gettextf(\"arguments imply differing number of rows: %s\", \n .     paste(unique(nrows), collapse = \", \")), domain = NA)"
     ]
    }
   ],
   "source": [
    "## data.frame 정의의 예\n",
    "dat <- data.frame(field1 = c('doc', 'dog', 'dor'),\n",
    "                  field2 = 1:3,\n",
    "                  field3 = factor(c('alpha', 'beta', 'phi'), levels = c('phi', 'beta', 'alpha')))\n",
    "dat\n",
    "str(dat) # 데이터의 구조를 살펴보려면 str 함수를 이용합니다.\n",
    "\n",
    "## data.frame 정의의 잘못된 예\n",
    "dat2 <- data.frame(field1 = c('doc', 'dog', 'dor'),\n",
    "                  field2 = 1:2,\n",
    "                  field3 = factor(c('alpha', 'beta', 'phi'), levels = c('phi', 'beta', 'alpha')))\n",
    "dat2"
   ]
  },
  {
   "cell_type": "markdown",
   "metadata": {},
   "source": [
    "## 1. Reading data from external sources\n",
    "+ 우리가 내려받는 데이터가 항상 '곧장 사용할 수 있는' 형태로 되어 있지는 않습니다.\n",
    "+ 먼저 '깨끗한' 데이터를 불러오는 방법을 알아보고, 그렇지 않은 데이터를 읽어들이는 방법을 알아봅니다.\n",
    "+ 데이터를 불러온 후에는 `summary` 함수나 `str`, `head` 등의 함수를 이용해서 대략의 구조를 파악합니다.\n",
    "\n",
    "### 1.1 Reading 'neat' data\n",
    "+ `readr` 패키지의 `read_csv` 함수: 쉼표로 구분된 파일을 읽어들입니다.\n",
    "+ `readxl` 패키지의 `read_excel` 함수: xlsx 형식으로 된 엑셀 파일을 읽어들입니다.\n",
    "+ 이외에 `readr` 패키지의 `read_fwf` 함수는 고정폭 (fixed width) 파일을 읽어들입니다."
   ]
  },
  {
   "cell_type": "code",
   "execution_count": 3,
   "metadata": {},
   "outputs": [
    {
     "data": {
      "text/html": [
       "<table>\n",
       "<thead><tr><th scope=col>Flow</th><th scope=col>Reporter</th><th scope=col>Partner</th><th scope=col>Netweight_kg</th><th scope=col>Value_usd</th><th scope=col>year</th><th scope=col>Reporter_nm</th><th scope=col>Partner_nm</th></tr></thead>\n",
       "<tbody>\n",
       "\t<tr><td>Import  </td><td>ALB     </td><td>BGR     </td><td>124190  </td><td>107621  </td><td>2010    </td><td>ALBANIA </td><td>BULGARIA</td></tr>\n",
       "</tbody>\n",
       "</table>\n"
      ],
      "text/latex": [
       "\\begin{tabular}{r|llllllll}\n",
       " Flow & Reporter & Partner & Netweight\\_kg & Value\\_usd & year & Reporter\\_nm & Partner\\_nm\\\\\n",
       "\\hline\n",
       "\t Import   & ALB      & BGR      & 124190   & 107621   & 2010     & ALBANIA  & BULGARIA\\\\\n",
       "\\end{tabular}\n"
      ],
      "text/markdown": [
       "\n",
       "Flow | Reporter | Partner | Netweight_kg | Value_usd | year | Reporter_nm | Partner_nm | \n",
       "|---|\n",
       "| Import   | ALB      | BGR      | 124190   | 107621   | 2010     | ALBANIA  | BULGARIA | \n",
       "\n",
       "\n"
      ],
      "text/plain": [
       "  Flow   Reporter Partner Netweight_kg Value_usd year Reporter_nm Partner_nm\n",
       "1 Import ALB      BGR     124190       107621    2010 ALBANIA     BULGARIA  "
      ]
     },
     "metadata": {},
     "output_type": "display_data"
    },
    {
     "data": {
      "text/html": [
       "<ol class=list-inline>\n",
       "\t<li>37100</li>\n",
       "\t<li>8</li>\n",
       "</ol>\n"
      ],
      "text/latex": [
       "\\begin{enumerate*}\n",
       "\\item 37100\n",
       "\\item 8\n",
       "\\end{enumerate*}\n"
      ],
      "text/markdown": [
       "1. 37100\n",
       "2. 8\n",
       "\n",
       "\n"
      ],
      "text/plain": [
       "[1] 37100     8"
      ]
     },
     "metadata": {},
     "output_type": "display_data"
    }
   ],
   "source": [
    "# read_csv\n",
    "pla <- readr::read_csv(file = 'C:/Users/sigma/Dropbox/Chores/2018S/GeoCONDA/W1/Plastic_trade.csv',\n",
    "                       col_types = 'cccddicc') # for the detail of col_types, see ?read_csv\n",
    "### character for the first to the third column\n",
    "### double(numeric) for the fourth to the fifth column\n",
    "### integer for the sixth column\n",
    "### character for the seventh to the eighth column\n",
    "head(pla, 1)\n",
    "dim(pla)"
   ]
  },
  {
   "cell_type": "markdown",
   "metadata": {},
   "source": [
    "__위에서 불러온 `pla` object는 이후에 계속 쓰입니다. __  "
   ]
  },
  {
   "cell_type": "markdown",
   "metadata": {},
   "source": [
    "## 1.2 Reading 'dirty (or uncleaned)' data\n",
    "- 일반적인 `data.frame` 형식으로 정리되지 않은 데이터를 불러오는 방법을 설명합니다.\n",
    "- 통계청에서 내려받는 엑셀 파일들이 주로 정리되지 않은 데이터에 속합니다.\n",
    "- 아래 코드 블록은 국민건강보험공단에서 내려받은 한 엑셀 데이터입니다. 위쪽에 사족이 많이 붙어 있어서 별도의 처리 없이 불러오면 `data.frame`이 뒤죽박죽이 되어 있는 모습을 볼 수 있습니다.\n",
    "- `readxl::read_excel`의 `range` 인수는 `character`형의 셀 범위를 받아서 엑셀 파일을 읽어옵니다. 적절한 `range`를 입력하면 불필요한 내용들의 영향을 없앨 수 있습니다.\n",
    "- 한편, `readr::read_csv`의 `skip` 인수는 `integer`을 받아서 위에서부터 `skip` 줄만큼을 빼고 데이터를 읽어옵니다."
   ]
  },
  {
   "cell_type": "code",
   "execution_count": null,
   "metadata": {},
   "outputs": [],
   "source": [
    "# read_excel\n",
    "atc <- readxl::read_excel('C:/Users/sigma/Dropbox/Chores/2018S/GeoCONDA/W1/ATC.xlsx', range = 'A8:CW93')\n",
    "str(atc)"
   ]
  },
  {
   "cell_type": "markdown",
   "metadata": {},
   "source": [
    "## 2. Split-Apply-Combine"
   ]
  },
  {
   "cell_type": "markdown",
   "metadata": {},
   "source": [
    "![](http://library.open.oregonstate.edu/computationalbiology/wp-content/uploads/sites/3/2016/10/III.8_50_dplyr_do.png)"
   ]
  },
  {
   "cell_type": "markdown",
   "metadata": {},
   "source": [
    "## SAC: basic\n",
    "+ `data.frame`을 일정한 기준으로 나누고(split), 나눈 데이터에 각각 원하는 연산을 수행하고(apply), 얻은 결과를 합치는(combine)것을 말합니다. 대용량 데이터베이스에서 자료를 분산처리하는 원리와 유사하며, `data.frame` 형태로 된 데이터를 정리하거나 집계하는 데 유용한 접근법입니다.\n",
    "+ 위 그림은 어종별 중량 데이터를 종에 따라 분리하고, 평균과 표준편차를 각각 구하는 과정을 보여줍니다.\n",
    "+ 이 원리 하에서, __우리는 항상 데이터를 나눌 기준에 주목__하고, 나눠진 각 데이터에 어떤 연산을 적용할 것인가를 유의해야 합니다. \n",
    "+ 아래에서는 어떤 함수가 어떠한 기능을 수행하는지 설명하겠습니다."
   ]
  },
  {
   "cell_type": "markdown",
   "metadata": {},
   "source": [
    "### All the way ahead: `%>%`\n",
    "- 퍼센트 기호 두 개 사이에 '크거나 같은(>)' 기호가 들어 있는 이 표식을 __'파이프 연산자 (pipe operator)'__라 합니다.\n",
    "- 최초에 데이터를 투입한 다음, 적용할 함수들을 파이프 연산자로 연결하여 처리합니다. RStudio를 사용하면 `Ctrl`+`Shift (Left)`+`M`을 눌러서 손쉽게 입력할 수 있습니다. 여러분들이 앞으로 주로 쓰게 될 Jupyter notebook에서는 이러한 기능이 지원되지 않으므로, 다소 번거롭더라도 직접 타이핑해서 처리해야 합니다.\n",
    "- 파이프 연산자가 연결된 상태에서, 투입된 자료 자신을 온점 `.`으로 표현합니다. 명시적으로 처리하지 않으면 자료가 파이프 연산자 뒤 함수의 첫 번째 인자로 투입됩니다.\n",
    "- 파이프 연산자의 장점으로는, 데이터 처리 과정을 순차적으로 설계하고 이해하는 데 편리하다는 점을 들 수 있습니다. 아래 예시를 보세요. \n",
    "\n",
    "### Grouping: `group_by`\n",
    "- `dplyr::group_by`는 자료를 묶을 하위 기준을 지정하는 함수입니다.\n",
    "- `group_by(groupvar)`: `groupvar`라는 필드의 고윳값 (unique values)을 기준으로 정보를 묶어서 처리하겠다는 의미입니다.\n",
    "- 계획한 대로 자료를 다 묶어서 처리했으면 반드시 다음 파이프 연산자 뒤에 `ungroup` 함수를 적용해서 grouping을 해제해야 합니다. __(매우 중요!)__\n",
    "\n",
    "### Data subsetting: `filter`\n",
    "- `dplyr::filter`는 논리 조건을 부여하여 원하는 레코드만 추출하고자 할 때 사용하는 함수입니다.\n",
    "\n",
    "### Data editing: `mutate`, `rename`\n",
    "- `dplyr::mutate`는 단어 뜻 그대로 필드에 어떤 처리를 하고자 할 때 사용하는 함수입니다.\n",
    "- `dplyr::rename`은 어떤 필드의 이름을 바꿀 때 사용하는 함수입니다.\n",
    "\n",
    "### Data aggregation: `summarize`\n",
    "- `dplyr::summarize`는 자료를 지정된 기준 필드의 값들에 따라서 특정한 필드를 요약하는 함수입니다. '기준 필드'를 필요로 하기 때문에 반드시 `group_by` 뒤에 와야 합니다."
   ]
  },
  {
   "cell_type": "code",
   "execution_count": 29,
   "metadata": {},
   "outputs": [
    {
     "name": "stdout",
     "output_type": "stream",
     "text": [
      "Classes 'tbl_df', 'tbl' and 'data.frame':\t87 obs. of  13 variables:\n",
      " $ name      : chr  \"Luke Skywalker\" \"C-3PO\" \"R2-D2\" \"Darth Vader\" ...\n",
      " $ height    : int  172 167 96 202 150 178 165 97 183 182 ...\n",
      " $ mass      : num  77 75 32 136 49 120 75 32 84 77 ...\n",
      " $ hair_color: chr  \"blond\" NA NA \"none\" ...\n",
      " $ skin_color: chr  \"fair\" \"gold\" \"white, blue\" \"white\" ...\n",
      " $ eye_color : chr  \"blue\" \"yellow\" \"red\" \"yellow\" ...\n",
      " $ birth_year: num  19 112 33 41.9 19 52 47 NA 24 57 ...\n",
      " $ gender    : chr  \"male\" NA NA \"male\" ...\n",
      " $ homeworld : chr  \"Tatooine\" \"Tatooine\" \"Naboo\" \"Tatooine\" ...\n",
      " $ species   : chr  \"Human\" \"Droid\" \"Droid\" \"Human\" ...\n",
      " $ films     :List of 87\n",
      "  ..$ : chr  \"Revenge of the Sith\" \"Return of the Jedi\" \"The Empire Strikes Back\" \"A New Hope\" ...\n",
      "  ..$ : chr  \"Attack of the Clones\" \"The Phantom Menace\" \"Revenge of the Sith\" \"Return of the Jedi\" ...\n",
      "  ..$ : chr  \"Attack of the Clones\" \"The Phantom Menace\" \"Revenge of the Sith\" \"Return of the Jedi\" ...\n",
      "  ..$ : chr  \"Revenge of the Sith\" \"Return of the Jedi\" \"The Empire Strikes Back\" \"A New Hope\"\n",
      "  ..$ : chr  \"Revenge of the Sith\" \"Return of the Jedi\" \"The Empire Strikes Back\" \"A New Hope\" ...\n",
      "  ..$ : chr  \"Attack of the Clones\" \"Revenge of the Sith\" \"A New Hope\"\n",
      "  ..$ : chr  \"Attack of the Clones\" \"Revenge of the Sith\" \"A New Hope\"\n",
      "  ..$ : chr \"A New Hope\"\n",
      "  ..$ : chr \"A New Hope\"\n",
      "  ..$ : chr  \"Attack of the Clones\" \"The Phantom Menace\" \"Revenge of the Sith\" \"Return of the Jedi\" ...\n",
      "  ..$ : chr  \"Attack of the Clones\" \"The Phantom Menace\" \"Revenge of the Sith\"\n",
      "  ..$ : chr  \"Revenge of the Sith\" \"A New Hope\"\n",
      "  ..$ : chr  \"Revenge of the Sith\" \"Return of the Jedi\" \"The Empire Strikes Back\" \"A New Hope\" ...\n",
      "  ..$ : chr  \"Return of the Jedi\" \"The Empire Strikes Back\" \"A New Hope\" \"The Force Awakens\"\n",
      "  ..$ : chr \"A New Hope\"\n",
      "  ..$ : chr  \"The Phantom Menace\" \"Return of the Jedi\" \"A New Hope\"\n",
      "  ..$ : chr  \"Return of the Jedi\" \"The Empire Strikes Back\" \"A New Hope\"\n",
      "  ..$ : chr \"A New Hope\"\n",
      "  ..$ : chr  \"Attack of the Clones\" \"The Phantom Menace\" \"Revenge of the Sith\" \"Return of the Jedi\" ...\n",
      "  ..$ : chr  \"Attack of the Clones\" \"The Phantom Menace\" \"Revenge of the Sith\" \"Return of the Jedi\" ...\n",
      "  ..$ : chr  \"Attack of the Clones\" \"Return of the Jedi\" \"The Empire Strikes Back\"\n",
      "  ..$ : chr \"The Empire Strikes Back\"\n",
      "  ..$ : chr \"The Empire Strikes Back\"\n",
      "  ..$ : chr  \"Return of the Jedi\" \"The Empire Strikes Back\"\n",
      "  ..$ : chr \"The Empire Strikes Back\"\n",
      "  ..$ : chr  \"Return of the Jedi\" \"The Force Awakens\"\n",
      "  ..$ : chr \"Return of the Jedi\"\n",
      "  ..$ : chr \"Return of the Jedi\"\n",
      "  ..$ : chr \"Return of the Jedi\"\n",
      "  ..$ : chr \"Return of the Jedi\"\n",
      "  ..$ : chr \"The Phantom Menace\"\n",
      "  ..$ : chr  \"Attack of the Clones\" \"The Phantom Menace\" \"Revenge of the Sith\"\n",
      "  ..$ : chr \"The Phantom Menace\"\n",
      "  ..$ : chr  \"Attack of the Clones\" \"The Phantom Menace\"\n",
      "  ..$ : chr \"The Phantom Menace\"\n",
      "  ..$ : chr \"The Phantom Menace\"\n",
      "  ..$ : chr \"The Phantom Menace\"\n",
      "  ..$ : chr  \"Attack of the Clones\" \"The Phantom Menace\"\n",
      "  ..$ : chr \"The Phantom Menace\"\n",
      "  ..$ : chr \"The Phantom Menace\"\n",
      "  ..$ : chr  \"Attack of the Clones\" \"The Phantom Menace\"\n",
      "  ..$ : chr \"The Phantom Menace\"\n",
      "  ..$ : chr \"Return of the Jedi\"\n",
      "  ..$ : chr  \"Attack of the Clones\" \"The Phantom Menace\" \"Revenge of the Sith\"\n",
      "  ..$ : chr \"The Phantom Menace\"\n",
      "  ..$ : chr \"The Phantom Menace\"\n",
      "  ..$ : chr \"The Phantom Menace\"\n",
      "  ..$ : chr  \"Attack of the Clones\" \"The Phantom Menace\" \"Revenge of the Sith\"\n",
      "  ..$ : chr  \"Attack of the Clones\" \"The Phantom Menace\" \"Revenge of the Sith\"\n",
      "  ..$ : chr  \"Attack of the Clones\" \"The Phantom Menace\" \"Revenge of the Sith\"\n",
      "  ..$ : chr  \"The Phantom Menace\" \"Revenge of the Sith\"\n",
      "  ..$ : chr  \"The Phantom Menace\" \"Revenge of the Sith\"\n",
      "  ..$ : chr  \"The Phantom Menace\" \"Revenge of the Sith\"\n",
      "  ..$ : chr \"The Phantom Menace\"\n",
      "  ..$ : chr  \"Attack of the Clones\" \"The Phantom Menace\" \"Revenge of the Sith\"\n",
      "  ..$ : chr  \"Attack of the Clones\" \"The Phantom Menace\"\n",
      "  ..$ : chr \"Attack of the Clones\"\n",
      "  ..$ : chr \"Attack of the Clones\"\n",
      "  ..$ : chr \"Attack of the Clones\"\n",
      "  ..$ : chr  \"Attack of the Clones\" \"Revenge of the Sith\"\n",
      "  ..$ : chr  \"Attack of the Clones\" \"Revenge of the Sith\"\n",
      "  ..$ : chr \"Attack of the Clones\"\n",
      "  ..$ : chr \"Attack of the Clones\"\n",
      "  ..$ : chr  \"Attack of the Clones\" \"Revenge of the Sith\"\n",
      "  ..$ : chr  \"Attack of the Clones\" \"Revenge of the Sith\"\n",
      "  ..$ : chr \"Attack of the Clones\"\n",
      "  ..$ : chr \"Attack of the Clones\"\n",
      "  ..$ : chr \"Attack of the Clones\"\n",
      "  ..$ : chr \"Attack of the Clones\"\n",
      "  ..$ : chr \"Attack of the Clones\"\n",
      "  ..$ : chr \"Attack of the Clones\"\n",
      "  ..$ : chr \"The Phantom Menace\"\n",
      "  ..$ : chr  \"Attack of the Clones\" \"Revenge of the Sith\"\n",
      "  ..$ : chr \"Attack of the Clones\"\n",
      "  ..$ : chr \"Attack of the Clones\"\n",
      "  ..$ : chr  \"Attack of the Clones\" \"Revenge of the Sith\"\n",
      "  ..$ : chr \"Revenge of the Sith\"\n",
      "  ..$ : chr \"Revenge of the Sith\"\n",
      "  ..$ : chr  \"Revenge of the Sith\" \"A New Hope\"\n",
      "  ..$ : chr  \"Attack of the Clones\" \"Revenge of the Sith\"\n",
      "  ..$ : chr \"Revenge of the Sith\"\n",
      "  ..$ : chr \"The Force Awakens\"\n",
      "  ..$ : chr \"The Force Awakens\"\n",
      "  ..$ : chr \"The Force Awakens\"\n",
      "  ..$ : chr \"The Force Awakens\"\n",
      "  ..$ : chr \"The Force Awakens\"\n",
      "  ..$ : chr  \"Attack of the Clones\" \"The Phantom Menace\" \"Revenge of the Sith\"\n",
      " $ vehicles  :List of 87\n",
      "  ..$ : chr  \"Snowspeeder\" \"Imperial Speeder Bike\"\n",
      "  ..$ : chr \n",
      "  ..$ : chr \n",
      "  ..$ : chr \n",
      "  ..$ : chr \"Imperial Speeder Bike\"\n",
      "  ..$ : chr \n",
      "  ..$ : chr \n",
      "  ..$ : chr \n",
      "  ..$ : chr \n",
      "  ..$ : chr \"Tribubble bongo\"\n",
      "  ..$ : chr  \"Zephyr-G swoop bike\" \"XJ-6 airspeeder\"\n",
      "  ..$ : chr \n",
      "  ..$ : chr \"AT-ST\"\n",
      "  ..$ : chr \n",
      "  ..$ : chr \n",
      "  ..$ : chr \n",
      "  ..$ : chr \"Snowspeeder\"\n",
      "  ..$ : chr \n",
      "  ..$ : chr \n",
      "  ..$ : chr \n",
      "  ..$ : chr \n",
      "  ..$ : chr \n",
      "  ..$ : chr \n",
      "  ..$ : chr \n",
      "  ..$ : chr \n",
      "  ..$ : chr \n",
      "  ..$ : chr \n",
      "  ..$ : chr \n",
      "  ..$ : chr \n",
      "  ..$ : chr \n",
      "  ..$ : chr \"Tribubble bongo\"\n",
      "  ..$ : chr \n",
      "  ..$ : chr \n",
      "  ..$ : chr \n",
      "  ..$ : chr \n",
      "  ..$ : chr \n",
      "  ..$ : chr \n",
      "  ..$ : chr \n",
      "  ..$ : chr \n",
      "  ..$ : chr \n",
      "  ..$ : chr \n",
      "  ..$ : chr \"Sith speeder\"\n",
      "  ..$ : chr \n",
      "  ..$ : chr \n",
      "  ..$ : chr \n",
      "  ..$ : chr \n",
      "  ..$ : chr \n",
      "  ..$ : chr \n",
      "  ..$ : chr \n",
      "  ..$ : chr \n",
      "  ..$ : chr \n",
      "  ..$ : chr \n",
      "  ..$ : chr \n",
      "  ..$ : chr \n",
      "  ..$ : chr \n",
      "  ..$ : chr \n",
      "  ..$ : chr \n",
      "  ..$ : chr \n",
      "  ..$ : chr \n",
      "  ..$ : chr \n",
      "  ..$ : chr \n",
      "  ..$ : chr \n",
      "  ..$ : chr \n",
      "  ..$ : chr \"Flitknot speeder\"\n",
      "  ..$ : chr \n",
      "  ..$ : chr \n",
      "  ..$ : chr \"Koro-2 Exodrive airspeeder\"\n",
      "  ..$ : chr \n",
      "  ..$ : chr \n",
      "  ..$ : chr \n",
      "  ..$ : chr \n",
      "  ..$ : chr \n",
      "  ..$ : chr \n",
      "  ..$ : chr \n",
      "  ..$ : chr \n",
      "  ..$ : chr \n",
      "  ..$ : chr \"Tsmeu-6 personal wheel bike\"\n",
      "  ..$ : chr \n",
      "  ..$ : chr \n",
      "  ..$ : chr \n",
      "  ..$ : chr \n",
      "  ..$ : chr \n",
      "  ..$ : chr \n",
      "  ..$ : chr \n",
      "  ..$ : chr \n",
      "  ..$ : chr \n",
      "  ..$ : chr \n",
      " $ starships :List of 87\n",
      "  ..$ : chr  \"X-wing\" \"Imperial shuttle\"\n",
      "  ..$ : chr \n",
      "  ..$ : chr \n",
      "  ..$ : chr \"TIE Advanced x1\"\n",
      "  ..$ : chr \n",
      "  ..$ : chr \n",
      "  ..$ : chr \n",
      "  ..$ : chr \n",
      "  ..$ : chr \"X-wing\"\n",
      "  ..$ : chr  \"Jedi starfighter\" \"Trade Federation cruiser\" \"Naboo star skiff\" \"Jedi Interceptor\" ...\n",
      "  ..$ : chr  \"Trade Federation cruiser\" \"Jedi Interceptor\" \"Naboo fighter\"\n",
      "  ..$ : chr \n",
      "  ..$ : chr  \"Millennium Falcon\" \"Imperial shuttle\"\n",
      "  ..$ : chr  \"Millennium Falcon\" \"Imperial shuttle\"\n",
      "  ..$ : chr \n",
      "  ..$ : chr \n",
      "  ..$ : chr \"X-wing\"\n",
      "  ..$ : chr \"X-wing\"\n",
      "  ..$ : chr \n",
      "  ..$ : chr \n",
      "  ..$ : chr \"Slave 1\"\n",
      "  ..$ : chr \n",
      "  ..$ : chr \n",
      "  ..$ : chr \"Millennium Falcon\"\n",
      "  ..$ : chr \n",
      "  ..$ : chr \n",
      "  ..$ : chr \n",
      "  ..$ : chr \"A-wing\"\n",
      "  ..$ : chr \n",
      "  ..$ : chr \"Millennium Falcon\"\n",
      "  ..$ : chr \n",
      "  ..$ : chr \n",
      "  ..$ : chr \n",
      "  ..$ : chr \n",
      "  ..$ : chr \n",
      "  ..$ : chr \n",
      "  ..$ : chr \"Naboo Royal Starship\"\n",
      "  ..$ : chr \n",
      "  ..$ : chr \n",
      "  ..$ : chr \n",
      "  ..$ : chr \n",
      "  ..$ : chr \"Scimitar\"\n",
      "  ..$ : chr \n",
      "  ..$ : chr \n",
      "  ..$ : chr \n",
      "  ..$ : chr \n",
      "  ..$ : chr \n",
      "  ..$ : chr \n",
      "  ..$ : chr \n",
      "  ..$ : chr \n",
      "  ..$ : chr \n",
      "  ..$ : chr \n",
      "  ..$ : chr \n",
      "  ..$ : chr \n",
      "  ..$ : chr \"Jedi starfighter\"\n",
      "  ..$ : chr \n",
      "  ..$ : chr \"Naboo fighter\"\n",
      "  ..$ : chr \n",
      "  ..$ : chr \n",
      "  ..$ : chr \n",
      "  ..$ : chr \n",
      "  ..$ : chr \n",
      "  ..$ : chr \n",
      "  ..$ : chr \n",
      "  ..$ : chr \n",
      "  ..$ : chr \n",
      "  ..$ : chr \n",
      "  ..$ : chr \n",
      "  ..$ : chr \n",
      "  ..$ : chr \n",
      "  ..$ : chr \n",
      "  ..$ : chr \n",
      "  ..$ : chr \n",
      "  ..$ : chr \n",
      "  ..$ : chr \n",
      "  ..$ : chr \n",
      "  ..$ : chr \"Belbullab-22 starfighter\"\n",
      "  ..$ : chr \n",
      "  ..$ : chr \n",
      "  ..$ : chr \n",
      "  ..$ : chr \n",
      "  ..$ : chr \n",
      "  ..$ : chr \n",
      "  ..$ : chr \"T-70 X-wing fighter\"\n",
      "  ..$ : chr \n",
      "  ..$ : chr \n",
      "  ..$ : chr  \"H-type Nubian yacht\" \"Naboo star skiff\" \"Naboo fighter\"\n"
     ]
    }
   ],
   "source": [
    "#### Example: pipe operator\n",
    "data(starwars) # Star Wars characters data\n",
    "str(starwars)"
   ]
  },
  {
   "cell_type": "code",
   "execution_count": 52,
   "metadata": {},
   "outputs": [
    {
     "data": {
      "text/html": [
       "31"
      ],
      "text/latex": [
       "31"
      ],
      "text/markdown": [
       "31"
      ],
      "text/plain": [
       "[1] 31"
      ]
     },
     "metadata": {},
     "output_type": "display_data"
    },
    {
     "data": {
      "text/html": [
       "31"
      ],
      "text/latex": [
       "31"
      ],
      "text/markdown": [
       "31"
      ],
      "text/plain": [
       "[1] 31"
      ]
     },
     "metadata": {},
     "output_type": "display_data"
    },
    {
     "data": {
      "text/html": [
       "<table>\n",
       "<thead><tr><th scope=col>species</th><th scope=col>N</th><th scope=col>mean_height</th><th scope=col>mean_mass</th></tr></thead>\n",
       "<tbody>\n",
       "\t<tr><td>Aleena  </td><td>1       </td><td> 79     </td><td> 15     </td></tr>\n",
       "\t<tr><td>Besalisk</td><td>1       </td><td>198     </td><td>102     </td></tr>\n",
       "\t<tr><td>Cerean  </td><td>1       </td><td>198     </td><td> 82     </td></tr>\n",
       "\t<tr><td>Chagrian</td><td>1       </td><td>196     </td><td> NA     </td></tr>\n",
       "\t<tr><td>Clawdite</td><td>1       </td><td>168     </td><td> 55     </td></tr>\n",
       "\t<tr><td>Droid   </td><td>5       </td><td> NA     </td><td> NA     </td></tr>\n",
       "</tbody>\n",
       "</table>\n"
      ],
      "text/latex": [
       "\\begin{tabular}{r|llll}\n",
       " species & N & mean\\_height & mean\\_mass\\\\\n",
       "\\hline\n",
       "\t Aleena   & 1        &  79      &  15     \\\\\n",
       "\t Besalisk & 1        & 198      & 102     \\\\\n",
       "\t Cerean   & 1        & 198      &  82     \\\\\n",
       "\t Chagrian & 1        & 196      &  NA     \\\\\n",
       "\t Clawdite & 1        & 168      &  55     \\\\\n",
       "\t Droid    & 5        &  NA      &  NA     \\\\\n",
       "\\end{tabular}\n"
      ],
      "text/markdown": [
       "\n",
       "species | N | mean_height | mean_mass | \n",
       "|---|---|---|---|---|---|\n",
       "| Aleena   | 1        |  79      |  15      | \n",
       "| Besalisk | 1        | 198      | 102      | \n",
       "| Cerean   | 1        | 198      |  82      | \n",
       "| Chagrian | 1        | 196      |  NA      | \n",
       "| Clawdite | 1        | 168      |  55      | \n",
       "| Droid    | 5        |  NA      |  NA      | \n",
       "\n",
       "\n"
      ],
      "text/plain": [
       "  species  N mean_height mean_mass\n",
       "1 Aleena   1  79          15      \n",
       "2 Besalisk 1 198         102      \n",
       "3 Cerean   1 198          82      \n",
       "4 Chagrian 1 196          NA      \n",
       "5 Clawdite 1 168          55      \n",
       "6 Droid    5  NA          NA      "
      ]
     },
     "metadata": {},
     "output_type": "display_data"
    },
    {
     "data": {
      "text/html": [
       "<table>\n",
       "<thead><tr><th scope=col>species</th><th scope=col>mean_height</th><th scope=col>mean_mass</th></tr></thead>\n",
       "<tbody>\n",
       "\t<tr><td>Aleena  </td><td> 79     </td><td> 15.00  </td></tr>\n",
       "\t<tr><td>Besalisk</td><td>198     </td><td>102.00  </td></tr>\n",
       "\t<tr><td>Cerean  </td><td>198     </td><td> 82.00  </td></tr>\n",
       "\t<tr><td>Chagrian</td><td>196     </td><td>   NaN  </td></tr>\n",
       "\t<tr><td>Clawdite</td><td>168     </td><td> 55.00  </td></tr>\n",
       "\t<tr><td>Droid   </td><td>140     </td><td> 69.75  </td></tr>\n",
       "</tbody>\n",
       "</table>\n"
      ],
      "text/latex": [
       "\\begin{tabular}{r|lll}\n",
       " species & mean\\_height & mean\\_mass\\\\\n",
       "\\hline\n",
       "\t Aleena   &  79      &  15.00  \\\\\n",
       "\t Besalisk & 198      & 102.00  \\\\\n",
       "\t Cerean   & 198      &  82.00  \\\\\n",
       "\t Chagrian & 196      &    NaN  \\\\\n",
       "\t Clawdite & 168      &  55.00  \\\\\n",
       "\t Droid    & 140      &  69.75  \\\\\n",
       "\\end{tabular}\n"
      ],
      "text/markdown": [
       "\n",
       "species | mean_height | mean_mass | \n",
       "|---|---|---|---|---|---|\n",
       "| Aleena   |  79      |  15.00   | \n",
       "| Besalisk | 198      | 102.00   | \n",
       "| Cerean   | 198      |  82.00   | \n",
       "| Chagrian | 196      |    NaN   | \n",
       "| Clawdite | 168      |  55.00   | \n",
       "| Droid    | 140      |  69.75   | \n",
       "\n",
       "\n"
      ],
      "text/plain": [
       "  species  mean_height mean_mass\n",
       "1 Aleena    79          15.00   \n",
       "2 Besalisk 198         102.00   \n",
       "3 Cerean   198          82.00   \n",
       "4 Chagrian 196            NaN   \n",
       "5 Clawdite 168          55.00   \n",
       "6 Droid    140          69.75   "
      ]
     },
     "metadata": {},
     "output_type": "display_data"
    },
    {
     "data": {
      "text/html": [
       "<table>\n",
       "<thead><tr><th scope=col>species</th><th scope=col>homeworld</th><th scope=col>N</th></tr></thead>\n",
       "<tbody>\n",
       "\t<tr><td>Aleena     </td><td>Aleen Minor</td><td>1          </td></tr>\n",
       "\t<tr><td>Besalisk   </td><td>Ojom       </td><td>1          </td></tr>\n",
       "\t<tr><td>Cerean     </td><td>Cerea      </td><td>1          </td></tr>\n",
       "\t<tr><td>Chagrian   </td><td>Champala   </td><td>1          </td></tr>\n",
       "\t<tr><td>Clawdite   </td><td>Zolan      </td><td>1          </td></tr>\n",
       "\t<tr><td>Droid      </td><td>Naboo      </td><td>1          </td></tr>\n",
       "</tbody>\n",
       "</table>\n"
      ],
      "text/latex": [
       "\\begin{tabular}{r|lll}\n",
       " species & homeworld & N\\\\\n",
       "\\hline\n",
       "\t Aleena      & Aleen Minor & 1          \\\\\n",
       "\t Besalisk    & Ojom        & 1          \\\\\n",
       "\t Cerean      & Cerea       & 1          \\\\\n",
       "\t Chagrian    & Champala    & 1          \\\\\n",
       "\t Clawdite    & Zolan       & 1          \\\\\n",
       "\t Droid       & Naboo       & 1          \\\\\n",
       "\\end{tabular}\n"
      ],
      "text/markdown": [
       "\n",
       "species | homeworld | N | \n",
       "|---|---|---|---|---|---|\n",
       "| Aleena      | Aleen Minor | 1           | \n",
       "| Besalisk    | Ojom        | 1           | \n",
       "| Cerean      | Cerea       | 1           | \n",
       "| Chagrian    | Champala    | 1           | \n",
       "| Clawdite    | Zolan       | 1           | \n",
       "| Droid       | Naboo       | 1           | \n",
       "\n",
       "\n"
      ],
      "text/plain": [
       "  species  homeworld   N\n",
       "1 Aleena   Aleen Minor 1\n",
       "2 Besalisk Ojom        1\n",
       "3 Cerean   Cerea       1\n",
       "4 Chagrian Champala    1\n",
       "5 Clawdite Zolan       1\n",
       "6 Droid    Naboo       1"
      ]
     },
     "metadata": {},
     "output_type": "display_data"
    }
   ],
   "source": [
    "## Two lines give the same results\n",
    "starwars %>% .$skin_color %>% unique %>% length # self-referencing with a period (.) then pipelining \n",
    "length(unique(starwars$skin_color))\n",
    "\n",
    "##\n",
    "starwars %>% group_by(species) %>% summarize(N = n(), mean_height = mean(height), mean_mass = mean(mass)) %>% ungroup %>% head\n",
    "starwars %>% group_by(species) %>% summarize(mean_height = mean(height, na.rm = TRUE), mean_mass = mean(mass, na.rm = TRUE)) %>% ungroup %>% head # See the difference to the previous line? :)\n",
    "## group_by multiple fields\n",
    "starwars %>% group_by(species, homeworld) %>% summarize(N = n()) %>% ungroup %>% head#\n"
   ]
  },
  {
   "cell_type": "markdown",
   "metadata": {},
   "source": [
    "## SAC: advanced\n",
    "### Selective application: `*_all`, `*_each`, `*_if`, and `*_at`\n",
    "- 제목의 `*`에는 기본편에서 살펴본 `dplyr::filter`, `dplyr::mutate`, `dplyr::summarize` 등의 함수가 들어갑니다.\n",
    "- 기본 집계, 변형, 추출 함수들을 복수의 필드에 한꺼번에 적용할 때, 상황에 맞는 덧붙임말을 넣어서 함수를 적용합니다.\n",
    "    - `*_all`\n",
    "    - `*_each`: _자료의 모든 필드에 각각_ 지정된 함수를 적용합니다.\n",
    "    - `*_if`: _주어진 조건에 맞는 필드에 한해서 각각_ 지정된 함수를 적용합니다.\n",
    "    - `*_at`: _지정한 필드에 한해서 각각_ 지정된 함수를 적용합니다."
   ]
  },
  {
   "cell_type": "code",
   "execution_count": 61,
   "metadata": {},
   "outputs": [
    {
     "data": {
      "text/html": [
       "<table>\n",
       "<thead><tr><th scope=col>species</th><th scope=col>height</th><th scope=col>mass</th></tr></thead>\n",
       "<tbody>\n",
       "\t<tr><td>Aleena  </td><td> 79     </td><td> 15.00  </td></tr>\n",
       "\t<tr><td>Besalisk</td><td>198     </td><td>102.00  </td></tr>\n",
       "\t<tr><td>Cerean  </td><td>198     </td><td> 82.00  </td></tr>\n",
       "\t<tr><td>Chagrian</td><td>196     </td><td>   NaN  </td></tr>\n",
       "\t<tr><td>Clawdite</td><td>168     </td><td> 55.00  </td></tr>\n",
       "\t<tr><td>Droid   </td><td>140     </td><td> 69.75  </td></tr>\n",
       "</tbody>\n",
       "</table>\n"
      ],
      "text/latex": [
       "\\begin{tabular}{r|lll}\n",
       " species & height & mass\\\\\n",
       "\\hline\n",
       "\t Aleena   &  79      &  15.00  \\\\\n",
       "\t Besalisk & 198      & 102.00  \\\\\n",
       "\t Cerean   & 198      &  82.00  \\\\\n",
       "\t Chagrian & 196      &    NaN  \\\\\n",
       "\t Clawdite & 168      &  55.00  \\\\\n",
       "\t Droid    & 140      &  69.75  \\\\\n",
       "\\end{tabular}\n"
      ],
      "text/markdown": [
       "\n",
       "species | height | mass | \n",
       "|---|---|---|---|---|---|\n",
       "| Aleena   |  79      |  15.00   | \n",
       "| Besalisk | 198      | 102.00   | \n",
       "| Cerean   | 198      |  82.00   | \n",
       "| Chagrian | 196      |    NaN   | \n",
       "| Clawdite | 168      |  55.00   | \n",
       "| Droid    | 140      |  69.75   | \n",
       "\n",
       "\n"
      ],
      "text/plain": [
       "  species  height mass  \n",
       "1 Aleena    79     15.00\n",
       "2 Besalisk 198    102.00\n",
       "3 Cerean   198     82.00\n",
       "4 Chagrian 196       NaN\n",
       "5 Clawdite 168     55.00\n",
       "6 Droid    140     69.75"
      ]
     },
     "metadata": {},
     "output_type": "display_data"
    },
    {
     "data": {
      "text/html": [
       "<table>\n",
       "<thead><tr><th scope=col>species</th><th scope=col>name</th><th scope=col>hair_color</th><th scope=col>skin_color</th><th scope=col>eye_color</th><th scope=col>gender</th><th scope=col>homeworld</th></tr></thead>\n",
       "<tbody>\n",
       "\t<tr><td>Aleena  </td><td>1       </td><td>1       </td><td>1       </td><td>1       </td><td>1       </td><td>1       </td></tr>\n",
       "\t<tr><td>Besalisk</td><td>1       </td><td>1       </td><td>1       </td><td>1       </td><td>1       </td><td>1       </td></tr>\n",
       "\t<tr><td>Cerean  </td><td>1       </td><td>1       </td><td>1       </td><td>1       </td><td>1       </td><td>1       </td></tr>\n",
       "\t<tr><td>Chagrian</td><td>1       </td><td>1       </td><td>1       </td><td>1       </td><td>1       </td><td>1       </td></tr>\n",
       "\t<tr><td>Clawdite</td><td>1       </td><td>1       </td><td>1       </td><td>1       </td><td>1       </td><td>1       </td></tr>\n",
       "\t<tr><td>Droid   </td><td>5       </td><td>2       </td><td>5       </td><td>3       </td><td>2       </td><td>3       </td></tr>\n",
       "</tbody>\n",
       "</table>\n"
      ],
      "text/latex": [
       "\\begin{tabular}{r|lllllll}\n",
       " species & name & hair\\_color & skin\\_color & eye\\_color & gender & homeworld\\\\\n",
       "\\hline\n",
       "\t Aleena   & 1        & 1        & 1        & 1        & 1        & 1       \\\\\n",
       "\t Besalisk & 1        & 1        & 1        & 1        & 1        & 1       \\\\\n",
       "\t Cerean   & 1        & 1        & 1        & 1        & 1        & 1       \\\\\n",
       "\t Chagrian & 1        & 1        & 1        & 1        & 1        & 1       \\\\\n",
       "\t Clawdite & 1        & 1        & 1        & 1        & 1        & 1       \\\\\n",
       "\t Droid    & 5        & 2        & 5        & 3        & 2        & 3       \\\\\n",
       "\\end{tabular}\n"
      ],
      "text/markdown": [
       "\n",
       "species | name | hair_color | skin_color | eye_color | gender | homeworld | \n",
       "|---|---|---|---|---|---|\n",
       "| Aleena   | 1        | 1        | 1        | 1        | 1        | 1        | \n",
       "| Besalisk | 1        | 1        | 1        | 1        | 1        | 1        | \n",
       "| Cerean   | 1        | 1        | 1        | 1        | 1        | 1        | \n",
       "| Chagrian | 1        | 1        | 1        | 1        | 1        | 1        | \n",
       "| Clawdite | 1        | 1        | 1        | 1        | 1        | 1        | \n",
       "| Droid    | 5        | 2        | 5        | 3        | 2        | 3        | \n",
       "\n",
       "\n"
      ],
      "text/plain": [
       "  species  name hair_color skin_color eye_color gender homeworld\n",
       "1 Aleena   1    1          1          1         1      1        \n",
       "2 Besalisk 1    1          1          1         1      1        \n",
       "3 Cerean   1    1          1          1         1      1        \n",
       "4 Chagrian 1    1          1          1         1      1        \n",
       "5 Clawdite 1    1          1          1         1      1        \n",
       "6 Droid    5    2          5          3         2      3        "
      ]
     },
     "metadata": {},
     "output_type": "display_data"
    },
    {
     "name": "stderr",
     "output_type": "stream",
     "text": [
      "Warning message in mutate_impl(.data, dots):\n",
      "\"Unequal factor levels: coercing to character\"Warning message in mutate_impl(.data, dots):\n",
      "\"binding character and factor vector, coercing into character vector\"Warning message in mutate_impl(.data, dots):\n",
      "\"binding character and factor vector, coercing into character vector\"Warning message in mutate_impl(.data, dots):\n",
      "\"binding character and factor vector, coercing into character vector\"Warning message in mutate_impl(.data, dots):\n",
      "\"binding character and factor vector, coercing into character vector\"Warning message in mutate_impl(.data, dots):\n",
      "\"binding character and factor vector, coercing into character vector\"Warning message in mutate_impl(.data, dots):\n",
      "\"binding character and factor vector, coercing into character vector\"Warning message in mutate_impl(.data, dots):\n",
      "\"binding character and factor vector, coercing into character vector\"Warning message in mutate_impl(.data, dots):\n",
      "\"binding character and factor vector, coercing into character vector\"Warning message in mutate_impl(.data, dots):\n",
      "\"binding character and factor vector, coercing into character vector\"Warning message in mutate_impl(.data, dots):\n",
      "\"binding character and factor vector, coercing into character vector\"Warning message in mutate_impl(.data, dots):\n",
      "\"binding character and factor vector, coercing into character vector\"Warning message in mutate_impl(.data, dots):\n",
      "\"binding character and factor vector, coercing into character vector\"Warning message in mutate_impl(.data, dots):\n",
      "\"binding character and factor vector, coercing into character vector\"Warning message in mutate_impl(.data, dots):\n",
      "\"binding character and factor vector, coercing into character vector\"Warning message in mutate_impl(.data, dots):\n",
      "\"binding character and factor vector, coercing into character vector\"Warning message in mutate_impl(.data, dots):\n",
      "\"binding character and factor vector, coercing into character vector\"Warning message in mutate_impl(.data, dots):\n",
      "\"binding character and factor vector, coercing into character vector\"Warning message in mutate_impl(.data, dots):\n",
      "\"binding character and factor vector, coercing into character vector\"Warning message in mutate_impl(.data, dots):\n",
      "\"binding character and factor vector, coercing into character vector\"Warning message in mutate_impl(.data, dots):\n",
      "\"binding character and factor vector, coercing into character vector\"Warning message in mutate_impl(.data, dots):\n",
      "\"binding character and factor vector, coercing into character vector\"Warning message in mutate_impl(.data, dots):\n",
      "\"binding character and factor vector, coercing into character vector\"Warning message in mutate_impl(.data, dots):\n",
      "\"binding character and factor vector, coercing into character vector\"Warning message in mutate_impl(.data, dots):\n",
      "\"binding character and factor vector, coercing into character vector\"Warning message in mutate_impl(.data, dots):\n",
      "\"binding character and factor vector, coercing into character vector\"Warning message in mutate_impl(.data, dots):\n",
      "\"binding character and factor vector, coercing into character vector\"Warning message in mutate_impl(.data, dots):\n",
      "\"binding character and factor vector, coercing into character vector\"Warning message in mutate_impl(.data, dots):\n",
      "\"binding character and factor vector, coercing into character vector\"Warning message in mutate_impl(.data, dots):\n",
      "\"binding character and factor vector, coercing into character vector\"Warning message in mutate_impl(.data, dots):\n",
      "\"binding character and factor vector, coercing into character vector\"Warning message in mutate_impl(.data, dots):\n",
      "\"binding character and factor vector, coercing into character vector\"Warning message in mutate_impl(.data, dots):\n",
      "\"binding character and factor vector, coercing into character vector\"Warning message in mutate_impl(.data, dots):\n",
      "\"binding character and factor vector, coercing into character vector\"Warning message in mutate_impl(.data, dots):\n",
      "\"binding character and factor vector, coercing into character vector\"Warning message in mutate_impl(.data, dots):\n",
      "\"binding character and factor vector, coercing into character vector\"Warning message in mutate_impl(.data, dots):\n",
      "\"binding character and factor vector, coercing into character vector\"Warning message in mutate_impl(.data, dots):\n",
      "\"binding character and factor vector, coercing into character vector\"Warning message in mutate_impl(.data, dots):\n",
      "\"binding character and factor vector, coercing into character vector\"Warning message in mutate_impl(.data, dots):\n",
      "\"Unequal factor levels: coercing to character\"Warning message in mutate_impl(.data, dots):\n",
      "\"binding character and factor vector, coercing into character vector\"Warning message in mutate_impl(.data, dots):\n",
      "\"binding character and factor vector, coercing into character vector\"Warning message in mutate_impl(.data, dots):\n",
      "\"binding character and factor vector, coercing into character vector\"Warning message in mutate_impl(.data, dots):\n",
      "\"binding character and factor vector, coercing into character vector\"Warning message in mutate_impl(.data, dots):\n",
      "\"binding character and factor vector, coercing into character vector\"Warning message in mutate_impl(.data, dots):\n",
      "\"binding character and factor vector, coercing into character vector\"Warning message in mutate_impl(.data, dots):\n",
      "\"binding character and factor vector, coercing into character vector\"Warning message in mutate_impl(.data, dots):\n",
      "\"binding character and factor vector, coercing into character vector\"Warning message in mutate_impl(.data, dots):\n",
      "\"binding character and factor vector, coercing into character vector\"Warning message in mutate_impl(.data, dots):\n",
      "\"binding character and factor vector, coercing into character vector\"Warning message in mutate_impl(.data, dots):\n",
      "\"binding character and factor vector, coercing into character vector\"Warning message in mutate_impl(.data, dots):\n",
      "\"binding character and factor vector, coercing into character vector\"Warning message in mutate_impl(.data, dots):\n",
      "\"binding character and factor vector, coercing into character vector\"Warning message in mutate_impl(.data, dots):\n",
      "\"binding character and factor vector, coercing into character vector\"Warning message in mutate_impl(.data, dots):\n",
      "\"binding character and factor vector, coercing into character vector\"Warning message in mutate_impl(.data, dots):\n",
      "\"binding character and factor vector, coercing into character vector\"Warning message in mutate_impl(.data, dots):\n",
      "\"binding character and factor vector, coercing into character vector\"Warning message in mutate_impl(.data, dots):\n",
      "\"binding character and factor vector, coercing into character vector\"Warning message in mutate_impl(.data, dots):\n",
      "\"binding character and factor vector, coercing into character vector\"Warning message in mutate_impl(.data, dots):\n",
      "\"binding character and factor vector, coercing into character vector\"Warning message in mutate_impl(.data, dots):\n",
      "\"binding character and factor vector, coercing into character vector\"Warning message in mutate_impl(.data, dots):\n",
      "\"binding character and factor vector, coercing into character vector\"Warning message in mutate_impl(.data, dots):\n",
      "\"binding character and factor vector, coercing into character vector\"Warning message in mutate_impl(.data, dots):\n",
      "\"binding character and factor vector, coercing into character vector\"Warning message in mutate_impl(.data, dots):\n",
      "\"binding character and factor vector, coercing into character vector\"Warning message in mutate_impl(.data, dots):\n",
      "\"binding character and factor vector, coercing into character vector\"Warning message in mutate_impl(.data, dots):\n",
      "\"binding character and factor vector, coercing into character vector\"Warning message in mutate_impl(.data, dots):\n",
      "\"binding character and factor vector, coercing into character vector\"Warning message in mutate_impl(.data, dots):\n",
      "\"binding character and factor vector, coercing into character vector\"Warning message in mutate_impl(.data, dots):\n",
      "\"binding character and factor vector, coercing into character vector\"Warning message in mutate_impl(.data, dots):\n",
      "\"binding character and factor vector, coercing into character vector\"Warning message in mutate_impl(.data, dots):\n",
      "\"binding character and factor vector, coercing into character vector\"Warning message in mutate_impl(.data, dots):\n",
      "\"binding character and factor vector, coercing into character vector\"Warning message in mutate_impl(.data, dots):\n",
      "\"binding character and factor vector, coercing into character vector\"Warning message in mutate_impl(.data, dots):\n",
      "\"binding character and factor vector, coercing into character vector\"Warning message in mutate_impl(.data, dots):\n",
      "\"binding character and factor vector, coercing into character vector\"Warning message in mutate_impl(.data, dots):\n",
      "\"binding character and factor vector, coercing into character vector\"Warning message in mutate_impl(.data, dots):\n",
      "\"Unequal factor levels: coercing to character\"Warning message in mutate_impl(.data, dots):\n",
      "\"binding character and factor vector, coercing into character vector\"Warning message in mutate_impl(.data, dots):\n",
      "\"binding character and factor vector, coercing into character vector\"Warning message in mutate_impl(.data, dots):\n",
      "\"binding character and factor vector, coercing into character vector\"Warning message in mutate_impl(.data, dots):\n",
      "\"binding character and factor vector, coercing into character vector\"Warning message in mutate_impl(.data, dots):\n",
      "\"binding character and factor vector, coercing into character vector\"Warning message in mutate_impl(.data, dots):\n",
      "\"binding character and factor vector, coercing into character vector\"Warning message in mutate_impl(.data, dots):\n",
      "\"binding character and factor vector, coercing into character vector\"Warning message in mutate_impl(.data, dots):\n",
      "\"binding character and factor vector, coercing into character vector\"Warning message in mutate_impl(.data, dots):\n",
      "\"binding character and factor vector, coercing into character vector\"Warning message in mutate_impl(.data, dots):\n",
      "\"binding character and factor vector, coercing into character vector\"Warning message in mutate_impl(.data, dots):\n",
      "\"binding character and factor vector, coercing into character vector\"Warning message in mutate_impl(.data, dots):\n",
      "\"binding character and factor vector, coercing into character vector\"Warning message in mutate_impl(.data, dots):\n",
      "\"binding character and factor vector, coercing into character vector\"Warning message in mutate_impl(.data, dots):\n",
      "\"binding character and factor vector, coercing into character vector\"Warning message in mutate_impl(.data, dots):\n",
      "\"binding character and factor vector, coercing into character vector\"Warning message in mutate_impl(.data, dots):\n",
      "\"binding character and factor vector, coercing into character vector\"Warning message in mutate_impl(.data, dots):\n",
      "\"binding character and factor vector, coercing into character vector\"Warning message in mutate_impl(.data, dots):\n",
      "\"binding character and factor vector, coercing into character vector\"Warning message in mutate_impl(.data, dots):\n",
      "\"binding character and factor vector, coercing into character vector\"Warning message in mutate_impl(.data, dots):\n",
      "\"binding character and factor vector, coercing into character vector\"Warning message in mutate_impl(.data, dots):\n",
      "\"binding character and factor vector, coercing into character vector\"Warning message in mutate_impl(.data, dots):\n",
      "\"binding character and factor vector, coercing into character vector\"Warning message in mutate_impl(.data, dots):\n",
      "\"binding character and factor vector, coercing into character vector\"Warning message in mutate_impl(.data, dots):\n",
      "\"binding character and factor vector, coercing into character vector\"Warning message in mutate_impl(.data, dots):\n",
      "\"binding character and factor vector, coercing into character vector\"Warning message in mutate_impl(.data, dots):\n",
      "\"binding character and factor vector, coercing into character vector\"Warning message in mutate_impl(.data, dots):\n",
      "\"binding character and factor vector, coercing into character vector\"Warning message in mutate_impl(.data, dots):\n",
      "\"binding character and factor vector, coercing into character vector\"Warning message in mutate_impl(.data, dots):\n",
      "\"binding character and factor vector, coercing into character vector\"Warning message in mutate_impl(.data, dots):\n",
      "\"binding character and factor vector, coercing into character vector\"Warning message in mutate_impl(.data, dots):\n",
      "\"binding character and factor vector, coercing into character vector\"Warning message in mutate_impl(.data, dots):\n",
      "\"binding character and factor vector, coercing into character vector\"Warning message in mutate_impl(.data, dots):\n",
      "\"binding character and factor vector, coercing into character vector\"Warning message in mutate_impl(.data, dots):\n",
      "\"binding character and factor vector, coercing into character vector\"Warning message in mutate_impl(.data, dots):\n",
      "\"binding character and factor vector, coercing into character vector\"Warning message in mutate_impl(.data, dots):\n",
      "\"binding character and factor vector, coercing into character vector\"Warning message in mutate_impl(.data, dots):\n",
      "\"binding character and factor vector, coercing into character vector\"Warning message in mutate_impl(.data, dots):\n",
      "\"binding character and factor vector, coercing into character vector\"Warning message in mutate_impl(.data, dots):\n",
      "\"Unequal factor levels: coercing to character\"Warning message in mutate_impl(.data, dots):\n",
      "\"binding character and factor vector, coercing into character vector\"Warning message in mutate_impl(.data, dots):\n",
      "\"binding character and factor vector, coercing into character vector\"Warning message in mutate_impl(.data, dots):\n",
      "\"binding character and factor vector, coercing into character vector\"Warning message in mutate_impl(.data, dots):\n",
      "\"binding character and factor vector, coercing into character vector\"Warning message in mutate_impl(.data, dots):\n",
      "\"binding character and factor vector, coercing into character vector\"Warning message in mutate_impl(.data, dots):\n",
      "\"binding character and factor vector, coercing into character vector\"Warning message in mutate_impl(.data, dots):\n",
      "\"binding character and factor vector, coercing into character vector\"Warning message in mutate_impl(.data, dots):\n",
      "\"binding character and factor vector, coercing into character vector\"Warning message in mutate_impl(.data, dots):\n",
      "\"binding character and factor vector, coercing into character vector\"Warning message in mutate_impl(.data, dots):\n",
      "\"binding character and factor vector, coercing into character vector\"Warning message in mutate_impl(.data, dots):\n",
      "\"binding character and factor vector, coercing into character vector\"Warning message in mutate_impl(.data, dots):\n",
      "\"binding character and factor vector, coercing into character vector\"Warning message in mutate_impl(.data, dots):\n",
      "\"binding character and factor vector, coercing into character vector\"Warning message in mutate_impl(.data, dots):\n",
      "\"binding character and factor vector, coercing into character vector\"Warning message in mutate_impl(.data, dots):\n",
      "\"binding character and factor vector, coercing into character vector\"Warning message in mutate_impl(.data, dots):\n",
      "\"binding character and factor vector, coercing into character vector\"Warning message in mutate_impl(.data, dots):\n",
      "\"binding character and factor vector, coercing into character vector\"Warning message in mutate_impl(.data, dots):\n",
      "\"binding character and factor vector, coercing into character vector\"Warning message in mutate_impl(.data, dots):\n",
      "\"binding character and factor vector, coercing into character vector\"Warning message in mutate_impl(.data, dots):\n",
      "\"binding character and factor vector, coercing into character vector\"Warning message in mutate_impl(.data, dots):\n",
      "\"binding character and factor vector, coercing into character vector\"Warning message in mutate_impl(.data, dots):\n",
      "\"binding character and factor vector, coercing into character vector\"Warning message in mutate_impl(.data, dots):\n",
      "\"binding character and factor vector, coercing into character vector\"Warning message in mutate_impl(.data, dots):\n",
      "\"binding character and factor vector, coercing into character vector\"Warning message in mutate_impl(.data, dots):\n",
      "\"binding character and factor vector, coercing into character vector\"Warning message in mutate_impl(.data, dots):\n",
      "\"binding character and factor vector, coercing into character vector\"Warning message in mutate_impl(.data, dots):\n",
      "\"binding character and factor vector, coercing into character vector\"Warning message in mutate_impl(.data, dots):\n",
      "\"binding character and factor vector, coercing into character vector\"Warning message in mutate_impl(.data, dots):\n",
      "\"binding character and factor vector, coercing into character vector\"Warning message in mutate_impl(.data, dots):\n",
      "\"binding character and factor vector, coercing into character vector\"Warning message in mutate_impl(.data, dots):\n",
      "\"binding character and factor vector, coercing into character vector\"Warning message in mutate_impl(.data, dots):\n",
      "\"binding character and factor vector, coercing into character vector\"Warning message in mutate_impl(.data, dots):\n",
      "\"binding character and factor vector, coercing into character vector\"Warning message in mutate_impl(.data, dots):\n",
      "\"binding character and factor vector, coercing into character vector\"Warning message in mutate_impl(.data, dots):\n",
      "\"binding character and factor vector, coercing into character vector\"Warning message in mutate_impl(.data, dots):\n",
      "\"binding character and factor vector, coercing into character vector\"Warning message in mutate_impl(.data, dots):\n",
      "\"binding character and factor vector, coercing into character vector\"Warning message in mutate_impl(.data, dots):\n",
      "\"binding character and factor vector, coercing into character vector\"Warning message in mutate_impl(.data, dots):\n",
      "\"Unequal factor levels: coercing to character\"Warning message in mutate_impl(.data, dots):\n",
      "\"binding character and factor vector, coercing into character vector\"Warning message in mutate_impl(.data, dots):\n",
      "\"binding character and factor vector, coercing into character vector\"Warning message in mutate_impl(.data, dots):\n",
      "\"binding character and factor vector, coercing into character vector\"Warning message in mutate_impl(.data, dots):\n",
      "\"binding character and factor vector, coercing into character vector\"Warning message in mutate_impl(.data, dots):\n",
      "\"binding character and factor vector, coercing into character vector\"Warning message in mutate_impl(.data, dots):\n",
      "\"binding character and factor vector, coercing into character vector\"Warning message in mutate_impl(.data, dots):\n",
      "\"binding character and factor vector, coercing into character vector\"Warning message in mutate_impl(.data, dots):\n",
      "\"binding character and factor vector, coercing into character vector\"Warning message in mutate_impl(.data, dots):\n",
      "\"binding character and factor vector, coercing into character vector\"Warning message in mutate_impl(.data, dots):\n",
      "\"binding character and factor vector, coercing into character vector\"Warning message in mutate_impl(.data, dots):\n",
      "\"binding character and factor vector, coercing into character vector\"Warning message in mutate_impl(.data, dots):\n",
      "\"binding character and factor vector, coercing into character vector\"Warning message in mutate_impl(.data, dots):\n",
      "\"binding character and factor vector, coercing into character vector\"Warning message in mutate_impl(.data, dots):\n",
      "\"binding character and factor vector, coercing into character vector\"Warning message in mutate_impl(.data, dots):\n",
      "\"binding character and factor vector, coercing into character vector\"Warning message in mutate_impl(.data, dots):\n",
      "\"binding character and factor vector, coercing into character vector\"Warning message in mutate_impl(.data, dots):\n",
      "\"binding character and factor vector, coercing into character vector\"Warning message in mutate_impl(.data, dots):\n",
      "\"binding character and factor vector, coercing into character vector\"Warning message in mutate_impl(.data, dots):\n",
      "\"binding character and factor vector, coercing into character vector\"Warning message in mutate_impl(.data, dots):\n",
      "\"binding character and factor vector, coercing into character vector\"Warning message in mutate_impl(.data, dots):\n",
      "\"binding character and factor vector, coercing into character vector\"Warning message in mutate_impl(.data, dots):\n",
      "\"binding character and factor vector, coercing into character vector\"Warning message in mutate_impl(.data, dots):\n",
      "\"binding character and factor vector, coercing into character vector\"Warning message in mutate_impl(.data, dots):\n",
      "\"binding character and factor vector, coercing into character vector\"Warning message in mutate_impl(.data, dots):\n",
      "\"binding character and factor vector, coercing into character vector\"Warning message in mutate_impl(.data, dots):\n",
      "\"binding character and factor vector, coercing into character vector\"Warning message in mutate_impl(.data, dots):\n",
      "\"binding character and factor vector, coercing into character vector\"Warning message in mutate_impl(.data, dots):\n",
      "\"binding character and factor vector, coercing into character vector\"Warning message in mutate_impl(.data, dots):\n",
      "\"binding character and factor vector, coercing into character vector\"Warning message in mutate_impl(.data, dots):\n",
      "\"binding character and factor vector, coercing into character vector\"Warning message in mutate_impl(.data, dots):\n",
      "\"binding character and factor vector, coercing into character vector\"Warning message in mutate_impl(.data, dots):\n",
      "\"binding character and factor vector, coercing into character vector\"Warning message in mutate_impl(.data, dots):\n",
      "\"binding character and factor vector, coercing into character vector\"Warning message in mutate_impl(.data, dots):\n",
      "\"binding character and factor vector, coercing into character vector\"Warning message in mutate_impl(.data, dots):\n",
      "\"binding character and factor vector, coercing into character vector\"Warning message in mutate_impl(.data, dots):\n",
      "\"Unequal factor levels: coercing to character\"Warning message in mutate_impl(.data, dots):\n",
      "\"binding character and factor vector, coercing into character vector\"Warning message in mutate_impl(.data, dots):\n",
      "\"binding character and factor vector, coercing into character vector\"Warning message in mutate_impl(.data, dots):\n",
      "\"binding character and factor vector, coercing into character vector\"Warning message in mutate_impl(.data, dots):\n",
      "\"binding character and factor vector, coercing into character vector\"Warning message in mutate_impl(.data, dots):\n",
      "\"binding character and factor vector, coercing into character vector\"Warning message in mutate_impl(.data, dots):\n",
      "\"binding character and factor vector, coercing into character vector\"Warning message in mutate_impl(.data, dots):\n",
      "\"binding character and factor vector, coercing into character vector\"Warning message in mutate_impl(.data, dots):\n",
      "\"binding character and factor vector, coercing into character vector\"Warning message in mutate_impl(.data, dots):\n",
      "\"binding character and factor vector, coercing into character vector\"Warning message in mutate_impl(.data, dots):\n",
      "\"binding character and factor vector, coercing into character vector\"Warning message in mutate_impl(.data, dots):\n",
      "\"binding character and factor vector, coercing into character vector\"Warning message in mutate_impl(.data, dots):\n",
      "\"binding character and factor vector, coercing into character vector\"Warning message in mutate_impl(.data, dots):\n",
      "\"binding character and factor vector, coercing into character vector\"Warning message in mutate_impl(.data, dots):\n",
      "\"binding character and factor vector, coercing into character vector\"Warning message in mutate_impl(.data, dots):\n",
      "\"binding character and factor vector, coercing into character vector\"Warning message in mutate_impl(.data, dots):\n",
      "\"binding character and factor vector, coercing into character vector\"Warning message in mutate_impl(.data, dots):\n",
      "\"binding character and factor vector, coercing into character vector\"Warning message in mutate_impl(.data, dots):\n",
      "\"binding character and factor vector, coercing into character vector\"Warning message in mutate_impl(.data, dots):\n",
      "\"binding character and factor vector, coercing into character vector\"Warning message in mutate_impl(.data, dots):\n",
      "\"binding character and factor vector, coercing into character vector\"Warning message in mutate_impl(.data, dots):\n",
      "\"binding character and factor vector, coercing into character vector\"Warning message in mutate_impl(.data, dots):\n",
      "\"binding character and factor vector, coercing into character vector\"Warning message in mutate_impl(.data, dots):\n",
      "\"binding character and factor vector, coercing into character vector\"Warning message in mutate_impl(.data, dots):\n",
      "\"binding character and factor vector, coercing into character vector\"Warning message in mutate_impl(.data, dots):\n",
      "\"binding character and factor vector, coercing into character vector\"Warning message in mutate_impl(.data, dots):\n",
      "\"binding character and factor vector, coercing into character vector\"Warning message in mutate_impl(.data, dots):\n",
      "\"binding character and factor vector, coercing into character vector\"Warning message in mutate_impl(.data, dots):\n",
      "\"binding character and factor vector, coercing into character vector\"Warning message in mutate_impl(.data, dots):\n",
      "\"binding character and factor vector, coercing into character vector\"Warning message in mutate_impl(.data, dots):\n",
      "\"binding character and factor vector, coercing into character vector\"Warning message in mutate_impl(.data, dots):\n",
      "\"binding character and factor vector, coercing into character vector\"Warning message in mutate_impl(.data, dots):\n",
      "\"binding character and factor vector, coercing into character vector\"Warning message in mutate_impl(.data, dots):\n",
      "\"binding character and factor vector, coercing into character vector\"Warning message in mutate_impl(.data, dots):\n",
      "\"binding character and factor vector, coercing into character vector\"Warning message in mutate_impl(.data, dots):\n",
      "\"binding character and factor vector, coercing into character vector\"Warning message in mutate_impl(.data, dots):\n",
      "\"binding character and factor vector, coercing into character vector\"Warning message in mutate_impl(.data, dots):\n",
      "\"binding character and factor vector, coercing into character vector\"Warning message in mutate_impl(.data, dots):\n",
      "\"binding character and factor vector, coercing into character vector\""
     ]
    },
    {
     "data": {
      "text/html": [
       "<table>\n",
       "<thead><tr><th scope=col>species</th><th scope=col>name</th><th scope=col>height</th><th scope=col>mass</th><th scope=col>hair_color</th><th scope=col>skin_color</th><th scope=col>eye_color</th><th scope=col>birth_year</th><th scope=col>gender</th><th scope=col>homeworld</th><th scope=col>films</th><th scope=col>vehicles</th><th scope=col>starships</th></tr></thead>\n",
       "<tbody>\n",
       "\t<tr><td>Aleena  </td><td>1       </td><td>1       </td><td>1       </td><td>1       </td><td>1       </td><td>1       </td><td>1       </td><td>1       </td><td>1       </td><td>1       </td><td>1       </td><td>1       </td></tr>\n",
       "\t<tr><td>Besalisk</td><td>1       </td><td>1       </td><td>1       </td><td>1       </td><td>1       </td><td>1       </td><td>1       </td><td>1       </td><td>1       </td><td>1       </td><td>1       </td><td>1       </td></tr>\n",
       "\t<tr><td>Cerean  </td><td>1       </td><td>1       </td><td>1       </td><td>1       </td><td>1       </td><td>1       </td><td>1       </td><td>1       </td><td>1       </td><td>1       </td><td>1       </td><td>1       </td></tr>\n",
       "\t<tr><td>Chagrian</td><td>1       </td><td>1       </td><td>1       </td><td>1       </td><td>1       </td><td>1       </td><td>1       </td><td>1       </td><td>1       </td><td>1       </td><td>1       </td><td>1       </td></tr>\n",
       "\t<tr><td>Clawdite</td><td>1       </td><td>1       </td><td>1       </td><td>1       </td><td>1       </td><td>1       </td><td>1       </td><td>1       </td><td>1       </td><td>1       </td><td>1       </td><td>1       </td></tr>\n",
       "\t<tr><td>Droid   </td><td>5       </td><td>5       </td><td>4       </td><td>2       </td><td>5       </td><td>3       </td><td>4       </td><td>2       </td><td>3       </td><td>5       </td><td>1       </td><td>1       </td></tr>\n",
       "</tbody>\n",
       "</table>\n"
      ],
      "text/latex": [
       "\\begin{tabular}{r|lllllllllllll}\n",
       " species & name & height & mass & hair\\_color & skin\\_color & eye\\_color & birth\\_year & gender & homeworld & films & vehicles & starships\\\\\n",
       "\\hline\n",
       "\t Aleena   & 1        & 1        & 1        & 1        & 1        & 1        & 1        & 1        & 1        & 1        & 1        & 1       \\\\\n",
       "\t Besalisk & 1        & 1        & 1        & 1        & 1        & 1        & 1        & 1        & 1        & 1        & 1        & 1       \\\\\n",
       "\t Cerean   & 1        & 1        & 1        & 1        & 1        & 1        & 1        & 1        & 1        & 1        & 1        & 1       \\\\\n",
       "\t Chagrian & 1        & 1        & 1        & 1        & 1        & 1        & 1        & 1        & 1        & 1        & 1        & 1       \\\\\n",
       "\t Clawdite & 1        & 1        & 1        & 1        & 1        & 1        & 1        & 1        & 1        & 1        & 1        & 1       \\\\\n",
       "\t Droid    & 5        & 5        & 4        & 2        & 5        & 3        & 4        & 2        & 3        & 5        & 1        & 1       \\\\\n",
       "\\end{tabular}\n"
      ],
      "text/markdown": [
       "\n",
       "species | name | height | mass | hair_color | skin_color | eye_color | birth_year | gender | homeworld | films | vehicles | starships | \n",
       "|---|---|---|---|---|---|\n",
       "| Aleena   | 1        | 1        | 1        | 1        | 1        | 1        | 1        | 1        | 1        | 1        | 1        | 1        | \n",
       "| Besalisk | 1        | 1        | 1        | 1        | 1        | 1        | 1        | 1        | 1        | 1        | 1        | 1        | \n",
       "| Cerean   | 1        | 1        | 1        | 1        | 1        | 1        | 1        | 1        | 1        | 1        | 1        | 1        | \n",
       "| Chagrian | 1        | 1        | 1        | 1        | 1        | 1        | 1        | 1        | 1        | 1        | 1        | 1        | \n",
       "| Clawdite | 1        | 1        | 1        | 1        | 1        | 1        | 1        | 1        | 1        | 1        | 1        | 1        | \n",
       "| Droid    | 5        | 5        | 4        | 2        | 5        | 3        | 4        | 2        | 3        | 5        | 1        | 1        | \n",
       "\n",
       "\n"
      ],
      "text/plain": [
       "  species  name height mass hair_color skin_color eye_color birth_year gender\n",
       "1 Aleena   1    1      1    1          1          1         1          1     \n",
       "2 Besalisk 1    1      1    1          1          1         1          1     \n",
       "3 Cerean   1    1      1    1          1          1         1          1     \n",
       "4 Chagrian 1    1      1    1          1          1         1          1     \n",
       "5 Clawdite 1    1      1    1          1          1         1          1     \n",
       "6 Droid    5    5      4    2          5          3         4          2     \n",
       "  homeworld films vehicles starships\n",
       "1 1         1     1        1        \n",
       "2 1         1     1        1        \n",
       "3 1         1     1        1        \n",
       "4 1         1     1        1        \n",
       "5 1         1     1        1        \n",
       "6 3         5     1        1        "
      ]
     },
     "metadata": {},
     "output_type": "display_data"
    }
   ],
   "source": [
    "# Compute mean height and mean mass of all species, along with excluding NA values\n",
    "starwars %>% group_by(species) %>% summarize_at(.vars = vars(height, mass), .funs = funs(mean(., na.rm = TRUE))) %>% ungroup %>% head\n",
    "# Count the number of unique values in character fields\n",
    "starwars %>% group_by(species) %>% summarize_if(.predicate = is.character, .funs = funs(length(unique(.)))) %>% ungroup %>% head\n",
    "# Find all character fields then change classes of values therein to factor, then count the number of unique values in each field\n",
    "starwars %>% group_by(species) %>% mutate_if(.predicate = is.character, .funs = as.factor) %>% summarize_all(.funs = funs(length(unique(.)))) %>% ungroup %>% head"
   ]
  },
  {
   "cell_type": "markdown",
   "metadata": {},
   "source": [
    "## Data transformation\n",
    "### Long/wide data frame\n",
    "- 분류 속성을 어떻게 처리하는가에 따른 `data.frame`의 분류입니다.\n",
    "    - long format: 분류 속성이 하나의 필드에 정리되어 세로로 긴 형태의 data frame\n",
    "    - wide format: 분류 속성이 각 필드에 정리되어 가로로 긴 형태의 data frame\n",
    "    - 우리는 앞으로 wide data frame을 long data frame으로 자주 바꾸게 됩니다. 시각화 파트에서 다룰 `ggplot2` 패키지가 long data frame에 친화적으로 되어 있기 때문입니다.\n",
    "- `tidyr::spread`와 `tidyr::gather`는 각각 long-wide, wide-long 변환을 수행하는 함수입니다.\n",
    "    - 인수 `key`는 분류 속성을 의미합니다.\n",
    "    - 인수 `value`는 채워넣을 값이 있는 필드를 의미합니다.\n",
    "- 아래 코드 블록은 Star Wars의 인물들을 성별과 눈동자 색에 따라 키와 몸무게의 평균이 어떠한지를 요약합니다. 분류 속성은 `gender`와 `eye_color`입니다.\n",
    "- 정리된 내용을 각각 `gender`의 속성과 `eye_color`의 속성에 따라서 `height`와 `mass`를 나타내도록, 즉 wide format으로 바꾸어 보겠습니다.\n",
    "- 아래 예시를 잘 활용하면 분류 속성이 여러 차원일 때, 데이터를 효과적으로 요약하여 제시할 수 있습니다."
   ]
  },
  {
   "cell_type": "code",
   "execution_count": 33,
   "metadata": {},
   "outputs": [
    {
     "data": {
      "text/html": [
       "<table>\n",
       "<thead><tr><th scope=col>eye_color</th><th scope=col>female_height</th><th scope=col>female_mass</th><th scope=col>hermaphrodite_height</th><th scope=col>hermaphrodite_mass</th><th scope=col>male_height</th><th scope=col>male_mass</th><th scope=col>NA_height</th><th scope=col>NA_mass</th><th scope=col>none_height</th><th scope=col>none_mass</th></tr></thead>\n",
       "<tbody>\n",
       "\t<tr><td>black    </td><td>195.5    </td><td>57.0     </td><td>NA       </td><td>NA       </td><td>182.0000 </td><td> 79.50000</td><td>NA       </td><td>NA       </td><td>NaN      </td><td>NaN      </td></tr>\n",
       "\t<tr><td>blue     </td><td>167.0    </td><td>57.8     </td><td>NA       </td><td>NA       </td><td>189.2308 </td><td>100.87500</td><td>NA       </td><td>NA       </td><td> NA      </td><td> NA      </td></tr>\n",
       "\t<tr><td>blue-gray</td><td>   NA    </td><td>  NA     </td><td>NA       </td><td>NA       </td><td>182.0000 </td><td> 77.00000</td><td>NA       </td><td>NA       </td><td> NA      </td><td> NA      </td></tr>\n",
       "\t<tr><td>brown    </td><td>160.0    </td><td>47.0     </td><td>NA       </td><td>NA       </td><td>168.5000 </td><td> 69.56364</td><td>NA       </td><td>NA       </td><td> NA      </td><td> NA      </td></tr>\n",
       "\t<tr><td>dark     </td><td>   NA    </td><td>  NA     </td><td>NA       </td><td>NA       </td><td>     NaN </td><td>      NaN</td><td>NA       </td><td>NA       </td><td> NA      </td><td> NA      </td></tr>\n",
       "</tbody>\n",
       "</table>\n"
      ],
      "text/latex": [
       "\\begin{tabular}{r|lllllllllll}\n",
       " eye\\_color & female\\_height & female\\_mass & hermaphrodite\\_height & hermaphrodite\\_mass & male\\_height & male\\_mass & NA\\_height & NA\\_mass & none\\_height & none\\_mass\\\\\n",
       "\\hline\n",
       "\t black     & 195.5     & 57.0      & NA        & NA        & 182.0000  &  79.50000 & NA        & NA        & NaN       & NaN      \\\\\n",
       "\t blue      & 167.0     & 57.8      & NA        & NA        & 189.2308  & 100.87500 & NA        & NA        &  NA       &  NA      \\\\\n",
       "\t blue-gray &    NA     &   NA      & NA        & NA        & 182.0000  &  77.00000 & NA        & NA        &  NA       &  NA      \\\\\n",
       "\t brown     & 160.0     & 47.0      & NA        & NA        & 168.5000  &  69.56364 & NA        & NA        &  NA       &  NA      \\\\\n",
       "\t dark      &    NA     &   NA      & NA        & NA        &      NaN  &       NaN & NA        & NA        &  NA       &  NA      \\\\\n",
       "\\end{tabular}\n"
      ],
      "text/markdown": [
       "\n",
       "eye_color | female_height | female_mass | hermaphrodite_height | hermaphrodite_mass | male_height | male_mass | NA_height | NA_mass | none_height | none_mass | \n",
       "|---|---|---|---|---|\n",
       "| black     | 195.5     | 57.0      | NA        | NA        | 182.0000  |  79.50000 | NA        | NA        | NaN       | NaN       | \n",
       "| blue      | 167.0     | 57.8      | NA        | NA        | 189.2308  | 100.87500 | NA        | NA        |  NA       |  NA       | \n",
       "| blue-gray |    NA     |   NA      | NA        | NA        | 182.0000  |  77.00000 | NA        | NA        |  NA       |  NA       | \n",
       "| brown     | 160.0     | 47.0      | NA        | NA        | 168.5000  |  69.56364 | NA        | NA        |  NA       |  NA       | \n",
       "| dark      |    NA     |   NA      | NA        | NA        |      NaN  |       NaN | NA        | NA        |  NA       |  NA       | \n",
       "\n",
       "\n"
      ],
      "text/plain": [
       "  eye_color female_height female_mass hermaphrodite_height hermaphrodite_mass\n",
       "1 black     195.5         57.0        NA                   NA                \n",
       "2 blue      167.0         57.8        NA                   NA                \n",
       "3 blue-gray    NA           NA        NA                   NA                \n",
       "4 brown     160.0         47.0        NA                   NA                \n",
       "5 dark         NA           NA        NA                   NA                \n",
       "  male_height male_mass NA_height NA_mass none_height none_mass\n",
       "1 182.0000     79.50000 NA        NA      NaN         NaN      \n",
       "2 189.2308    100.87500 NA        NA       NA          NA      \n",
       "3 182.0000     77.00000 NA        NA       NA          NA      \n",
       "4 168.5000     69.56364 NA        NA       NA          NA      \n",
       "5      NaN          NaN NA        NA       NA          NA      "
      ]
     },
     "metadata": {},
     "output_type": "display_data"
    },
    {
     "data": {
      "text/html": [
       "<table>\n",
       "<thead><tr><th scope=col>gender</th><th scope=col>black_height</th><th scope=col>black_mass</th><th scope=col>blue-gray_height</th><th scope=col>blue-gray_mass</th><th scope=col>blue_height</th><th scope=col>blue_mass</th><th scope=col>brown_height</th><th scope=col>brown_mass</th><th scope=col>dark_height</th><th scope=col>...</th><th scope=col>red, blue_height</th><th scope=col>red, blue_mass</th><th scope=col>red_height</th><th scope=col>red_mass</th><th scope=col>unknown_height</th><th scope=col>unknown_mass</th><th scope=col>white_height</th><th scope=col>white_mass</th><th scope=col>yellow_height</th><th scope=col>yellow_mass</th></tr></thead>\n",
       "<tbody>\n",
       "\t<tr><td>female       </td><td>195.5        </td><td>57.0         </td><td> NA          </td><td>NA           </td><td>167.0000     </td><td> 57.800      </td><td>160.0        </td><td>47.00000     </td><td> NA          </td><td>...          </td><td>96           </td><td>NaN          </td><td>   NA        </td><td>   NA        </td><td>NaN          </td><td> NaN         </td><td>178          </td><td>48           </td><td>168.0000     </td><td>55.00000     </td></tr>\n",
       "\t<tr><td>hermaphrodite</td><td>   NA        </td><td>  NA         </td><td> NA          </td><td>NA           </td><td>      NA     </td><td>     NA      </td><td>   NA        </td><td>      NA     </td><td> NA          </td><td>...          </td><td>NA           </td><td> NA          </td><td>   NA        </td><td>   NA        </td><td> NA          </td><td>  NA         </td><td> NA          </td><td>NA           </td><td>      NA     </td><td>      NA     </td></tr>\n",
       "\t<tr><td>male         </td><td>182.0        </td><td>79.5         </td><td>182          </td><td>77           </td><td>189.2308     </td><td>100.875      </td><td>168.5        </td><td>69.56364     </td><td>NaN          </td><td>...          </td><td>NA           </td><td> NA          </td><td>190.5        </td><td>101.5        </td><td>136          </td><td>31.5         </td><td> NA          </td><td>NA           </td><td>180.1111     </td><td>85.71429     </td></tr>\n",
       "\t<tr><td>none         </td><td>  NaN        </td><td> NaN         </td><td> NA          </td><td>NA           </td><td>      NA     </td><td>     NA      </td><td>   NA        </td><td>      NA     </td><td> NA          </td><td>...          </td><td>NA           </td><td> NA          </td><td>200.0        </td><td>140.0        </td><td> NA          </td><td>  NA         </td><td> NA          </td><td>NA           </td><td>      NA     </td><td>      NA     </td></tr>\n",
       "\t<tr><td>NA           </td><td>   NA        </td><td>  NA         </td><td> NA          </td><td>NA           </td><td>      NA     </td><td>     NA      </td><td>   NA        </td><td>      NA     </td><td> NA          </td><td>...          </td><td>NA           </td><td> NA          </td><td> 96.5        </td><td> 32.0        </td><td> NA          </td><td>  NA         </td><td> NA          </td><td>NA           </td><td>167.0000     </td><td>75.00000     </td></tr>\n",
       "</tbody>\n",
       "</table>\n"
      ],
      "text/latex": [
       "\\begin{tabular}{r|lllllllllllllllllllllllllllllll}\n",
       " gender & black\\_height & black\\_mass & blue-gray\\_height & blue-gray\\_mass & blue\\_height & blue\\_mass & brown\\_height & brown\\_mass & dark\\_height & ... & red, blue\\_height & red, blue\\_mass & red\\_height & red\\_mass & unknown\\_height & unknown\\_mass & white\\_height & white\\_mass & yellow\\_height & yellow\\_mass\\\\\n",
       "\\hline\n",
       "\t female        & 195.5         & 57.0          &  NA           & NA            & 167.0000      &  57.800       & 160.0         & 47.00000      &  NA           & ...           & 96            & NaN           &    NA         &    NA         & NaN           &  NaN          & 178           & 48            & 168.0000      & 55.00000     \\\\\n",
       "\t hermaphrodite &    NA         &   NA          &  NA           & NA            &       NA      &      NA       &    NA         &       NA      &  NA           & ...           & NA            &  NA           &    NA         &    NA         &  NA           &   NA          &  NA           & NA            &       NA      &       NA     \\\\\n",
       "\t male          & 182.0         & 79.5          & 182           & 77            & 189.2308      & 100.875       & 168.5         & 69.56364      & NaN           & ...           & NA            &  NA           & 190.5         & 101.5         & 136           & 31.5          &  NA           & NA            & 180.1111      & 85.71429     \\\\\n",
       "\t none          &   NaN         &  NaN          &  NA           & NA            &       NA      &      NA       &    NA         &       NA      &  NA           & ...           & NA            &  NA           & 200.0         & 140.0         &  NA           &   NA          &  NA           & NA            &       NA      &       NA     \\\\\n",
       "\t NA            &    NA         &   NA          &  NA           & NA            &       NA      &      NA       &    NA         &       NA      &  NA           & ...           & NA            &  NA           &  96.5         &  32.0         &  NA           &   NA          &  NA           & NA            & 167.0000      & 75.00000     \\\\\n",
       "\\end{tabular}\n"
      ],
      "text/markdown": [
       "\n",
       "gender | black_height | black_mass | blue-gray_height | blue-gray_mass | blue_height | blue_mass | brown_height | brown_mass | dark_height | ... | red, blue_height | red, blue_mass | red_height | red_mass | unknown_height | unknown_mass | white_height | white_mass | yellow_height | yellow_mass | \n",
       "|---|---|---|---|---|\n",
       "| female        | 195.5         | 57.0          |  NA           | NA            | 167.0000      |  57.800       | 160.0         | 47.00000      |  NA           | ...           | 96            | NaN           |    NA         |    NA         | NaN           |  NaN          | 178           | 48            | 168.0000      | 55.00000      | \n",
       "| hermaphrodite |    NA         |   NA          |  NA           | NA            |       NA      |      NA       |    NA         |       NA      |  NA           | ...           | NA            |  NA           |    NA         |    NA         |  NA           |   NA          |  NA           | NA            |       NA      |       NA      | \n",
       "| male          | 182.0         | 79.5          | 182           | 77            | 189.2308      | 100.875       | 168.5         | 69.56364      | NaN           | ...           | NA            |  NA           | 190.5         | 101.5         | 136           | 31.5          |  NA           | NA            | 180.1111      | 85.71429      | \n",
       "| none          |   NaN         |  NaN          |  NA           | NA            |       NA      |      NA       |    NA         |       NA      |  NA           | ...           | NA            |  NA           | 200.0         | 140.0         |  NA           |   NA          |  NA           | NA            |       NA      |       NA      | \n",
       "| NA            |    NA         |   NA          |  NA           | NA            |       NA      |      NA       |    NA         |       NA      |  NA           | ...           | NA            |  NA           |  96.5         |  32.0         |  NA           |   NA          |  NA           | NA            | 167.0000      | 75.00000      | \n",
       "\n",
       "\n"
      ],
      "text/plain": [
       "  gender        black_height black_mass blue-gray_height blue-gray_mass\n",
       "1 female        195.5        57.0        NA              NA            \n",
       "2 hermaphrodite    NA          NA        NA              NA            \n",
       "3 male          182.0        79.5       182              77            \n",
       "4 none            NaN         NaN        NA              NA            \n",
       "5 NA               NA          NA        NA              NA            \n",
       "  blue_height blue_mass brown_height brown_mass dark_height ...\n",
       "1 167.0000     57.800   160.0        47.00000    NA         ...\n",
       "2       NA         NA      NA              NA    NA         ...\n",
       "3 189.2308    100.875   168.5        69.56364   NaN         ...\n",
       "4       NA         NA      NA              NA    NA         ...\n",
       "5       NA         NA      NA              NA    NA         ...\n",
       "  red, blue_height red, blue_mass red_height red_mass unknown_height\n",
       "1 96               NaN               NA         NA    NaN           \n",
       "2 NA                NA               NA         NA     NA           \n",
       "3 NA                NA            190.5      101.5    136           \n",
       "4 NA                NA            200.0      140.0     NA           \n",
       "5 NA                NA             96.5       32.0     NA           \n",
       "  unknown_mass white_height white_mass yellow_height yellow_mass\n",
       "1  NaN         178          48         168.0000      55.00000   \n",
       "2   NA          NA          NA               NA            NA   \n",
       "3 31.5          NA          NA         180.1111      85.71429   \n",
       "4   NA          NA          NA               NA            NA   \n",
       "5   NA          NA          NA         167.0000      75.00000   "
      ]
     },
     "metadata": {},
     "output_type": "display_data"
    }
   ],
   "source": [
    "starwars %>% group_by(gender, eye_color) %>% \n",
    "    summarize_at(.vars = vars(height, mass), .funs = funs(mean(., na.rm = TRUE))) %>% ungroup -> sw_summary\n",
    "\n",
    "## gather height and mass\n",
    "sw_summary %>% gather(key = vclass, value = val, 3:4) %>% # gather height and mass (the third and fourth column, respectively)\n",
    "# fill values to val column, and fill the class names ('height' and 'mass') in vclass column\n",
    "    mutate(agc1 = paste(gender, vclass, sep = '_'),\n",
    "           agc2 = paste(eye_color, vclass, sep = '_')) -> sw_summary_wide\n",
    "\n",
    "sw_summary_wide %>% dplyr::select(eye_color, agc1, val) %>% spread(key = agc1, value = val) %>% head(5)\n",
    "sw_summary_wide %>% dplyr::select(gender, agc2, val) %>% spread(key = agc2, value = val) %>% head(5)"
   ]
  },
  {
   "cell_type": "markdown",
   "metadata": {},
   "source": [
    "## 3. Real-world example: Recycling crisis"
   ]
  },
  {
   "cell_type": "markdown",
   "metadata": {},
   "source": [
    "4월 초 며칠 동안, 일명 '재활용 대란'이 있었습니다. 아시다시피, 원인으로 국제 폐비닐/폐플라스틱 시세 하락으로 인한 중국으로의 수출 중단이 원인으로 지목되었습니다. 여기서, 우리는 실제 시세 하락은 얼마나 일어났는가라는 질문을 제기할 수 있습니다. 우리는 데이터를 통해서 간접적으로 그 질문을 풀어보려 합니다. 자료는 [UN Comtrade](https://comtrade.un.org/)에서 2010년에서 2017년 간의 세계 국가별 무역데이터를 내려받았고 (학내에서만 무료로 내려받을 수 있음), 미리 폐플라스틱 (HS code: 9315)에 해당하는 상품코드에 맞추어 연도별 데이터를 추출하였습니다. 과제는 단일 연도의 전체 데이터를 대상으로 수행하시게 될 것입니다.\n",
    "이 데이터는 보고국(reporter)과 대상국(partner) 명칭, 수출/입 여부, 폐플라스틱 순교역량(kg), 교역액(USD) 정보, 통계연도를 담고 있습니다. 우리는 이 파일에서 몇 가지 질문에 대한 해답을 얻어내고자 합니다.\n",
    "\n",
    "1. 지난 8년 간 세계 폐플라스틱 무역 총량을 알아봅니다.\n",
    "2. 지난 8년 간 국가별 폐플라스틱 무역을 결산해봅니다.\n",
    "3. 지난 8년 간 국가별 대중국 폐플라스틱 무역 총량을 알아봅니다.\n",
    "4. 한국의 폐플라스틱 무역의 시계열을 액수와 중량에 따라 조사해 봅니다.\n",
    "5. 지난 8년 간 세계 폐플라스틱 시세 변동을 알아봅니다.\n",
    "    - 단, '세계 폐플라스틱 시세'를 데이터로부터 살펴보기 위해서 다음과 같이 조작적으로 정의합시다: '세계 폐플라스틱 시세'란 단위순중량(kg)당 교역액(USD)를 의미합니다. 폐플라스틱의 세부구분은 고려하지 않습니다."
   ]
  },
  {
   "cell_type": "markdown",
   "metadata": {},
   "source": [
    "### 3.1\n",
    "- 자료에는 '세계 전체'를 아우르는 정보가 없으므로, 정보를 생성한 다음 집계하도록 합시다.\n",
    "- 아래 첫 번째 코드 블록에서는 NA값을 빼고 순중량과 교역액을 합산했습니다. 이 때 제외된 값들이 무엇이었느냐에 따라서 왜곡이 발생할 수 있습니다. 두 번째 코드 블록에서 확인해 보겠습니다.\n",
    "- 두 번째 코드 블록에서 `arrange`에 필드 이름 앞에 음의 기호를 붙이면 '내림차순 정렬'을 하라는 뜻입니다. 확인 결과, 순중량이 포함되지 않은 사례들이 161건 있었고, 교역액 필드를 볼 때에 교역량이 큰 사례들에서 중량이 누락되어 있으므로, 이들을 제외하고 합산한 결과에 상당한 왜곡이 있으리라고 예상할 수 있습니다. 특히 2016년 사례가 그렇습니다.\n",
    "- 위의 문제점에 착안해서, 세 번째 코드 블록에서는 어느 한 필드에서도 `NA`값이 존재하지 않는 레코드들만 추출한 후 같은 분석을 수행해 봅니다."
   ]
  },
  {
   "cell_type": "code",
   "execution_count": 15,
   "metadata": {},
   "outputs": [
    {
     "name": "stdout",
     "output_type": "stream",
     "text": [
      "Classes 'tbl_df', 'tbl' and 'data.frame':\t37100 obs. of  8 variables:\n",
      " $ Flow        : chr  \"Import\" \"Export\" \"Import\" \"Export\" ...\n",
      " $ Reporter    : chr  \"ALB\" \"ALB\" \"ALB\" \"ALB\" ...\n",
      " $ Partner     : chr  \"BGR\" \"CHN\" \"DEU\" \"DEU\" ...\n",
      " $ Netweight_kg: num  124190 812861 2347640 678160 1516306 ...\n",
      " $ Value_usd   : num  107621 425149 943464 349723 647468 ...\n",
      " $ year        : int  2010 2010 2010 2010 2010 2010 2010 2010 2010 2010 ...\n",
      " $ Reporter_nm : chr  \"ALBANIA\" \"ALBANIA\" \"ALBANIA\" \"ALBANIA\" ...\n",
      " $ Partner_nm  : chr  \"BULGARIA\" \"CHINA\" \"GERMANY\" \"GERMANY\" ...\n",
      " - attr(*, \"spec\")=List of 2\n",
      "  ..$ cols   :List of 8\n",
      "  .. ..$ Flow        : list()\n",
      "  .. .. ..- attr(*, \"class\")= chr  \"collector_character\" \"collector\"\n",
      "  .. ..$ Reporter    : list()\n",
      "  .. .. ..- attr(*, \"class\")= chr  \"collector_character\" \"collector\"\n",
      "  .. ..$ Partner     : list()\n",
      "  .. .. ..- attr(*, \"class\")= chr  \"collector_character\" \"collector\"\n",
      "  .. ..$ Netweight_kg: list()\n",
      "  .. .. ..- attr(*, \"class\")= chr  \"collector_double\" \"collector\"\n",
      "  .. ..$ Value_usd   : list()\n",
      "  .. .. ..- attr(*, \"class\")= chr  \"collector_double\" \"collector\"\n",
      "  .. ..$ year        : list()\n",
      "  .. .. ..- attr(*, \"class\")= chr  \"collector_integer\" \"collector\"\n",
      "  .. ..$ Reporter_nm : list()\n",
      "  .. .. ..- attr(*, \"class\")= chr  \"collector_character\" \"collector\"\n",
      "  .. ..$ Partner_nm  : list()\n",
      "  .. .. ..- attr(*, \"class\")= chr  \"collector_character\" \"collector\"\n",
      "  ..$ default: list()\n",
      "  .. ..- attr(*, \"class\")= chr  \"collector_guess\" \"collector\"\n",
      "  ..- attr(*, \"class\")= chr \"col_spec\"\n"
     ]
    }
   ],
   "source": [
    "str(pla)"
   ]
  },
  {
   "cell_type": "code",
   "execution_count": 10,
   "metadata": {},
   "outputs": [
    {
     "data": {
      "text/html": [
       "<table>\n",
       "<thead><tr><th scope=col>all</th><th scope=col>sum_netweight</th><th scope=col>sum_value</th></tr></thead>\n",
       "<tbody>\n",
       "\t<tr><td>World       </td><td>237181315048</td><td>1.16271e+11 </td></tr>\n",
       "</tbody>\n",
       "</table>\n"
      ],
      "text/latex": [
       "\\begin{tabular}{r|lll}\n",
       " all & sum\\_netweight & sum\\_value\\\\\n",
       "\\hline\n",
       "\t World        & 237181315048 & 1.16271e+11 \\\\\n",
       "\\end{tabular}\n"
      ],
      "text/markdown": [
       "\n",
       "all | sum_netweight | sum_value | \n",
       "|---|\n",
       "| World        | 237181315048 | 1.16271e+11  | \n",
       "\n",
       "\n"
      ],
      "text/plain": [
       "  all   sum_netweight sum_value  \n",
       "1 World 237181315048  1.16271e+11"
      ]
     },
     "metadata": {},
     "output_type": "display_data"
    },
    {
     "data": {
      "text/html": [
       "<table>\n",
       "<thead><tr><th scope=col>all</th><th scope=col>year</th><th scope=col>sum_netweight</th><th scope=col>sum_value</th></tr></thead>\n",
       "<tbody>\n",
       "\t<tr><td>World      </td><td>2010       </td><td>33843255010</td><td>14901904454</td></tr>\n",
       "\t<tr><td>World      </td><td>2011       </td><td>33454415677</td><td>17503964586</td></tr>\n",
       "\t<tr><td>World      </td><td>2012       </td><td>33755764006</td><td>17528883383</td></tr>\n",
       "\t<tr><td>World      </td><td>2013       </td><td>28969211873</td><td>16585989884</td></tr>\n",
       "\t<tr><td>World      </td><td>2014       </td><td>34051406456</td><td>17146351249</td></tr>\n",
       "\t<tr><td>World      </td><td>2015       </td><td>31896306484</td><td>13581726733</td></tr>\n",
       "\t<tr><td>World      </td><td>2016       </td><td>26594439838</td><td>12457625514</td></tr>\n",
       "\t<tr><td>World      </td><td>2017       </td><td>14616515704</td><td> 6564595351</td></tr>\n",
       "</tbody>\n",
       "</table>\n"
      ],
      "text/latex": [
       "\\begin{tabular}{r|llll}\n",
       " all & year & sum\\_netweight & sum\\_value\\\\\n",
       "\\hline\n",
       "\t World       & 2010        & 33843255010 & 14901904454\\\\\n",
       "\t World       & 2011        & 33454415677 & 17503964586\\\\\n",
       "\t World       & 2012        & 33755764006 & 17528883383\\\\\n",
       "\t World       & 2013        & 28969211873 & 16585989884\\\\\n",
       "\t World       & 2014        & 34051406456 & 17146351249\\\\\n",
       "\t World       & 2015        & 31896306484 & 13581726733\\\\\n",
       "\t World       & 2016        & 26594439838 & 12457625514\\\\\n",
       "\t World       & 2017        & 14616515704 &  6564595351\\\\\n",
       "\\end{tabular}\n"
      ],
      "text/markdown": [
       "\n",
       "all | year | sum_netweight | sum_value | \n",
       "|---|---|---|---|---|---|---|---|\n",
       "| World       | 2010        | 33843255010 | 14901904454 | \n",
       "| World       | 2011        | 33454415677 | 17503964586 | \n",
       "| World       | 2012        | 33755764006 | 17528883383 | \n",
       "| World       | 2013        | 28969211873 | 16585989884 | \n",
       "| World       | 2014        | 34051406456 | 17146351249 | \n",
       "| World       | 2015        | 31896306484 | 13581726733 | \n",
       "| World       | 2016        | 26594439838 | 12457625514 | \n",
       "| World       | 2017        | 14616515704 |  6564595351 | \n",
       "\n",
       "\n"
      ],
      "text/plain": [
       "  all   year sum_netweight sum_value  \n",
       "1 World 2010 33843255010   14901904454\n",
       "2 World 2011 33454415677   17503964586\n",
       "3 World 2012 33755764006   17528883383\n",
       "4 World 2013 28969211873   16585989884\n",
       "5 World 2014 34051406456   17146351249\n",
       "6 World 2015 31896306484   13581726733\n",
       "7 World 2016 26594439838   12457625514\n",
       "8 World 2017 14616515704    6564595351"
      ]
     },
     "metadata": {},
     "output_type": "display_data"
    },
    {
     "data": {
      "text/html": [
       "<table>\n",
       "<thead><tr><th scope=col>all</th><th scope=col>year</th><th scope=col>Flow</th><th scope=col>sum_netweight</th><th scope=col>sum_value</th></tr></thead>\n",
       "<tbody>\n",
       "\t<tr><td>World      </td><td>2010       </td><td>Export     </td><td>15337934825</td><td>6055398026 </td></tr>\n",
       "\t<tr><td>World      </td><td>2010       </td><td>Import     </td><td>15788234286</td><td>8067400574 </td></tr>\n",
       "\t<tr><td>World      </td><td>2010       </td><td>Re-Export  </td><td> 2715696936</td><td> 778328090 </td></tr>\n",
       "\t<tr><td>World      </td><td>2010       </td><td>Re-Import  </td><td>    1388963</td><td>    777764 </td></tr>\n",
       "\t<tr><td>World      </td><td>2011       </td><td>Export     </td><td>14822716997</td><td>7024457937 </td></tr>\n",
       "\t<tr><td>World      </td><td>2011       </td><td>Import     </td><td>15974271606</td><td>9618216630 </td></tr>\n",
       "\t<tr><td>World      </td><td>2011       </td><td>Re-Export  </td><td> 2655678460</td><td> 860032180 </td></tr>\n",
       "\t<tr><td>World      </td><td>2011       </td><td>Re-Import  </td><td>    1748614</td><td>   1257839 </td></tr>\n",
       "\t<tr><td>World      </td><td>2012       </td><td>Export     </td><td>14841538079</td><td>6983048221 </td></tr>\n",
       "\t<tr><td>World      </td><td>2012       </td><td>Import     </td><td>15940073245</td><td>9573883559 </td></tr>\n",
       "\t<tr><td>World      </td><td>2012       </td><td>Re-Export  </td><td> 2972745377</td><td> 970896285 </td></tr>\n",
       "\t<tr><td>World      </td><td>2012       </td><td>Re-Import  </td><td>    1407305</td><td>   1055318 </td></tr>\n",
       "\t<tr><td>World      </td><td>2013       </td><td>Export     </td><td>12886423344</td><td>6553549084 </td></tr>\n",
       "\t<tr><td>World      </td><td>2013       </td><td>Import     </td><td>14753077691</td><td>9299623410 </td></tr>\n",
       "\t<tr><td>World      </td><td>2013       </td><td>Re-Export  </td><td> 1328604612</td><td> 732275584 </td></tr>\n",
       "\t<tr><td>World      </td><td>2013       </td><td>Re-Import  </td><td>    1106226</td><td>    541806 </td></tr>\n",
       "\t<tr><td>World      </td><td>2014       </td><td>Export     </td><td>15383279767</td><td>6779584437 </td></tr>\n",
       "\t<tr><td>World      </td><td>2014       </td><td>Import     </td><td>15689358869</td><td>9447374505 </td></tr>\n",
       "\t<tr><td>World      </td><td>2014       </td><td>Re-Export  </td><td> 2976671316</td><td> 918006322 </td></tr>\n",
       "\t<tr><td>World      </td><td>2014       </td><td>Re-Import  </td><td>    2096504</td><td>   1385985 </td></tr>\n",
       "\t<tr><td>World      </td><td>2015       </td><td>Export     </td><td>14259127866</td><td>5630389941 </td></tr>\n",
       "\t<tr><td>World      </td><td>2015       </td><td>Import     </td><td>14868566711</td><td>7065580777 </td></tr>\n",
       "\t<tr><td>World      </td><td>2015       </td><td>Re-Export  </td><td> 2761138135</td><td> 883085367 </td></tr>\n",
       "\t<tr><td>World      </td><td>2015       </td><td>Re-Import  </td><td>    7473772</td><td>   2670648 </td></tr>\n",
       "\t<tr><td>World      </td><td>2016       </td><td>Export     </td><td>11327271470</td><td>5132260883 </td></tr>\n",
       "\t<tr><td>World      </td><td>2016       </td><td>Import     </td><td>15242995928</td><td>6464587151 </td></tr>\n",
       "\t<tr><td>World      </td><td>2016       </td><td>Re-Export  </td><td>   20941252</td><td> 859721577 </td></tr>\n",
       "\t<tr><td>World      </td><td>2016       </td><td>Re-Import  </td><td>    3231188</td><td>   1055903 </td></tr>\n",
       "\t<tr><td>World      </td><td>2017       </td><td>Export     </td><td> 8711767738</td><td>3742007531 </td></tr>\n",
       "\t<tr><td>World      </td><td>2017       </td><td>Import     </td><td> 5887667219</td><td>2274659716 </td></tr>\n",
       "\t<tr><td>World      </td><td>2017       </td><td>Re-Export  </td><td>   12376627</td><td> 546099822 </td></tr>\n",
       "\t<tr><td>World      </td><td>2017       </td><td>Re-Import  </td><td>    4704120</td><td>   1828282 </td></tr>\n",
       "</tbody>\n",
       "</table>\n"
      ],
      "text/latex": [
       "\\begin{tabular}{r|lllll}\n",
       " all & year & Flow & sum\\_netweight & sum\\_value\\\\\n",
       "\\hline\n",
       "\t World       & 2010        & Export      & 15337934825 & 6055398026 \\\\\n",
       "\t World       & 2010        & Import      & 15788234286 & 8067400574 \\\\\n",
       "\t World       & 2010        & Re-Export   &  2715696936 &  778328090 \\\\\n",
       "\t World       & 2010        & Re-Import   &     1388963 &     777764 \\\\\n",
       "\t World       & 2011        & Export      & 14822716997 & 7024457937 \\\\\n",
       "\t World       & 2011        & Import      & 15974271606 & 9618216630 \\\\\n",
       "\t World       & 2011        & Re-Export   &  2655678460 &  860032180 \\\\\n",
       "\t World       & 2011        & Re-Import   &     1748614 &    1257839 \\\\\n",
       "\t World       & 2012        & Export      & 14841538079 & 6983048221 \\\\\n",
       "\t World       & 2012        & Import      & 15940073245 & 9573883559 \\\\\n",
       "\t World       & 2012        & Re-Export   &  2972745377 &  970896285 \\\\\n",
       "\t World       & 2012        & Re-Import   &     1407305 &    1055318 \\\\\n",
       "\t World       & 2013        & Export      & 12886423344 & 6553549084 \\\\\n",
       "\t World       & 2013        & Import      & 14753077691 & 9299623410 \\\\\n",
       "\t World       & 2013        & Re-Export   &  1328604612 &  732275584 \\\\\n",
       "\t World       & 2013        & Re-Import   &     1106226 &     541806 \\\\\n",
       "\t World       & 2014        & Export      & 15383279767 & 6779584437 \\\\\n",
       "\t World       & 2014        & Import      & 15689358869 & 9447374505 \\\\\n",
       "\t World       & 2014        & Re-Export   &  2976671316 &  918006322 \\\\\n",
       "\t World       & 2014        & Re-Import   &     2096504 &    1385985 \\\\\n",
       "\t World       & 2015        & Export      & 14259127866 & 5630389941 \\\\\n",
       "\t World       & 2015        & Import      & 14868566711 & 7065580777 \\\\\n",
       "\t World       & 2015        & Re-Export   &  2761138135 &  883085367 \\\\\n",
       "\t World       & 2015        & Re-Import   &     7473772 &    2670648 \\\\\n",
       "\t World       & 2016        & Export      & 11327271470 & 5132260883 \\\\\n",
       "\t World       & 2016        & Import      & 15242995928 & 6464587151 \\\\\n",
       "\t World       & 2016        & Re-Export   &    20941252 &  859721577 \\\\\n",
       "\t World       & 2016        & Re-Import   &     3231188 &    1055903 \\\\\n",
       "\t World       & 2017        & Export      &  8711767738 & 3742007531 \\\\\n",
       "\t World       & 2017        & Import      &  5887667219 & 2274659716 \\\\\n",
       "\t World       & 2017        & Re-Export   &    12376627 &  546099822 \\\\\n",
       "\t World       & 2017        & Re-Import   &     4704120 &    1828282 \\\\\n",
       "\\end{tabular}\n"
      ],
      "text/markdown": [
       "\n",
       "all | year | Flow | sum_netweight | sum_value | \n",
       "|---|---|---|---|---|---|---|---|---|---|---|---|---|---|---|---|---|---|---|---|---|---|---|---|---|---|---|---|---|---|---|---|\n",
       "| World       | 2010        | Export      | 15337934825 | 6055398026  | \n",
       "| World       | 2010        | Import      | 15788234286 | 8067400574  | \n",
       "| World       | 2010        | Re-Export   |  2715696936 |  778328090  | \n",
       "| World       | 2010        | Re-Import   |     1388963 |     777764  | \n",
       "| World       | 2011        | Export      | 14822716997 | 7024457937  | \n",
       "| World       | 2011        | Import      | 15974271606 | 9618216630  | \n",
       "| World       | 2011        | Re-Export   |  2655678460 |  860032180  | \n",
       "| World       | 2011        | Re-Import   |     1748614 |    1257839  | \n",
       "| World       | 2012        | Export      | 14841538079 | 6983048221  | \n",
       "| World       | 2012        | Import      | 15940073245 | 9573883559  | \n",
       "| World       | 2012        | Re-Export   |  2972745377 |  970896285  | \n",
       "| World       | 2012        | Re-Import   |     1407305 |    1055318  | \n",
       "| World       | 2013        | Export      | 12886423344 | 6553549084  | \n",
       "| World       | 2013        | Import      | 14753077691 | 9299623410  | \n",
       "| World       | 2013        | Re-Export   |  1328604612 |  732275584  | \n",
       "| World       | 2013        | Re-Import   |     1106226 |     541806  | \n",
       "| World       | 2014        | Export      | 15383279767 | 6779584437  | \n",
       "| World       | 2014        | Import      | 15689358869 | 9447374505  | \n",
       "| World       | 2014        | Re-Export   |  2976671316 |  918006322  | \n",
       "| World       | 2014        | Re-Import   |     2096504 |    1385985  | \n",
       "| World       | 2015        | Export      | 14259127866 | 5630389941  | \n",
       "| World       | 2015        | Import      | 14868566711 | 7065580777  | \n",
       "| World       | 2015        | Re-Export   |  2761138135 |  883085367  | \n",
       "| World       | 2015        | Re-Import   |     7473772 |    2670648  | \n",
       "| World       | 2016        | Export      | 11327271470 | 5132260883  | \n",
       "| World       | 2016        | Import      | 15242995928 | 6464587151  | \n",
       "| World       | 2016        | Re-Export   |    20941252 |  859721577  | \n",
       "| World       | 2016        | Re-Import   |     3231188 |    1055903  | \n",
       "| World       | 2017        | Export      |  8711767738 | 3742007531  | \n",
       "| World       | 2017        | Import      |  5887667219 | 2274659716  | \n",
       "| World       | 2017        | Re-Export   |    12376627 |  546099822  | \n",
       "| World       | 2017        | Re-Import   |     4704120 |    1828282  | \n",
       "\n",
       "\n"
      ],
      "text/plain": [
       "   all   year Flow      sum_netweight sum_value \n",
       "1  World 2010 Export    15337934825   6055398026\n",
       "2  World 2010 Import    15788234286   8067400574\n",
       "3  World 2010 Re-Export  2715696936    778328090\n",
       "4  World 2010 Re-Import     1388963       777764\n",
       "5  World 2011 Export    14822716997   7024457937\n",
       "6  World 2011 Import    15974271606   9618216630\n",
       "7  World 2011 Re-Export  2655678460    860032180\n",
       "8  World 2011 Re-Import     1748614      1257839\n",
       "9  World 2012 Export    14841538079   6983048221\n",
       "10 World 2012 Import    15940073245   9573883559\n",
       "11 World 2012 Re-Export  2972745377    970896285\n",
       "12 World 2012 Re-Import     1407305      1055318\n",
       "13 World 2013 Export    12886423344   6553549084\n",
       "14 World 2013 Import    14753077691   9299623410\n",
       "15 World 2013 Re-Export  1328604612    732275584\n",
       "16 World 2013 Re-Import     1106226       541806\n",
       "17 World 2014 Export    15383279767   6779584437\n",
       "18 World 2014 Import    15689358869   9447374505\n",
       "19 World 2014 Re-Export  2976671316    918006322\n",
       "20 World 2014 Re-Import     2096504      1385985\n",
       "21 World 2015 Export    14259127866   5630389941\n",
       "22 World 2015 Import    14868566711   7065580777\n",
       "23 World 2015 Re-Export  2761138135    883085367\n",
       "24 World 2015 Re-Import     7473772      2670648\n",
       "25 World 2016 Export    11327271470   5132260883\n",
       "26 World 2016 Import    15242995928   6464587151\n",
       "27 World 2016 Re-Export    20941252    859721577\n",
       "28 World 2016 Re-Import     3231188      1055903\n",
       "29 World 2017 Export     8711767738   3742007531\n",
       "30 World 2017 Import     5887667219   2274659716\n",
       "31 World 2017 Re-Export    12376627    546099822\n",
       "32 World 2017 Re-Import     4704120      1828282"
      ]
     },
     "metadata": {},
     "output_type": "display_data"
    }
   ],
   "source": [
    "pla %>% mutate(all = 'World') -> pla_w\n",
    "pla_w %>% group_by(all) %>% \n",
    "        summarize(sum_netweight = sum(Netweight_kg, na.rm = TRUE), \n",
    "                  sum_value = sum(Value_usd, na.rm = TRUE)) %>% ungroup -> pla_wsum\n",
    "pla_w %>% group_by(all, year) %>% \n",
    "        summarize(sum_netweight = sum(Netweight_kg, na.rm = TRUE), \n",
    "                  sum_value = sum(Value_usd, na.rm = TRUE)) %>% ungroup -> pla_wysum\n",
    "pla_w %>% group_by(all, year, Flow) %>% \n",
    "        summarize(sum_netweight = sum(Netweight_kg, na.rm = TRUE), \n",
    "                  sum_value = sum(Value_usd, na.rm = TRUE)) %>% ungroup -> pla_wyfsum\n",
    "## check\n",
    "pla_wsum\n",
    "pla_wysum\n",
    "pla_wyfsum"
   ]
  },
  {
   "cell_type": "code",
   "execution_count": 9,
   "metadata": {},
   "outputs": [
    {
     "data": {
      "text/html": [
       "<table>\n",
       "<thead><tr><th scope=col>Flow</th><th scope=col>Reporter</th><th scope=col>Partner</th><th scope=col>Netweight_kg</th><th scope=col>Value_usd</th><th scope=col>year</th><th scope=col>Reporter_nm</th><th scope=col>Partner_nm</th></tr></thead>\n",
       "<tbody>\n",
       "\t<tr><td>Export            </td><td>HKG               </td><td>CHN               </td><td>NA                </td><td>875224816         </td><td>2016              </td><td>HONG KONG         </td><td>CHINA             </td></tr>\n",
       "\t<tr><td>Re-Export         </td><td>HKG               </td><td>CHN               </td><td>NA                </td><td>849199861         </td><td>2016              </td><td>HONG KONG         </td><td>CHINA             </td></tr>\n",
       "\t<tr><td>Export            </td><td>VNM               </td><td>CHN               </td><td>NA                </td><td> 85922017         </td><td>2012              </td><td>VIET NAM          </td><td>CHINA             </td></tr>\n",
       "\t<tr><td>Export            </td><td>GBR               </td><td>IND               </td><td>NA                </td><td>  7142041         </td><td>2017              </td><td>UNITED KINGDOM    </td><td>INDIA             </td></tr>\n",
       "\t<tr><td>Import            </td><td>VNM               </td><td>THA               </td><td>NA                </td><td>  4921349         </td><td>2012              </td><td>VIET NAM          </td><td>THAILAND          </td></tr>\n",
       "\t<tr><td>Import            </td><td>VNM               </td><td>KOR               </td><td>NA                </td><td>  4296293         </td><td>2012              </td><td>VIET NAM          </td><td>KOREA, REPUBLIC OF</td></tr>\n",
       "\t<tr><td>Import            </td><td>VNM               </td><td>USA               </td><td>NA                </td><td>  3772927         </td><td>2012              </td><td>VIET NAM          </td><td>UNITED STATES     </td></tr>\n",
       "\t<tr><td>Import            </td><td>HRV               </td><td>DEU               </td><td>NA                </td><td>  2840440         </td><td>2017              </td><td>CROATIA           </td><td>GERMANY           </td></tr>\n",
       "\t<tr><td>Import            </td><td>VNM               </td><td>SAU               </td><td>NA                </td><td>  2290120         </td><td>2012              </td><td>VIET NAM          </td><td>SAUDI ARABIA      </td></tr>\n",
       "\t<tr><td>Export            </td><td>VNM               </td><td>HKG               </td><td>NA                </td><td>  1805740         </td><td>2012              </td><td>VIET NAM          </td><td>HONG KONG         </td></tr>\n",
       "</tbody>\n",
       "</table>\n"
      ],
      "text/latex": [
       "\\begin{tabular}{r|llllllll}\n",
       " Flow & Reporter & Partner & Netweight\\_kg & Value\\_usd & year & Reporter\\_nm & Partner\\_nm\\\\\n",
       "\\hline\n",
       "\t Export             & HKG                & CHN                & NA                 & 875224816          & 2016               & HONG KONG          & CHINA             \\\\\n",
       "\t Re-Export          & HKG                & CHN                & NA                 & 849199861          & 2016               & HONG KONG          & CHINA             \\\\\n",
       "\t Export             & VNM                & CHN                & NA                 &  85922017          & 2012               & VIET NAM           & CHINA             \\\\\n",
       "\t Export             & GBR                & IND                & NA                 &   7142041          & 2017               & UNITED KINGDOM     & INDIA             \\\\\n",
       "\t Import             & VNM                & THA                & NA                 &   4921349          & 2012               & VIET NAM           & THAILAND          \\\\\n",
       "\t Import             & VNM                & KOR                & NA                 &   4296293          & 2012               & VIET NAM           & KOREA, REPUBLIC OF\\\\\n",
       "\t Import             & VNM                & USA                & NA                 &   3772927          & 2012               & VIET NAM           & UNITED STATES     \\\\\n",
       "\t Import             & HRV                & DEU                & NA                 &   2840440          & 2017               & CROATIA            & GERMANY           \\\\\n",
       "\t Import             & VNM                & SAU                & NA                 &   2290120          & 2012               & VIET NAM           & SAUDI ARABIA      \\\\\n",
       "\t Export             & VNM                & HKG                & NA                 &   1805740          & 2012               & VIET NAM           & HONG KONG         \\\\\n",
       "\\end{tabular}\n"
      ],
      "text/markdown": [
       "\n",
       "Flow | Reporter | Partner | Netweight_kg | Value_usd | year | Reporter_nm | Partner_nm | \n",
       "|---|---|---|---|---|---|---|---|---|---|\n",
       "| Export             | HKG                | CHN                | NA                 | 875224816          | 2016               | HONG KONG          | CHINA              | \n",
       "| Re-Export          | HKG                | CHN                | NA                 | 849199861          | 2016               | HONG KONG          | CHINA              | \n",
       "| Export             | VNM                | CHN                | NA                 |  85922017          | 2012               | VIET NAM           | CHINA              | \n",
       "| Export             | GBR                | IND                | NA                 |   7142041          | 2017               | UNITED KINGDOM     | INDIA              | \n",
       "| Import             | VNM                | THA                | NA                 |   4921349          | 2012               | VIET NAM           | THAILAND           | \n",
       "| Import             | VNM                | KOR                | NA                 |   4296293          | 2012               | VIET NAM           | KOREA, REPUBLIC OF | \n",
       "| Import             | VNM                | USA                | NA                 |   3772927          | 2012               | VIET NAM           | UNITED STATES      | \n",
       "| Import             | HRV                | DEU                | NA                 |   2840440          | 2017               | CROATIA            | GERMANY            | \n",
       "| Import             | VNM                | SAU                | NA                 |   2290120          | 2012               | VIET NAM           | SAUDI ARABIA       | \n",
       "| Export             | VNM                | HKG                | NA                 |   1805740          | 2012               | VIET NAM           | HONG KONG          | \n",
       "\n",
       "\n"
      ],
      "text/plain": [
       "   Flow      Reporter Partner Netweight_kg Value_usd year Reporter_nm   \n",
       "1  Export    HKG      CHN     NA           875224816 2016 HONG KONG     \n",
       "2  Re-Export HKG      CHN     NA           849199861 2016 HONG KONG     \n",
       "3  Export    VNM      CHN     NA            85922017 2012 VIET NAM      \n",
       "4  Export    GBR      IND     NA             7142041 2017 UNITED KINGDOM\n",
       "5  Import    VNM      THA     NA             4921349 2012 VIET NAM      \n",
       "6  Import    VNM      KOR     NA             4296293 2012 VIET NAM      \n",
       "7  Import    VNM      USA     NA             3772927 2012 VIET NAM      \n",
       "8  Import    HRV      DEU     NA             2840440 2017 CROATIA       \n",
       "9  Import    VNM      SAU     NA             2290120 2012 VIET NAM      \n",
       "10 Export    VNM      HKG     NA             1805740 2012 VIET NAM      \n",
       "   Partner_nm        \n",
       "1  CHINA             \n",
       "2  CHINA             \n",
       "3  CHINA             \n",
       "4  INDIA             \n",
       "5  THAILAND          \n",
       "6  KOREA, REPUBLIC OF\n",
       "7  UNITED STATES     \n",
       "8  GERMANY           \n",
       "9  SAUDI ARABIA      \n",
       "10 HONG KONG         "
      ]
     },
     "metadata": {},
     "output_type": "display_data"
    },
    {
     "data": {
      "text/html": [
       "<table>\n",
       "<thead><tr><th scope=col>Flow</th><th scope=col>Reporter</th><th scope=col>Partner</th><th scope=col>Netweight_kg</th><th scope=col>Value_usd</th><th scope=col>year</th><th scope=col>Reporter_nm</th><th scope=col>Partner_nm</th></tr></thead>\n",
       "<tbody>\n",
       "</tbody>\n",
       "</table>\n"
      ],
      "text/latex": [
       "\\begin{tabular}{r|llllllll}\n",
       " Flow & Reporter & Partner & Netweight\\_kg & Value\\_usd & year & Reporter\\_nm & Partner\\_nm\\\\\n",
       "\\hline\n",
       "\\end{tabular}\n"
      ],
      "text/markdown": [
       "\n",
       "Flow | Reporter | Partner | Netweight_kg | Value_usd | year | Reporter_nm | Partner_nm | \n",
       "||\n",
       "\n",
       "\n"
      ],
      "text/plain": [
       "     Flow Reporter Partner Netweight_kg Value_usd year Reporter_nm Partner_nm"
      ]
     },
     "metadata": {},
     "output_type": "display_data"
    }
   ],
   "source": [
    "pla %>% filter(is.na(Netweight_kg)) %>% arrange(-Value_usd) %>% head(10)\n",
    "pla %>% filter(is.na(Netweight_kg)) %>% arrange(-Value_usd) %>% dim\n",
    "pla %>% filter(is.na(Value_usd)) %>% arrange(-Netweight_kg) %>% head(10)"
   ]
  },
  {
   "cell_type": "code",
   "execution_count": 14,
   "metadata": {},
   "outputs": [
    {
     "data": {
      "text/html": [
       "<table>\n",
       "<thead><tr><th scope=col>all</th><th scope=col>sum_netweight</th><th scope=col>sum_value</th></tr></thead>\n",
       "<tbody>\n",
       "\t<tr><td>World       </td><td>237181315048</td><td>114403841702</td></tr>\n",
       "</tbody>\n",
       "</table>\n"
      ],
      "text/latex": [
       "\\begin{tabular}{r|lll}\n",
       " all & sum\\_netweight & sum\\_value\\\\\n",
       "\\hline\n",
       "\t World        & 237181315048 & 114403841702\\\\\n",
       "\\end{tabular}\n"
      ],
      "text/markdown": [
       "\n",
       "all | sum_netweight | sum_value | \n",
       "|---|\n",
       "| World        | 237181315048 | 114403841702 | \n",
       "\n",
       "\n"
      ],
      "text/plain": [
       "  all   sum_netweight sum_value   \n",
       "1 World 237181315048  114403841702"
      ]
     },
     "metadata": {},
     "output_type": "display_data"
    },
    {
     "data": {
      "text/html": [
       "<table>\n",
       "<thead><tr><th scope=col>all</th><th scope=col>year</th><th scope=col>sum_netweight</th><th scope=col>sum_value</th></tr></thead>\n",
       "<tbody>\n",
       "\t<tr><td>World      </td><td>2010       </td><td>33843255010</td><td>14901899881</td></tr>\n",
       "\t<tr><td>World      </td><td>2011       </td><td>33454415677</td><td>17503963609</td></tr>\n",
       "\t<tr><td>World      </td><td>2012       </td><td>33755764006</td><td>17410206260</td></tr>\n",
       "\t<tr><td>World      </td><td>2013       </td><td>28969211873</td><td>16585989884</td></tr>\n",
       "\t<tr><td>World      </td><td>2014       </td><td>34051406456</td><td>17146351249</td></tr>\n",
       "\t<tr><td>World      </td><td>2015       </td><td>31896306484</td><td>13581705215</td></tr>\n",
       "\t<tr><td>World      </td><td>2016       </td><td>26594439838</td><td>10733114974</td></tr>\n",
       "\t<tr><td>World      </td><td>2017       </td><td>14616515704</td><td> 6540610630</td></tr>\n",
       "</tbody>\n",
       "</table>\n"
      ],
      "text/latex": [
       "\\begin{tabular}{r|llll}\n",
       " all & year & sum\\_netweight & sum\\_value\\\\\n",
       "\\hline\n",
       "\t World       & 2010        & 33843255010 & 14901899881\\\\\n",
       "\t World       & 2011        & 33454415677 & 17503963609\\\\\n",
       "\t World       & 2012        & 33755764006 & 17410206260\\\\\n",
       "\t World       & 2013        & 28969211873 & 16585989884\\\\\n",
       "\t World       & 2014        & 34051406456 & 17146351249\\\\\n",
       "\t World       & 2015        & 31896306484 & 13581705215\\\\\n",
       "\t World       & 2016        & 26594439838 & 10733114974\\\\\n",
       "\t World       & 2017        & 14616515704 &  6540610630\\\\\n",
       "\\end{tabular}\n"
      ],
      "text/markdown": [
       "\n",
       "all | year | sum_netweight | sum_value | \n",
       "|---|---|---|---|---|---|---|---|\n",
       "| World       | 2010        | 33843255010 | 14901899881 | \n",
       "| World       | 2011        | 33454415677 | 17503963609 | \n",
       "| World       | 2012        | 33755764006 | 17410206260 | \n",
       "| World       | 2013        | 28969211873 | 16585989884 | \n",
       "| World       | 2014        | 34051406456 | 17146351249 | \n",
       "| World       | 2015        | 31896306484 | 13581705215 | \n",
       "| World       | 2016        | 26594439838 | 10733114974 | \n",
       "| World       | 2017        | 14616515704 |  6540610630 | \n",
       "\n",
       "\n"
      ],
      "text/plain": [
       "  all   year sum_netweight sum_value  \n",
       "1 World 2010 33843255010   14901899881\n",
       "2 World 2011 33454415677   17503963609\n",
       "3 World 2012 33755764006   17410206260\n",
       "4 World 2013 28969211873   16585989884\n",
       "5 World 2014 34051406456   17146351249\n",
       "6 World 2015 31896306484   13581705215\n",
       "7 World 2016 26594439838   10733114974\n",
       "8 World 2017 14616515704    6540610630"
      ]
     },
     "metadata": {},
     "output_type": "display_data"
    },
    {
     "data": {
      "text/html": [
       "<table>\n",
       "<thead><tr><th scope=col>all</th><th scope=col>year</th><th scope=col>Flow</th><th scope=col>sum_netweight</th><th scope=col>sum_value</th></tr></thead>\n",
       "<tbody>\n",
       "\t<tr><td>World      </td><td>2010       </td><td>Export     </td><td>15337934825</td><td>6055398026 </td></tr>\n",
       "\t<tr><td>World      </td><td>2010       </td><td>Import     </td><td>15788234286</td><td>8067396001 </td></tr>\n",
       "\t<tr><td>World      </td><td>2010       </td><td>Re-Export  </td><td> 2715696936</td><td> 778328090 </td></tr>\n",
       "\t<tr><td>World      </td><td>2010       </td><td>Re-Import  </td><td>    1388963</td><td>    777764 </td></tr>\n",
       "\t<tr><td>World      </td><td>2011       </td><td>Export     </td><td>14822716997</td><td>7024457937 </td></tr>\n",
       "\t<tr><td>World      </td><td>2011       </td><td>Import     </td><td>15974271606</td><td>9618215653 </td></tr>\n",
       "\t<tr><td>World      </td><td>2011       </td><td>Re-Export  </td><td> 2655678460</td><td> 860032180 </td></tr>\n",
       "\t<tr><td>World      </td><td>2011       </td><td>Re-Import  </td><td>    1748614</td><td>   1257839 </td></tr>\n",
       "\t<tr><td>World      </td><td>2012       </td><td>Export     </td><td>14841538079</td><td>6891275058 </td></tr>\n",
       "\t<tr><td>World      </td><td>2012       </td><td>Import     </td><td>15940073245</td><td>9546979599 </td></tr>\n",
       "\t<tr><td>World      </td><td>2012       </td><td>Re-Export  </td><td> 2972745377</td><td> 970896285 </td></tr>\n",
       "\t<tr><td>World      </td><td>2012       </td><td>Re-Import  </td><td>    1407305</td><td>   1055318 </td></tr>\n",
       "\t<tr><td>World      </td><td>2013       </td><td>Export     </td><td>12886423344</td><td>6553549084 </td></tr>\n",
       "\t<tr><td>World      </td><td>2013       </td><td>Import     </td><td>14753077691</td><td>9299623410 </td></tr>\n",
       "\t<tr><td>World      </td><td>2013       </td><td>Re-Export  </td><td> 1328604612</td><td> 732275584 </td></tr>\n",
       "\t<tr><td>World      </td><td>2013       </td><td>Re-Import  </td><td>    1106226</td><td>    541806 </td></tr>\n",
       "\t<tr><td>World      </td><td>2014       </td><td>Export     </td><td>15383279767</td><td>6779584437 </td></tr>\n",
       "\t<tr><td>World      </td><td>2014       </td><td>Import     </td><td>15689358869</td><td>9447374505 </td></tr>\n",
       "\t<tr><td>World      </td><td>2014       </td><td>Re-Export  </td><td> 2976671316</td><td> 918006322 </td></tr>\n",
       "\t<tr><td>World      </td><td>2014       </td><td>Re-Import  </td><td>    2096504</td><td>   1385985 </td></tr>\n",
       "\t<tr><td>World      </td><td>2015       </td><td>Export     </td><td>14259127866</td><td>5630369256 </td></tr>\n",
       "\t<tr><td>World      </td><td>2015       </td><td>Import     </td><td>14868566711</td><td>7065579944 </td></tr>\n",
       "\t<tr><td>World      </td><td>2015       </td><td>Re-Export  </td><td> 2761138135</td><td> 883085367 </td></tr>\n",
       "\t<tr><td>World      </td><td>2015       </td><td>Re-Import  </td><td>    7473772</td><td>   2670648 </td></tr>\n",
       "\t<tr><td>World      </td><td>2016       </td><td>Export     </td><td>11327271470</td><td>4257018111 </td></tr>\n",
       "\t<tr><td>World      </td><td>2016       </td><td>Import     </td><td>15242995928</td><td>6464519244 </td></tr>\n",
       "\t<tr><td>World      </td><td>2016       </td><td>Re-Export  </td><td>   20941252</td><td>  10521716 </td></tr>\n",
       "\t<tr><td>World      </td><td>2016       </td><td>Re-Import  </td><td>    3231188</td><td>   1055903 </td></tr>\n",
       "\t<tr><td>World      </td><td>2017       </td><td>Export     </td><td> 8711767738</td><td>3729029500 </td></tr>\n",
       "\t<tr><td>World      </td><td>2017       </td><td>Import     </td><td> 5887667219</td><td>2263661442 </td></tr>\n",
       "\t<tr><td>World      </td><td>2017       </td><td>Re-Export  </td><td>   12376627</td><td> 546091406 </td></tr>\n",
       "\t<tr><td>World      </td><td>2017       </td><td>Re-Import  </td><td>    4704120</td><td>   1828282 </td></tr>\n",
       "</tbody>\n",
       "</table>\n"
      ],
      "text/latex": [
       "\\begin{tabular}{r|lllll}\n",
       " all & year & Flow & sum\\_netweight & sum\\_value\\\\\n",
       "\\hline\n",
       "\t World       & 2010        & Export      & 15337934825 & 6055398026 \\\\\n",
       "\t World       & 2010        & Import      & 15788234286 & 8067396001 \\\\\n",
       "\t World       & 2010        & Re-Export   &  2715696936 &  778328090 \\\\\n",
       "\t World       & 2010        & Re-Import   &     1388963 &     777764 \\\\\n",
       "\t World       & 2011        & Export      & 14822716997 & 7024457937 \\\\\n",
       "\t World       & 2011        & Import      & 15974271606 & 9618215653 \\\\\n",
       "\t World       & 2011        & Re-Export   &  2655678460 &  860032180 \\\\\n",
       "\t World       & 2011        & Re-Import   &     1748614 &    1257839 \\\\\n",
       "\t World       & 2012        & Export      & 14841538079 & 6891275058 \\\\\n",
       "\t World       & 2012        & Import      & 15940073245 & 9546979599 \\\\\n",
       "\t World       & 2012        & Re-Export   &  2972745377 &  970896285 \\\\\n",
       "\t World       & 2012        & Re-Import   &     1407305 &    1055318 \\\\\n",
       "\t World       & 2013        & Export      & 12886423344 & 6553549084 \\\\\n",
       "\t World       & 2013        & Import      & 14753077691 & 9299623410 \\\\\n",
       "\t World       & 2013        & Re-Export   &  1328604612 &  732275584 \\\\\n",
       "\t World       & 2013        & Re-Import   &     1106226 &     541806 \\\\\n",
       "\t World       & 2014        & Export      & 15383279767 & 6779584437 \\\\\n",
       "\t World       & 2014        & Import      & 15689358869 & 9447374505 \\\\\n",
       "\t World       & 2014        & Re-Export   &  2976671316 &  918006322 \\\\\n",
       "\t World       & 2014        & Re-Import   &     2096504 &    1385985 \\\\\n",
       "\t World       & 2015        & Export      & 14259127866 & 5630369256 \\\\\n",
       "\t World       & 2015        & Import      & 14868566711 & 7065579944 \\\\\n",
       "\t World       & 2015        & Re-Export   &  2761138135 &  883085367 \\\\\n",
       "\t World       & 2015        & Re-Import   &     7473772 &    2670648 \\\\\n",
       "\t World       & 2016        & Export      & 11327271470 & 4257018111 \\\\\n",
       "\t World       & 2016        & Import      & 15242995928 & 6464519244 \\\\\n",
       "\t World       & 2016        & Re-Export   &    20941252 &   10521716 \\\\\n",
       "\t World       & 2016        & Re-Import   &     3231188 &    1055903 \\\\\n",
       "\t World       & 2017        & Export      &  8711767738 & 3729029500 \\\\\n",
       "\t World       & 2017        & Import      &  5887667219 & 2263661442 \\\\\n",
       "\t World       & 2017        & Re-Export   &    12376627 &  546091406 \\\\\n",
       "\t World       & 2017        & Re-Import   &     4704120 &    1828282 \\\\\n",
       "\\end{tabular}\n"
      ],
      "text/markdown": [
       "\n",
       "all | year | Flow | sum_netweight | sum_value | \n",
       "|---|---|---|---|---|---|---|---|---|---|---|---|---|---|---|---|---|---|---|---|---|---|---|---|---|---|---|---|---|---|---|---|\n",
       "| World       | 2010        | Export      | 15337934825 | 6055398026  | \n",
       "| World       | 2010        | Import      | 15788234286 | 8067396001  | \n",
       "| World       | 2010        | Re-Export   |  2715696936 |  778328090  | \n",
       "| World       | 2010        | Re-Import   |     1388963 |     777764  | \n",
       "| World       | 2011        | Export      | 14822716997 | 7024457937  | \n",
       "| World       | 2011        | Import      | 15974271606 | 9618215653  | \n",
       "| World       | 2011        | Re-Export   |  2655678460 |  860032180  | \n",
       "| World       | 2011        | Re-Import   |     1748614 |    1257839  | \n",
       "| World       | 2012        | Export      | 14841538079 | 6891275058  | \n",
       "| World       | 2012        | Import      | 15940073245 | 9546979599  | \n",
       "| World       | 2012        | Re-Export   |  2972745377 |  970896285  | \n",
       "| World       | 2012        | Re-Import   |     1407305 |    1055318  | \n",
       "| World       | 2013        | Export      | 12886423344 | 6553549084  | \n",
       "| World       | 2013        | Import      | 14753077691 | 9299623410  | \n",
       "| World       | 2013        | Re-Export   |  1328604612 |  732275584  | \n",
       "| World       | 2013        | Re-Import   |     1106226 |     541806  | \n",
       "| World       | 2014        | Export      | 15383279767 | 6779584437  | \n",
       "| World       | 2014        | Import      | 15689358869 | 9447374505  | \n",
       "| World       | 2014        | Re-Export   |  2976671316 |  918006322  | \n",
       "| World       | 2014        | Re-Import   |     2096504 |    1385985  | \n",
       "| World       | 2015        | Export      | 14259127866 | 5630369256  | \n",
       "| World       | 2015        | Import      | 14868566711 | 7065579944  | \n",
       "| World       | 2015        | Re-Export   |  2761138135 |  883085367  | \n",
       "| World       | 2015        | Re-Import   |     7473772 |    2670648  | \n",
       "| World       | 2016        | Export      | 11327271470 | 4257018111  | \n",
       "| World       | 2016        | Import      | 15242995928 | 6464519244  | \n",
       "| World       | 2016        | Re-Export   |    20941252 |   10521716  | \n",
       "| World       | 2016        | Re-Import   |     3231188 |    1055903  | \n",
       "| World       | 2017        | Export      |  8711767738 | 3729029500  | \n",
       "| World       | 2017        | Import      |  5887667219 | 2263661442  | \n",
       "| World       | 2017        | Re-Export   |    12376627 |  546091406  | \n",
       "| World       | 2017        | Re-Import   |     4704120 |    1828282  | \n",
       "\n",
       "\n"
      ],
      "text/plain": [
       "   all   year Flow      sum_netweight sum_value \n",
       "1  World 2010 Export    15337934825   6055398026\n",
       "2  World 2010 Import    15788234286   8067396001\n",
       "3  World 2010 Re-Export  2715696936    778328090\n",
       "4  World 2010 Re-Import     1388963       777764\n",
       "5  World 2011 Export    14822716997   7024457937\n",
       "6  World 2011 Import    15974271606   9618215653\n",
       "7  World 2011 Re-Export  2655678460    860032180\n",
       "8  World 2011 Re-Import     1748614      1257839\n",
       "9  World 2012 Export    14841538079   6891275058\n",
       "10 World 2012 Import    15940073245   9546979599\n",
       "11 World 2012 Re-Export  2972745377    970896285\n",
       "12 World 2012 Re-Import     1407305      1055318\n",
       "13 World 2013 Export    12886423344   6553549084\n",
       "14 World 2013 Import    14753077691   9299623410\n",
       "15 World 2013 Re-Export  1328604612    732275584\n",
       "16 World 2013 Re-Import     1106226       541806\n",
       "17 World 2014 Export    15383279767   6779584437\n",
       "18 World 2014 Import    15689358869   9447374505\n",
       "19 World 2014 Re-Export  2976671316    918006322\n",
       "20 World 2014 Re-Import     2096504      1385985\n",
       "21 World 2015 Export    14259127866   5630369256\n",
       "22 World 2015 Import    14868566711   7065579944\n",
       "23 World 2015 Re-Export  2761138135    883085367\n",
       "24 World 2015 Re-Import     7473772      2670648\n",
       "25 World 2016 Export    11327271470   4257018111\n",
       "26 World 2016 Import    15242995928   6464519244\n",
       "27 World 2016 Re-Export    20941252     10521716\n",
       "28 World 2016 Re-Import     3231188      1055903\n",
       "29 World 2017 Export     8711767738   3729029500\n",
       "30 World 2017 Import     5887667219   2263661442\n",
       "31 World 2017 Re-Export    12376627    546091406\n",
       "32 World 2017 Re-Import     4704120      1828282"
      ]
     },
     "metadata": {},
     "output_type": "display_data"
    },
    {
     "data": {
      "text/html": [
       "<table>\n",
       "<thead><tr><th scope=col>all</th><th scope=col>year</th><th scope=col>Flow</th><th scope=col>sum_netweight</th><th scope=col>sum_value</th><th scope=col>prunit</th></tr></thead>\n",
       "<tbody>\n",
       "\t<tr><td>World      </td><td>2010       </td><td>Export     </td><td>15337934825</td><td>6055398026 </td><td>  394.7988 </td></tr>\n",
       "\t<tr><td>World      </td><td>2010       </td><td>Import     </td><td>15788234286</td><td>8067396001 </td><td>  510.9752 </td></tr>\n",
       "\t<tr><td>World      </td><td>2010       </td><td>Re-Export  </td><td> 2715696936</td><td> 778328090 </td><td>  286.6034 </td></tr>\n",
       "\t<tr><td>World      </td><td>2010       </td><td>Re-Import  </td><td>    1388963</td><td>    777764 </td><td>  559.9602 </td></tr>\n",
       "\t<tr><td>World      </td><td>2011       </td><td>Export     </td><td>14822716997</td><td>7024457937 </td><td>  473.8981 </td></tr>\n",
       "\t<tr><td>World      </td><td>2011       </td><td>Import     </td><td>15974271606</td><td>9618215653 </td><td>  602.1067 </td></tr>\n",
       "\t<tr><td>World      </td><td>2011       </td><td>Re-Export  </td><td> 2655678460</td><td> 860032180 </td><td>  323.8465 </td></tr>\n",
       "\t<tr><td>World      </td><td>2011       </td><td>Re-Import  </td><td>    1748614</td><td>   1257839 </td><td>  719.3349 </td></tr>\n",
       "\t<tr><td>World      </td><td>2012       </td><td>Export     </td><td>14841538079</td><td>6891275058 </td><td>  464.3235 </td></tr>\n",
       "\t<tr><td>World      </td><td>2012       </td><td>Import     </td><td>15940073245</td><td>9546979599 </td><td>  598.9295 </td></tr>\n",
       "\t<tr><td>World      </td><td>2012       </td><td>Re-Export  </td><td> 2972745377</td><td> 970896285 </td><td>  326.5992 </td></tr>\n",
       "\t<tr><td>World      </td><td>2012       </td><td>Re-Import  </td><td>    1407305</td><td>   1055318 </td><td>  749.8858 </td></tr>\n",
       "\t<tr><td>World      </td><td>2013       </td><td>Export     </td><td>12886423344</td><td>6553549084 </td><td>  508.5623 </td></tr>\n",
       "\t<tr><td>World      </td><td>2013       </td><td>Import     </td><td>14753077691</td><td>9299623410 </td><td>  630.3514 </td></tr>\n",
       "\t<tr><td>World      </td><td>2013       </td><td>Re-Export  </td><td> 1328604612</td><td> 732275584 </td><td>  551.1614 </td></tr>\n",
       "\t<tr><td>World      </td><td>2013       </td><td>Re-Import  </td><td>    1106226</td><td>    541806 </td><td>  489.7788 </td></tr>\n",
       "\t<tr><td>World      </td><td>2014       </td><td>Export     </td><td>15383279767</td><td>6779584437 </td><td>  440.7112 </td></tr>\n",
       "\t<tr><td>World      </td><td>2014       </td><td>Import     </td><td>15689358869</td><td>9447374505 </td><td>  602.1517 </td></tr>\n",
       "\t<tr><td>World      </td><td>2014       </td><td>Re-Export  </td><td> 2976671316</td><td> 918006322 </td><td>  308.4003 </td></tr>\n",
       "\t<tr><td>World      </td><td>2014       </td><td>Re-Import  </td><td>    2096504</td><td>   1385985 </td><td>  661.0934 </td></tr>\n",
       "\t<tr><td>World      </td><td>2015       </td><td>Export     </td><td>14259127866</td><td>5630369256 </td><td>  394.8607 </td></tr>\n",
       "\t<tr><td>World      </td><td>2015       </td><td>Import     </td><td>14868566711</td><td>7065579944 </td><td>  475.2025 </td></tr>\n",
       "\t<tr><td>World      </td><td>2015       </td><td>Re-Export  </td><td> 2761138135</td><td> 883085367 </td><td>  319.8266 </td></tr>\n",
       "\t<tr><td>World      </td><td>2015       </td><td>Re-Import  </td><td>    7473772</td><td>   2670648 </td><td>  357.3360 </td></tr>\n",
       "\t<tr><td>World      </td><td>2016       </td><td>Export     </td><td>11327271470</td><td>4257018111 </td><td>  375.8203 </td></tr>\n",
       "\t<tr><td>World      </td><td>2016       </td><td>Import     </td><td>15242995928</td><td>6464519244 </td><td>  424.0977 </td></tr>\n",
       "\t<tr><td>World      </td><td>2016       </td><td>Re-Export  </td><td>   20941252</td><td>  10521716 </td><td>  502.4397 </td></tr>\n",
       "\t<tr><td>World      </td><td>2016       </td><td>Re-Import  </td><td>    3231188</td><td>   1055903 </td><td>  326.7848 </td></tr>\n",
       "\t<tr><td>World      </td><td>2017       </td><td>Export     </td><td> 8711767738</td><td>3729029500 </td><td>  428.0451 </td></tr>\n",
       "\t<tr><td>World      </td><td>2017       </td><td>Import     </td><td> 5887667219</td><td>2263661442 </td><td>  384.4751 </td></tr>\n",
       "\t<tr><td>World      </td><td>2017       </td><td>Re-Export  </td><td>   12376627</td><td> 546091406 </td><td>44122.7974 </td></tr>\n",
       "\t<tr><td>World      </td><td>2017       </td><td>Re-Import  </td><td>    4704120</td><td>   1828282 </td><td>  388.6555 </td></tr>\n",
       "</tbody>\n",
       "</table>\n"
      ],
      "text/latex": [
       "\\begin{tabular}{r|llllll}\n",
       " all & year & Flow & sum\\_netweight & sum\\_value & prunit\\\\\n",
       "\\hline\n",
       "\t World       & 2010        & Export      & 15337934825 & 6055398026  &   394.7988 \\\\\n",
       "\t World       & 2010        & Import      & 15788234286 & 8067396001  &   510.9752 \\\\\n",
       "\t World       & 2010        & Re-Export   &  2715696936 &  778328090  &   286.6034 \\\\\n",
       "\t World       & 2010        & Re-Import   &     1388963 &     777764  &   559.9602 \\\\\n",
       "\t World       & 2011        & Export      & 14822716997 & 7024457937  &   473.8981 \\\\\n",
       "\t World       & 2011        & Import      & 15974271606 & 9618215653  &   602.1067 \\\\\n",
       "\t World       & 2011        & Re-Export   &  2655678460 &  860032180  &   323.8465 \\\\\n",
       "\t World       & 2011        & Re-Import   &     1748614 &    1257839  &   719.3349 \\\\\n",
       "\t World       & 2012        & Export      & 14841538079 & 6891275058  &   464.3235 \\\\\n",
       "\t World       & 2012        & Import      & 15940073245 & 9546979599  &   598.9295 \\\\\n",
       "\t World       & 2012        & Re-Export   &  2972745377 &  970896285  &   326.5992 \\\\\n",
       "\t World       & 2012        & Re-Import   &     1407305 &    1055318  &   749.8858 \\\\\n",
       "\t World       & 2013        & Export      & 12886423344 & 6553549084  &   508.5623 \\\\\n",
       "\t World       & 2013        & Import      & 14753077691 & 9299623410  &   630.3514 \\\\\n",
       "\t World       & 2013        & Re-Export   &  1328604612 &  732275584  &   551.1614 \\\\\n",
       "\t World       & 2013        & Re-Import   &     1106226 &     541806  &   489.7788 \\\\\n",
       "\t World       & 2014        & Export      & 15383279767 & 6779584437  &   440.7112 \\\\\n",
       "\t World       & 2014        & Import      & 15689358869 & 9447374505  &   602.1517 \\\\\n",
       "\t World       & 2014        & Re-Export   &  2976671316 &  918006322  &   308.4003 \\\\\n",
       "\t World       & 2014        & Re-Import   &     2096504 &    1385985  &   661.0934 \\\\\n",
       "\t World       & 2015        & Export      & 14259127866 & 5630369256  &   394.8607 \\\\\n",
       "\t World       & 2015        & Import      & 14868566711 & 7065579944  &   475.2025 \\\\\n",
       "\t World       & 2015        & Re-Export   &  2761138135 &  883085367  &   319.8266 \\\\\n",
       "\t World       & 2015        & Re-Import   &     7473772 &    2670648  &   357.3360 \\\\\n",
       "\t World       & 2016        & Export      & 11327271470 & 4257018111  &   375.8203 \\\\\n",
       "\t World       & 2016        & Import      & 15242995928 & 6464519244  &   424.0977 \\\\\n",
       "\t World       & 2016        & Re-Export   &    20941252 &   10521716  &   502.4397 \\\\\n",
       "\t World       & 2016        & Re-Import   &     3231188 &    1055903  &   326.7848 \\\\\n",
       "\t World       & 2017        & Export      &  8711767738 & 3729029500  &   428.0451 \\\\\n",
       "\t World       & 2017        & Import      &  5887667219 & 2263661442  &   384.4751 \\\\\n",
       "\t World       & 2017        & Re-Export   &    12376627 &  546091406  & 44122.7974 \\\\\n",
       "\t World       & 2017        & Re-Import   &     4704120 &    1828282  &   388.6555 \\\\\n",
       "\\end{tabular}\n"
      ],
      "text/markdown": [
       "\n",
       "all | year | Flow | sum_netweight | sum_value | prunit | \n",
       "|---|---|---|---|---|---|---|---|---|---|---|---|---|---|---|---|---|---|---|---|---|---|---|---|---|---|---|---|---|---|---|---|\n",
       "| World       | 2010        | Export      | 15337934825 | 6055398026  |   394.7988  | \n",
       "| World       | 2010        | Import      | 15788234286 | 8067396001  |   510.9752  | \n",
       "| World       | 2010        | Re-Export   |  2715696936 |  778328090  |   286.6034  | \n",
       "| World       | 2010        | Re-Import   |     1388963 |     777764  |   559.9602  | \n",
       "| World       | 2011        | Export      | 14822716997 | 7024457937  |   473.8981  | \n",
       "| World       | 2011        | Import      | 15974271606 | 9618215653  |   602.1067  | \n",
       "| World       | 2011        | Re-Export   |  2655678460 |  860032180  |   323.8465  | \n",
       "| World       | 2011        | Re-Import   |     1748614 |    1257839  |   719.3349  | \n",
       "| World       | 2012        | Export      | 14841538079 | 6891275058  |   464.3235  | \n",
       "| World       | 2012        | Import      | 15940073245 | 9546979599  |   598.9295  | \n",
       "| World       | 2012        | Re-Export   |  2972745377 |  970896285  |   326.5992  | \n",
       "| World       | 2012        | Re-Import   |     1407305 |    1055318  |   749.8858  | \n",
       "| World       | 2013        | Export      | 12886423344 | 6553549084  |   508.5623  | \n",
       "| World       | 2013        | Import      | 14753077691 | 9299623410  |   630.3514  | \n",
       "| World       | 2013        | Re-Export   |  1328604612 |  732275584  |   551.1614  | \n",
       "| World       | 2013        | Re-Import   |     1106226 |     541806  |   489.7788  | \n",
       "| World       | 2014        | Export      | 15383279767 | 6779584437  |   440.7112  | \n",
       "| World       | 2014        | Import      | 15689358869 | 9447374505  |   602.1517  | \n",
       "| World       | 2014        | Re-Export   |  2976671316 |  918006322  |   308.4003  | \n",
       "| World       | 2014        | Re-Import   |     2096504 |    1385985  |   661.0934  | \n",
       "| World       | 2015        | Export      | 14259127866 | 5630369256  |   394.8607  | \n",
       "| World       | 2015        | Import      | 14868566711 | 7065579944  |   475.2025  | \n",
       "| World       | 2015        | Re-Export   |  2761138135 |  883085367  |   319.8266  | \n",
       "| World       | 2015        | Re-Import   |     7473772 |    2670648  |   357.3360  | \n",
       "| World       | 2016        | Export      | 11327271470 | 4257018111  |   375.8203  | \n",
       "| World       | 2016        | Import      | 15242995928 | 6464519244  |   424.0977  | \n",
       "| World       | 2016        | Re-Export   |    20941252 |   10521716  |   502.4397  | \n",
       "| World       | 2016        | Re-Import   |     3231188 |    1055903  |   326.7848  | \n",
       "| World       | 2017        | Export      |  8711767738 | 3729029500  |   428.0451  | \n",
       "| World       | 2017        | Import      |  5887667219 | 2263661442  |   384.4751  | \n",
       "| World       | 2017        | Re-Export   |    12376627 |  546091406  | 44122.7974  | \n",
       "| World       | 2017        | Re-Import   |     4704120 |    1828282  |   388.6555  | \n",
       "\n",
       "\n"
      ],
      "text/plain": [
       "   all   year Flow      sum_netweight sum_value  prunit    \n",
       "1  World 2010 Export    15337934825   6055398026   394.7988\n",
       "2  World 2010 Import    15788234286   8067396001   510.9752\n",
       "3  World 2010 Re-Export  2715696936    778328090   286.6034\n",
       "4  World 2010 Re-Import     1388963       777764   559.9602\n",
       "5  World 2011 Export    14822716997   7024457937   473.8981\n",
       "6  World 2011 Import    15974271606   9618215653   602.1067\n",
       "7  World 2011 Re-Export  2655678460    860032180   323.8465\n",
       "8  World 2011 Re-Import     1748614      1257839   719.3349\n",
       "9  World 2012 Export    14841538079   6891275058   464.3235\n",
       "10 World 2012 Import    15940073245   9546979599   598.9295\n",
       "11 World 2012 Re-Export  2972745377    970896285   326.5992\n",
       "12 World 2012 Re-Import     1407305      1055318   749.8858\n",
       "13 World 2013 Export    12886423344   6553549084   508.5623\n",
       "14 World 2013 Import    14753077691   9299623410   630.3514\n",
       "15 World 2013 Re-Export  1328604612    732275584   551.1614\n",
       "16 World 2013 Re-Import     1106226       541806   489.7788\n",
       "17 World 2014 Export    15383279767   6779584437   440.7112\n",
       "18 World 2014 Import    15689358869   9447374505   602.1517\n",
       "19 World 2014 Re-Export  2976671316    918006322   308.4003\n",
       "20 World 2014 Re-Import     2096504      1385985   661.0934\n",
       "21 World 2015 Export    14259127866   5630369256   394.8607\n",
       "22 World 2015 Import    14868566711   7065579944   475.2025\n",
       "23 World 2015 Re-Export  2761138135    883085367   319.8266\n",
       "24 World 2015 Re-Import     7473772      2670648   357.3360\n",
       "25 World 2016 Export    11327271470   4257018111   375.8203\n",
       "26 World 2016 Import    15242995928   6464519244   424.0977\n",
       "27 World 2016 Re-Export    20941252     10521716   502.4397\n",
       "28 World 2016 Re-Import     3231188      1055903   326.7848\n",
       "29 World 2017 Export     8711767738   3729029500   428.0451\n",
       "30 World 2017 Import     5887667219   2263661442   384.4751\n",
       "31 World 2017 Re-Export    12376627    546091406 44122.7974\n",
       "32 World 2017 Re-Import     4704120      1828282   388.6555"
      ]
     },
     "metadata": {},
     "output_type": "display_data"
    }
   ],
   "source": [
    "pla %>% mutate(all = 'World') %>% filter(!is.na(Netweight_kg) & !is.na(Value_usd)) -> pla_wc\n",
    "pla_wc %>% group_by(all) %>% \n",
    "        summarize(sum_netweight = sum(Netweight_kg), \n",
    "                  sum_value = sum(Value_usd)) %>% ungroup -> pla_wcsum\n",
    "pla_wc %>% group_by(all, year) %>% \n",
    "        summarize(sum_netweight = sum(Netweight_kg), \n",
    "                  sum_value = sum(Value_usd)) %>% ungroup -> pla_wcysum\n",
    "pla_wc %>% group_by(all, year, Flow) %>% \n",
    "        summarize(sum_netweight = sum(Netweight_kg), \n",
    "                  sum_value = sum(Value_usd)) %>% ungroup -> pla_wcyfsum\n",
    "## check\n",
    "pla_wcsum\n",
    "pla_wcysum\n",
    "pla_wcyfsum\n"
   ]
  },
  {
   "cell_type": "markdown",
   "metadata": {},
   "source": [
    "### 3.2 "
   ]
  },
  {
   "cell_type": "code",
   "execution_count": 17,
   "metadata": {},
   "outputs": [
    {
     "data": {
      "text/html": [
       "<table>\n",
       "<thead><tr><th scope=col>Reporter</th><th scope=col>Reporter_nm</th><th scope=col>Flow</th><th scope=col>sum_weight</th><th scope=col>sum_value</th></tr></thead>\n",
       "<tbody>\n",
       "\t<tr><td>ABW                 </td><td>ARUBA               </td><td>Import              </td><td>      419           </td><td>     1801           </td></tr>\n",
       "\t<tr><td>AGO                 </td><td>ANGOLA              </td><td>Import              </td><td>  1670777           </td><td>  3249450           </td></tr>\n",
       "\t<tr><td>ALB                 </td><td>ALBANIA             </td><td>Export              </td><td> 19885126           </td><td> 13202636           </td></tr>\n",
       "\t<tr><td>ALB                 </td><td>ALBANIA             </td><td>Import              </td><td> 14088276           </td><td>  5680646           </td></tr>\n",
       "\t<tr><td>AND                 </td><td>ANDORRA             </td><td>Export              </td><td>  7575360           </td><td>  1085887           </td></tr>\n",
       "\t<tr><td>AND                 </td><td>ANDORRA             </td><td>Import              </td><td>   106457           </td><td>    10315           </td></tr>\n",
       "\t<tr><td>ARE                 </td><td>UNITED ARAB EMIRATES</td><td>Export              </td><td>225834713           </td><td> 69352245           </td></tr>\n",
       "\t<tr><td>ARE                 </td><td>UNITED ARAB EMIRATES</td><td>Import              </td><td> 52858666           </td><td> 35525623           </td></tr>\n",
       "\t<tr><td>ARE                 </td><td>UNITED ARAB EMIRATES</td><td>Re-Export           </td><td>  9581072           </td><td>  3980199           </td></tr>\n",
       "\t<tr><td>ARG                 </td><td>ARGENTINA           </td><td>Export              </td><td>153709866           </td><td>115702253           </td></tr>\n",
       "\t<tr><td>ARG                 </td><td>ARGENTINA           </td><td>Import              </td><td>   994772           </td><td>  1155236           </td></tr>\n",
       "\t<tr><td>ARM                 </td><td>ARMENIA             </td><td>Export              </td><td>   963244           </td><td>   538501           </td></tr>\n",
       "</tbody>\n",
       "</table>\n"
      ],
      "text/latex": [
       "\\begin{tabular}{r|lllll}\n",
       " Reporter & Reporter\\_nm & Flow & sum\\_weight & sum\\_value\\\\\n",
       "\\hline\n",
       "\t ABW                  & ARUBA                & Import               &       419            &      1801           \\\\\n",
       "\t AGO                  & ANGOLA               & Import               &   1670777            &   3249450           \\\\\n",
       "\t ALB                  & ALBANIA              & Export               &  19885126            &  13202636           \\\\\n",
       "\t ALB                  & ALBANIA              & Import               &  14088276            &   5680646           \\\\\n",
       "\t AND                  & ANDORRA              & Export               &   7575360            &   1085887           \\\\\n",
       "\t AND                  & ANDORRA              & Import               &    106457            &     10315           \\\\\n",
       "\t ARE                  & UNITED ARAB EMIRATES & Export               & 225834713            &  69352245           \\\\\n",
       "\t ARE                  & UNITED ARAB EMIRATES & Import               &  52858666            &  35525623           \\\\\n",
       "\t ARE                  & UNITED ARAB EMIRATES & Re-Export            &   9581072            &   3980199           \\\\\n",
       "\t ARG                  & ARGENTINA            & Export               & 153709866            & 115702253           \\\\\n",
       "\t ARG                  & ARGENTINA            & Import               &    994772            &   1155236           \\\\\n",
       "\t ARM                  & ARMENIA              & Export               &    963244            &    538501           \\\\\n",
       "\\end{tabular}\n"
      ],
      "text/markdown": [
       "\n",
       "Reporter | Reporter_nm | Flow | sum_weight | sum_value | \n",
       "|---|---|---|---|---|---|---|---|---|---|---|---|\n",
       "| ABW                  | ARUBA                | Import               |       419            |      1801            | \n",
       "| AGO                  | ANGOLA               | Import               |   1670777            |   3249450            | \n",
       "| ALB                  | ALBANIA              | Export               |  19885126            |  13202636            | \n",
       "| ALB                  | ALBANIA              | Import               |  14088276            |   5680646            | \n",
       "| AND                  | ANDORRA              | Export               |   7575360            |   1085887            | \n",
       "| AND                  | ANDORRA              | Import               |    106457            |     10315            | \n",
       "| ARE                  | UNITED ARAB EMIRATES | Export               | 225834713            |  69352245            | \n",
       "| ARE                  | UNITED ARAB EMIRATES | Import               |  52858666            |  35525623            | \n",
       "| ARE                  | UNITED ARAB EMIRATES | Re-Export            |   9581072            |   3980199            | \n",
       "| ARG                  | ARGENTINA            | Export               | 153709866            | 115702253            | \n",
       "| ARG                  | ARGENTINA            | Import               |    994772            |   1155236            | \n",
       "| ARM                  | ARMENIA              | Export               |    963244            |    538501            | \n",
       "\n",
       "\n"
      ],
      "text/plain": [
       "   Reporter Reporter_nm          Flow      sum_weight sum_value\n",
       "1  ABW      ARUBA                Import          419       1801\n",
       "2  AGO      ANGOLA               Import      1670777    3249450\n",
       "3  ALB      ALBANIA              Export     19885126   13202636\n",
       "4  ALB      ALBANIA              Import     14088276    5680646\n",
       "5  AND      ANDORRA              Export      7575360    1085887\n",
       "6  AND      ANDORRA              Import       106457      10315\n",
       "7  ARE      UNITED ARAB EMIRATES Export    225834713   69352245\n",
       "8  ARE      UNITED ARAB EMIRATES Import     52858666   35525623\n",
       "9  ARE      UNITED ARAB EMIRATES Re-Export   9581072    3980199\n",
       "10 ARG      ARGENTINA            Export    153709866  115702253\n",
       "11 ARG      ARGENTINA            Import       994772    1155236\n",
       "12 ARM      ARMENIA              Export       963244     538501"
      ]
     },
     "metadata": {},
     "output_type": "display_data"
    },
    {
     "data": {
      "text/html": [
       "<table>\n",
       "<thead><tr><th scope=col>Reporter</th><th scope=col>Reporter_nm</th><th scope=col>Flow</th><th scope=col>sum_weight</th><th scope=col>sum_value</th></tr></thead>\n",
       "<tbody>\n",
       "\t<tr><td>CHN          </td><td>CHINA        </td><td>Import       </td><td>54354071286  </td><td>36336946108  </td></tr>\n",
       "\t<tr><td>HKG          </td><td>HONG KONG    </td><td>Import       </td><td>24751934145  </td><td> 9466704226  </td></tr>\n",
       "\t<tr><td>USA          </td><td>UNITED STATES</td><td>Import       </td><td> 3127863369  </td><td> 1909130829  </td></tr>\n",
       "\t<tr><td>NLD          </td><td>NETHERLANDS  </td><td>Import       </td><td> 3501518399  </td><td> 1484676228  </td></tr>\n",
       "\t<tr><td>DEU          </td><td>GERMANY      </td><td>Import       </td><td> 3531762637  </td><td> 1453887673  </td></tr>\n",
       "</tbody>\n",
       "</table>\n"
      ],
      "text/latex": [
       "\\begin{tabular}{r|lllll}\n",
       " Reporter & Reporter\\_nm & Flow & sum\\_weight & sum\\_value\\\\\n",
       "\\hline\n",
       "\t CHN           & CHINA         & Import        & 54354071286   & 36336946108  \\\\\n",
       "\t HKG           & HONG KONG     & Import        & 24751934145   &  9466704226  \\\\\n",
       "\t USA           & UNITED STATES & Import        &  3127863369   &  1909130829  \\\\\n",
       "\t NLD           & NETHERLANDS   & Import        &  3501518399   &  1484676228  \\\\\n",
       "\t DEU           & GERMANY       & Import        &  3531762637   &  1453887673  \\\\\n",
       "\\end{tabular}\n"
      ],
      "text/markdown": [
       "\n",
       "Reporter | Reporter_nm | Flow | sum_weight | sum_value | \n",
       "|---|---|---|---|---|\n",
       "| CHN           | CHINA         | Import        | 54354071286   | 36336946108   | \n",
       "| HKG           | HONG KONG     | Import        | 24751934145   |  9466704226   | \n",
       "| USA           | UNITED STATES | Import        |  3127863369   |  1909130829   | \n",
       "| NLD           | NETHERLANDS   | Import        |  3501518399   |  1484676228   | \n",
       "| DEU           | GERMANY       | Import        |  3531762637   |  1453887673   | \n",
       "\n",
       "\n"
      ],
      "text/plain": [
       "  Reporter Reporter_nm   Flow   sum_weight  sum_value  \n",
       "1 CHN      CHINA         Import 54354071286 36336946108\n",
       "2 HKG      HONG KONG     Import 24751934145  9466704226\n",
       "3 USA      UNITED STATES Import  3127863369  1909130829\n",
       "4 NLD      NETHERLANDS   Import  3501518399  1484676228\n",
       "5 DEU      GERMANY       Import  3531762637  1453887673"
      ]
     },
     "metadata": {},
     "output_type": "display_data"
    },
    {
     "data": {
      "text/html": [
       "<table>\n",
       "<thead><tr><th scope=col>Reporter</th><th scope=col>Reporter_nm</th><th scope=col>Flow</th><th scope=col>sum_weight</th><th scope=col>sum_value</th></tr></thead>\n",
       "<tbody>\n",
       "\t<tr><td>USA           </td><td>UNITED STATES </td><td>Export        </td><td>15525288773   </td><td>6865813082    </td></tr>\n",
       "\t<tr><td>HKG           </td><td>HONG KONG     </td><td>Export        </td><td>18268866049   </td><td>6526781228    </td></tr>\n",
       "\t<tr><td>JPN           </td><td>JAPAN         </td><td>Export        </td><td>12157602181   </td><td>5730224769    </td></tr>\n",
       "\t<tr><td>DEU           </td><td>GERMANY       </td><td>Export        </td><td>11182738775   </td><td>4824569249    </td></tr>\n",
       "\t<tr><td>GBR           </td><td>UNITED KINGDOM</td><td>Export        </td><td> 6143680321   </td><td>2029233554    </td></tr>\n",
       "</tbody>\n",
       "</table>\n"
      ],
      "text/latex": [
       "\\begin{tabular}{r|lllll}\n",
       " Reporter & Reporter\\_nm & Flow & sum\\_weight & sum\\_value\\\\\n",
       "\\hline\n",
       "\t USA            & UNITED STATES  & Export         & 15525288773    & 6865813082    \\\\\n",
       "\t HKG            & HONG KONG      & Export         & 18268866049    & 6526781228    \\\\\n",
       "\t JPN            & JAPAN          & Export         & 12157602181    & 5730224769    \\\\\n",
       "\t DEU            & GERMANY        & Export         & 11182738775    & 4824569249    \\\\\n",
       "\t GBR            & UNITED KINGDOM & Export         &  6143680321    & 2029233554    \\\\\n",
       "\\end{tabular}\n"
      ],
      "text/markdown": [
       "\n",
       "Reporter | Reporter_nm | Flow | sum_weight | sum_value | \n",
       "|---|---|---|---|---|\n",
       "| USA            | UNITED STATES  | Export         | 15525288773    | 6865813082     | \n",
       "| HKG            | HONG KONG      | Export         | 18268866049    | 6526781228     | \n",
       "| JPN            | JAPAN          | Export         | 12157602181    | 5730224769     | \n",
       "| DEU            | GERMANY        | Export         | 11182738775    | 4824569249     | \n",
       "| GBR            | UNITED KINGDOM | Export         |  6143680321    | 2029233554     | \n",
       "\n",
       "\n"
      ],
      "text/plain": [
       "  Reporter Reporter_nm    Flow   sum_weight  sum_value \n",
       "1 USA      UNITED STATES  Export 15525288773 6865813082\n",
       "2 HKG      HONG KONG      Export 18268866049 6526781228\n",
       "3 JPN      JAPAN          Export 12157602181 5730224769\n",
       "4 DEU      GERMANY        Export 11182738775 4824569249\n",
       "5 GBR      UNITED KINGDOM Export  6143680321 2029233554"
      ]
     },
     "metadata": {},
     "output_type": "display_data"
    },
    {
     "data": {
      "text/html": [
       "<table>\n",
       "<thead><tr><th scope=col>Reporter</th><th scope=col>Reporter_nm</th><th scope=col>Flow</th><th scope=col>sum_weight</th><th scope=col>sum_value</th></tr></thead>\n",
       "<tbody>\n",
       "\t<tr><td>PAK               </td><td>PAKISTAN          </td><td>Re-Import         </td><td>10599464          </td><td>2833013           </td></tr>\n",
       "\t<tr><td>CAN               </td><td>CANADA            </td><td>Re-Import         </td><td> 4545031          </td><td>2580185           </td></tr>\n",
       "\t<tr><td>FRA               </td><td>FRANCE            </td><td>Re-Import         </td><td> 1856898          </td><td>1546052           </td></tr>\n",
       "\t<tr><td>RUS               </td><td>RUSSIAN FEDERATION</td><td>Re-Import         </td><td> 2238450          </td><td>1150009           </td></tr>\n",
       "\t<tr><td>PRT               </td><td>PORTUGAL          </td><td>Re-Import         </td><td>  969413          </td><td> 785876           </td></tr>\n",
       "</tbody>\n",
       "</table>\n"
      ],
      "text/latex": [
       "\\begin{tabular}{r|lllll}\n",
       " Reporter & Reporter\\_nm & Flow & sum\\_weight & sum\\_value\\\\\n",
       "\\hline\n",
       "\t PAK                & PAKISTAN           & Re-Import          & 10599464           & 2833013           \\\\\n",
       "\t CAN                & CANADA             & Re-Import          &  4545031           & 2580185           \\\\\n",
       "\t FRA                & FRANCE             & Re-Import          &  1856898           & 1546052           \\\\\n",
       "\t RUS                & RUSSIAN FEDERATION & Re-Import          &  2238450           & 1150009           \\\\\n",
       "\t PRT                & PORTUGAL           & Re-Import          &   969413           &  785876           \\\\\n",
       "\\end{tabular}\n"
      ],
      "text/markdown": [
       "\n",
       "Reporter | Reporter_nm | Flow | sum_weight | sum_value | \n",
       "|---|---|---|---|---|\n",
       "| PAK                | PAKISTAN           | Re-Import          | 10599464           | 2833013            | \n",
       "| CAN                | CANADA             | Re-Import          |  4545031           | 2580185            | \n",
       "| FRA                | FRANCE             | Re-Import          |  1856898           | 1546052            | \n",
       "| RUS                | RUSSIAN FEDERATION | Re-Import          |  2238450           | 1150009            | \n",
       "| PRT                | PORTUGAL           | Re-Import          |   969413           |  785876            | \n",
       "\n",
       "\n"
      ],
      "text/plain": [
       "  Reporter Reporter_nm        Flow      sum_weight sum_value\n",
       "1 PAK      PAKISTAN           Re-Import 10599464   2833013  \n",
       "2 CAN      CANADA             Re-Import  4545031   2580185  \n",
       "3 FRA      FRANCE             Re-Import  1856898   1546052  \n",
       "4 RUS      RUSSIAN FEDERATION Re-Import  2238450   1150009  \n",
       "5 PRT      PORTUGAL           Re-Import   969413    785876  "
      ]
     },
     "metadata": {},
     "output_type": "display_data"
    },
    {
     "data": {
      "text/html": [
       "<table>\n",
       "<thead><tr><th scope=col>Reporter</th><th scope=col>Reporter_nm</th><th scope=col>Flow</th><th scope=col>sum_weight</th><th scope=col>sum_value</th></tr></thead>\n",
       "<tbody>\n",
       "\t<tr><td>HKG                 </td><td>HONG KONG           </td><td>Re-Export           </td><td>15173462459         </td><td>5598515394          </td></tr>\n",
       "\t<tr><td>USA                 </td><td>UNITED STATES       </td><td>Re-Export           </td><td>  142910797         </td><td>  57664328          </td></tr>\n",
       "\t<tr><td>SAU                 </td><td>SAUDI ARABIA        </td><td>Re-Export           </td><td>   95103000         </td><td>  27700567          </td></tr>\n",
       "\t<tr><td>CAN                 </td><td>CANADA              </td><td>Re-Export           </td><td>    6707501         </td><td>   5563311          </td></tr>\n",
       "\t<tr><td>ARE                 </td><td>UNITED ARAB EMIRATES</td><td>Re-Export           </td><td>    9581072         </td><td>   3980199          </td></tr>\n",
       "</tbody>\n",
       "</table>\n"
      ],
      "text/latex": [
       "\\begin{tabular}{r|lllll}\n",
       " Reporter & Reporter\\_nm & Flow & sum\\_weight & sum\\_value\\\\\n",
       "\\hline\n",
       "\t HKG                  & HONG KONG            & Re-Export            & 15173462459          & 5598515394          \\\\\n",
       "\t USA                  & UNITED STATES        & Re-Export            &   142910797          &   57664328          \\\\\n",
       "\t SAU                  & SAUDI ARABIA         & Re-Export            &    95103000          &   27700567          \\\\\n",
       "\t CAN                  & CANADA               & Re-Export            &     6707501          &    5563311          \\\\\n",
       "\t ARE                  & UNITED ARAB EMIRATES & Re-Export            &     9581072          &    3980199          \\\\\n",
       "\\end{tabular}\n"
      ],
      "text/markdown": [
       "\n",
       "Reporter | Reporter_nm | Flow | sum_weight | sum_value | \n",
       "|---|---|---|---|---|\n",
       "| HKG                  | HONG KONG            | Re-Export            | 15173462459          | 5598515394           | \n",
       "| USA                  | UNITED STATES        | Re-Export            |   142910797          |   57664328           | \n",
       "| SAU                  | SAUDI ARABIA         | Re-Export            |    95103000          |   27700567           | \n",
       "| CAN                  | CANADA               | Re-Export            |     6707501          |    5563311           | \n",
       "| ARE                  | UNITED ARAB EMIRATES | Re-Export            |     9581072          |    3980199           | \n",
       "\n",
       "\n"
      ],
      "text/plain": [
       "  Reporter Reporter_nm          Flow      sum_weight  sum_value \n",
       "1 HKG      HONG KONG            Re-Export 15173462459 5598515394\n",
       "2 USA      UNITED STATES        Re-Export   142910797   57664328\n",
       "3 SAU      SAUDI ARABIA         Re-Export    95103000   27700567\n",
       "4 CAN      CANADA               Re-Export     6707501    5563311\n",
       "5 ARE      UNITED ARAB EMIRATES Re-Export     9581072    3980199"
      ]
     },
     "metadata": {},
     "output_type": "display_data"
    }
   ],
   "source": [
    "pla_wc %>% group_by(Reporter, Reporter_nm, Flow) %>% summarize(sum_weight = sum(Netweight_kg), sum_value = sum(Value_usd)) %>% ungroup -> pla_wccf\n",
    "pla_wccf %>% head(12)\n",
    "pla_wccf %>% filter(Flow == 'Import') %>% arrange(-sum_value) %>% head(5)\n",
    "pla_wccf %>% filter(Flow == 'Export') %>% arrange(-sum_value) %>% head(5)\n",
    "pla_wccf %>% filter(Flow == 'Re-Import') %>% arrange(-sum_value) %>% head(5)\n",
    "pla_wccf %>% filter(Flow == 'Re-Export') %>% arrange(-sum_value) %>% head(5)"
   ]
  },
  {
   "cell_type": "markdown",
   "metadata": {},
   "source": [
    "### 3.3\n",
    "- 아래 코드 블록은 대상국이 중국 (ISO 코드가 'CHN'으로 된)인 자료를 대상으로 각각 순중량과 교역액의 연도별 변화추이를 정리하는 내용입니다. 코드의 흐름을 잘 관찰해 보시기 바랍니다.\n",
    "- 중간에 `dplyr::select`로 표기된 부분은 채워넣을 값을 각각 순중량과 교역액으로 한정하는 역할을 합니다."
   ]
  },
  {
   "cell_type": "code",
   "execution_count": 20,
   "metadata": {},
   "outputs": [
    {
     "data": {
      "text/html": [
       "<table>\n",
       "<thead><tr><th scope=col>Reporter</th><th scope=col>Reporter_nm</th><th scope=col>Flow</th><th scope=col>2010</th><th scope=col>2011</th><th scope=col>2012</th><th scope=col>2013</th><th scope=col>2014</th><th scope=col>2015</th><th scope=col>2016</th><th scope=col>2017</th></tr></thead>\n",
       "<tbody>\n",
       "\t<tr><td>AGO                 </td><td>ANGOLA              </td><td>Import              </td><td>  103322            </td><td>    8511            </td><td>     803            </td><td>   41553            </td><td>    2468            </td><td>   13927            </td><td>     NA             </td><td>     NA             </td></tr>\n",
       "\t<tr><td>ALB                 </td><td>ALBANIA             </td><td>Export              </td><td>  812861            </td><td>  925531            </td><td>  794717            </td><td> 1398855            </td><td>      NA            </td><td>      NA            </td><td>     NA             </td><td>     NA             </td></tr>\n",
       "\t<tr><td>ALB                 </td><td>ALBANIA             </td><td>Import              </td><td>      NA            </td><td>      NA            </td><td>      NA            </td><td>   18720            </td><td>      NA            </td><td>      NA            </td><td>     NA             </td><td>     NA             </td></tr>\n",
       "\t<tr><td>ARE                 </td><td>UNITED ARAB EMIRATES</td><td>Export              </td><td> 6955883            </td><td>11371547            </td><td>13936582            </td><td>49877369            </td><td>15891719            </td><td>12303725            </td><td>8617665             </td><td>     NA             </td></tr>\n",
       "\t<tr><td>ARE                 </td><td>UNITED ARAB EMIRATES</td><td>Import              </td><td>  637212            </td><td> 1124450            </td><td> 1864281            </td><td> 2221856            </td><td> 3374501            </td><td> 3157278            </td><td>2143907             </td><td>     NA             </td></tr>\n",
       "\t<tr><td>ARE                 </td><td>UNITED ARAB EMIRATES</td><td>Re-Export           </td><td> 1721050            </td><td>  134500            </td><td>  714308            </td><td>  134810            </td><td>  313955            </td><td>  106530            </td><td>     NA             </td><td>     NA             </td></tr>\n",
       "\t<tr><td>ARG                 </td><td>ARGENTINA           </td><td>Export              </td><td>25904750            </td><td>25288490            </td><td>21129471            </td><td>14917322            </td><td> 8540762            </td><td> 7674051            </td><td>3269874             </td><td>1712664             </td></tr>\n",
       "\t<tr><td>ARG                 </td><td>ARGENTINA           </td><td>Import              </td><td>      NA            </td><td>      NA            </td><td>      NA            </td><td>      NA            </td><td>      NA            </td><td>      NA            </td><td>     NA             </td><td>  91610             </td></tr>\n",
       "\t<tr><td>ARM                 </td><td>ARMENIA             </td><td>Export              </td><td>  457437            </td><td>      NA            </td><td>      NA            </td><td>      NA            </td><td>      NA            </td><td>      NA            </td><td>     NA             </td><td>     NA             </td></tr>\n",
       "\t<tr><td>ARM                 </td><td>ARMENIA             </td><td>Import              </td><td>      NA            </td><td>      NA            </td><td>      NA            </td><td>      NA            </td><td>       2            </td><td>      NA            </td><td>   9450             </td><td>     NA             </td></tr>\n",
       "\t<tr><td>ATG                 </td><td>ANTIGUA AND BARBUDA </td><td>Export              </td><td>   18700            </td><td>   58896            </td><td>      NA            </td><td>   22000            </td><td>      NA            </td><td>   42960            </td><td>  20000             </td><td>     NA             </td></tr>\n",
       "\t<tr><td>ATG                 </td><td>ANTIGUA AND BARBUDA </td><td>Re-Export           </td><td>   18700            </td><td>   58896            </td><td>      NA            </td><td>      NA            </td><td>      NA            </td><td>      NA            </td><td>     NA             </td><td>     NA             </td></tr>\n",
       "</tbody>\n",
       "</table>\n"
      ],
      "text/latex": [
       "\\begin{tabular}{r|lllllllllll}\n",
       " Reporter & Reporter\\_nm & Flow & 2010 & 2011 & 2012 & 2013 & 2014 & 2015 & 2016 & 2017\\\\\n",
       "\\hline\n",
       "\t AGO                  & ANGOLA               & Import               &   103322             &     8511             &      803             &    41553             &     2468             &    13927             &      NA              &      NA             \\\\\n",
       "\t ALB                  & ALBANIA              & Export               &   812861             &   925531             &   794717             &  1398855             &       NA             &       NA             &      NA              &      NA             \\\\\n",
       "\t ALB                  & ALBANIA              & Import               &       NA             &       NA             &       NA             &    18720             &       NA             &       NA             &      NA              &      NA             \\\\\n",
       "\t ARE                  & UNITED ARAB EMIRATES & Export               &  6955883             & 11371547             & 13936582             & 49877369             & 15891719             & 12303725             & 8617665              &      NA             \\\\\n",
       "\t ARE                  & UNITED ARAB EMIRATES & Import               &   637212             &  1124450             &  1864281             &  2221856             &  3374501             &  3157278             & 2143907              &      NA             \\\\\n",
       "\t ARE                  & UNITED ARAB EMIRATES & Re-Export            &  1721050             &   134500             &   714308             &   134810             &   313955             &   106530             &      NA              &      NA             \\\\\n",
       "\t ARG                  & ARGENTINA            & Export               & 25904750             & 25288490             & 21129471             & 14917322             &  8540762             &  7674051             & 3269874              & 1712664             \\\\\n",
       "\t ARG                  & ARGENTINA            & Import               &       NA             &       NA             &       NA             &       NA             &       NA             &       NA             &      NA              &   91610             \\\\\n",
       "\t ARM                  & ARMENIA              & Export               &   457437             &       NA             &       NA             &       NA             &       NA             &       NA             &      NA              &      NA             \\\\\n",
       "\t ARM                  & ARMENIA              & Import               &       NA             &       NA             &       NA             &       NA             &        2             &       NA             &    9450              &      NA             \\\\\n",
       "\t ATG                  & ANTIGUA AND BARBUDA  & Export               &    18700             &    58896             &       NA             &    22000             &       NA             &    42960             &   20000              &      NA             \\\\\n",
       "\t ATG                  & ANTIGUA AND BARBUDA  & Re-Export            &    18700             &    58896             &       NA             &       NA             &       NA             &       NA             &      NA              &      NA             \\\\\n",
       "\\end{tabular}\n"
      ],
      "text/markdown": [
       "\n",
       "Reporter | Reporter_nm | Flow | 2010 | 2011 | 2012 | 2013 | 2014 | 2015 | 2016 | 2017 | \n",
       "|---|---|---|---|---|---|---|---|---|---|---|---|\n",
       "| AGO                  | ANGOLA               | Import               |   103322             |     8511             |      803             |    41553             |     2468             |    13927             |      NA              |      NA              | \n",
       "| ALB                  | ALBANIA              | Export               |   812861             |   925531             |   794717             |  1398855             |       NA             |       NA             |      NA              |      NA              | \n",
       "| ALB                  | ALBANIA              | Import               |       NA             |       NA             |       NA             |    18720             |       NA             |       NA             |      NA              |      NA              | \n",
       "| ARE                  | UNITED ARAB EMIRATES | Export               |  6955883             | 11371547             | 13936582             | 49877369             | 15891719             | 12303725             | 8617665              |      NA              | \n",
       "| ARE                  | UNITED ARAB EMIRATES | Import               |   637212             |  1124450             |  1864281             |  2221856             |  3374501             |  3157278             | 2143907              |      NA              | \n",
       "| ARE                  | UNITED ARAB EMIRATES | Re-Export            |  1721050             |   134500             |   714308             |   134810             |   313955             |   106530             |      NA              |      NA              | \n",
       "| ARG                  | ARGENTINA            | Export               | 25904750             | 25288490             | 21129471             | 14917322             |  8540762             |  7674051             | 3269874              | 1712664              | \n",
       "| ARG                  | ARGENTINA            | Import               |       NA             |       NA             |       NA             |       NA             |       NA             |       NA             |      NA              |   91610              | \n",
       "| ARM                  | ARMENIA              | Export               |   457437             |       NA             |       NA             |       NA             |       NA             |       NA             |      NA              |      NA              | \n",
       "| ARM                  | ARMENIA              | Import               |       NA             |       NA             |       NA             |       NA             |        2             |       NA             |    9450              |      NA              | \n",
       "| ATG                  | ANTIGUA AND BARBUDA  | Export               |    18700             |    58896             |       NA             |    22000             |       NA             |    42960             |   20000              |      NA              | \n",
       "| ATG                  | ANTIGUA AND BARBUDA  | Re-Export            |    18700             |    58896             |       NA             |       NA             |       NA             |       NA             |      NA              |      NA              | \n",
       "\n",
       "\n"
      ],
      "text/plain": [
       "   Reporter Reporter_nm          Flow      2010     2011     2012     2013    \n",
       "1  AGO      ANGOLA               Import      103322     8511      803    41553\n",
       "2  ALB      ALBANIA              Export      812861   925531   794717  1398855\n",
       "3  ALB      ALBANIA              Import          NA       NA       NA    18720\n",
       "4  ARE      UNITED ARAB EMIRATES Export     6955883 11371547 13936582 49877369\n",
       "5  ARE      UNITED ARAB EMIRATES Import      637212  1124450  1864281  2221856\n",
       "6  ARE      UNITED ARAB EMIRATES Re-Export  1721050   134500   714308   134810\n",
       "7  ARG      ARGENTINA            Export    25904750 25288490 21129471 14917322\n",
       "8  ARG      ARGENTINA            Import          NA       NA       NA       NA\n",
       "9  ARM      ARMENIA              Export      457437       NA       NA       NA\n",
       "10 ARM      ARMENIA              Import          NA       NA       NA       NA\n",
       "11 ATG      ANTIGUA AND BARBUDA  Export       18700    58896       NA    22000\n",
       "12 ATG      ANTIGUA AND BARBUDA  Re-Export    18700    58896       NA       NA\n",
       "   2014     2015     2016    2017   \n",
       "1      2468    13927      NA      NA\n",
       "2        NA       NA      NA      NA\n",
       "3        NA       NA      NA      NA\n",
       "4  15891719 12303725 8617665      NA\n",
       "5   3374501  3157278 2143907      NA\n",
       "6    313955   106530      NA      NA\n",
       "7   8540762  7674051 3269874 1712664\n",
       "8        NA       NA      NA   91610\n",
       "9        NA       NA      NA      NA\n",
       "10        2       NA    9450      NA\n",
       "11       NA    42960   20000      NA\n",
       "12       NA       NA      NA      NA"
      ]
     },
     "metadata": {},
     "output_type": "display_data"
    },
    {
     "data": {
      "text/html": [
       "<table>\n",
       "<thead><tr><th scope=col>Reporter</th><th scope=col>Reporter_nm</th><th scope=col>Flow</th><th scope=col>2010</th><th scope=col>2011</th><th scope=col>2012</th><th scope=col>2013</th><th scope=col>2014</th><th scope=col>2015</th><th scope=col>2016</th><th scope=col>2017</th></tr></thead>\n",
       "<tbody>\n",
       "\t<tr><td>AGO                 </td><td>ANGOLA              </td><td>Import              </td><td>  104766            </td><td>    7180            </td><td>     378            </td><td>  109724            </td><td>   7200             </td><td>  28216             </td><td>     NA             </td><td>    NA              </td></tr>\n",
       "\t<tr><td>ALB                 </td><td>ALBANIA             </td><td>Export              </td><td>  425149            </td><td>  619139            </td><td>  565976            </td><td>  962869            </td><td>     NA             </td><td>     NA             </td><td>     NA             </td><td>    NA              </td></tr>\n",
       "\t<tr><td>ALB                 </td><td>ALBANIA             </td><td>Import              </td><td>      NA            </td><td>      NA            </td><td>      NA            </td><td>   13482            </td><td>     NA             </td><td>     NA             </td><td>     NA             </td><td>    NA              </td></tr>\n",
       "\t<tr><td>ARE                 </td><td>UNITED ARAB EMIRATES</td><td>Export              </td><td> 2071036            </td><td> 3991057            </td><td> 4889397            </td><td> 4501610            </td><td>4985469             </td><td>4330899             </td><td>2852756             </td><td>    NA              </td></tr>\n",
       "\t<tr><td>ARE                 </td><td>UNITED ARAB EMIRATES</td><td>Import              </td><td>  694508            </td><td>  575945            </td><td> 1139183            </td><td> 1224180            </td><td>2123569             </td><td>2010681             </td><td>1114514             </td><td>    NA              </td></tr>\n",
       "\t<tr><td>ARE                 </td><td>UNITED ARAB EMIRATES</td><td>Re-Export           </td><td>  413230            </td><td>   29866            </td><td>  293564            </td><td>   40669            </td><td> 103677             </td><td>  68523             </td><td>     NA             </td><td>    NA              </td></tr>\n",
       "\t<tr><td>ARG                 </td><td>ARGENTINA           </td><td>Export              </td><td>17224578            </td><td>21495661            </td><td>17552048            </td><td>10238801            </td><td>4051357             </td><td>2991986             </td><td>1242567             </td><td>748326              </td></tr>\n",
       "\t<tr><td>ARG                 </td><td>ARGENTINA           </td><td>Import              </td><td>      NA            </td><td>      NA            </td><td>      NA            </td><td>      NA            </td><td>     NA             </td><td>     NA             </td><td>     NA             </td><td> 28632              </td></tr>\n",
       "\t<tr><td>ARM                 </td><td>ARMENIA             </td><td>Export              </td><td>  353684            </td><td>      NA            </td><td>      NA            </td><td>      NA            </td><td>     NA             </td><td>     NA             </td><td>     NA             </td><td>    NA              </td></tr>\n",
       "\t<tr><td>ARM                 </td><td>ARMENIA             </td><td>Import              </td><td>      NA            </td><td>      NA            </td><td>      NA            </td><td>      NA            </td><td>    176             </td><td>     NA             </td><td>   3781             </td><td>    NA              </td></tr>\n",
       "\t<tr><td>ATG                 </td><td>ANTIGUA AND BARBUDA </td><td>Export              </td><td>    7407            </td><td>   20370            </td><td>      NA            </td><td>    7407            </td><td>     NA             </td><td>   9815             </td><td>   4444             </td><td>    NA              </td></tr>\n",
       "\t<tr><td>ATG                 </td><td>ANTIGUA AND BARBUDA </td><td>Re-Export           </td><td>    7407            </td><td>   20370            </td><td>      NA            </td><td>      NA            </td><td>     NA             </td><td>     NA             </td><td>     NA             </td><td>    NA              </td></tr>\n",
       "</tbody>\n",
       "</table>\n"
      ],
      "text/latex": [
       "\\begin{tabular}{r|lllllllllll}\n",
       " Reporter & Reporter\\_nm & Flow & 2010 & 2011 & 2012 & 2013 & 2014 & 2015 & 2016 & 2017\\\\\n",
       "\\hline\n",
       "\t AGO                  & ANGOLA               & Import               &   104766             &     7180             &      378             &   109724             &    7200              &   28216              &      NA              &     NA              \\\\\n",
       "\t ALB                  & ALBANIA              & Export               &   425149             &   619139             &   565976             &   962869             &      NA              &      NA              &      NA              &     NA              \\\\\n",
       "\t ALB                  & ALBANIA              & Import               &       NA             &       NA             &       NA             &    13482             &      NA              &      NA              &      NA              &     NA              \\\\\n",
       "\t ARE                  & UNITED ARAB EMIRATES & Export               &  2071036             &  3991057             &  4889397             &  4501610             & 4985469              & 4330899              & 2852756              &     NA              \\\\\n",
       "\t ARE                  & UNITED ARAB EMIRATES & Import               &   694508             &   575945             &  1139183             &  1224180             & 2123569              & 2010681              & 1114514              &     NA              \\\\\n",
       "\t ARE                  & UNITED ARAB EMIRATES & Re-Export            &   413230             &    29866             &   293564             &    40669             &  103677              &   68523              &      NA              &     NA              \\\\\n",
       "\t ARG                  & ARGENTINA            & Export               & 17224578             & 21495661             & 17552048             & 10238801             & 4051357              & 2991986              & 1242567              & 748326              \\\\\n",
       "\t ARG                  & ARGENTINA            & Import               &       NA             &       NA             &       NA             &       NA             &      NA              &      NA              &      NA              &  28632              \\\\\n",
       "\t ARM                  & ARMENIA              & Export               &   353684             &       NA             &       NA             &       NA             &      NA              &      NA              &      NA              &     NA              \\\\\n",
       "\t ARM                  & ARMENIA              & Import               &       NA             &       NA             &       NA             &       NA             &     176              &      NA              &    3781              &     NA              \\\\\n",
       "\t ATG                  & ANTIGUA AND BARBUDA  & Export               &     7407             &    20370             &       NA             &     7407             &      NA              &    9815              &    4444              &     NA              \\\\\n",
       "\t ATG                  & ANTIGUA AND BARBUDA  & Re-Export            &     7407             &    20370             &       NA             &       NA             &      NA              &      NA              &      NA              &     NA              \\\\\n",
       "\\end{tabular}\n"
      ],
      "text/markdown": [
       "\n",
       "Reporter | Reporter_nm | Flow | 2010 | 2011 | 2012 | 2013 | 2014 | 2015 | 2016 | 2017 | \n",
       "|---|---|---|---|---|---|---|---|---|---|---|---|\n",
       "| AGO                  | ANGOLA               | Import               |   104766             |     7180             |      378             |   109724             |    7200              |   28216              |      NA              |     NA               | \n",
       "| ALB                  | ALBANIA              | Export               |   425149             |   619139             |   565976             |   962869             |      NA              |      NA              |      NA              |     NA               | \n",
       "| ALB                  | ALBANIA              | Import               |       NA             |       NA             |       NA             |    13482             |      NA              |      NA              |      NA              |     NA               | \n",
       "| ARE                  | UNITED ARAB EMIRATES | Export               |  2071036             |  3991057             |  4889397             |  4501610             | 4985469              | 4330899              | 2852756              |     NA               | \n",
       "| ARE                  | UNITED ARAB EMIRATES | Import               |   694508             |   575945             |  1139183             |  1224180             | 2123569              | 2010681              | 1114514              |     NA               | \n",
       "| ARE                  | UNITED ARAB EMIRATES | Re-Export            |   413230             |    29866             |   293564             |    40669             |  103677              |   68523              |      NA              |     NA               | \n",
       "| ARG                  | ARGENTINA            | Export               | 17224578             | 21495661             | 17552048             | 10238801             | 4051357              | 2991986              | 1242567              | 748326               | \n",
       "| ARG                  | ARGENTINA            | Import               |       NA             |       NA             |       NA             |       NA             |      NA              |      NA              |      NA              |  28632               | \n",
       "| ARM                  | ARMENIA              | Export               |   353684             |       NA             |       NA             |       NA             |      NA              |      NA              |      NA              |     NA               | \n",
       "| ARM                  | ARMENIA              | Import               |       NA             |       NA             |       NA             |       NA             |     176              |      NA              |    3781              |     NA               | \n",
       "| ATG                  | ANTIGUA AND BARBUDA  | Export               |     7407             |    20370             |       NA             |     7407             |      NA              |    9815              |    4444              |     NA               | \n",
       "| ATG                  | ANTIGUA AND BARBUDA  | Re-Export            |     7407             |    20370             |       NA             |       NA             |      NA              |      NA              |      NA              |     NA               | \n",
       "\n",
       "\n"
      ],
      "text/plain": [
       "   Reporter Reporter_nm          Flow      2010     2011     2012     2013    \n",
       "1  AGO      ANGOLA               Import      104766     7180      378   109724\n",
       "2  ALB      ALBANIA              Export      425149   619139   565976   962869\n",
       "3  ALB      ALBANIA              Import          NA       NA       NA    13482\n",
       "4  ARE      UNITED ARAB EMIRATES Export     2071036  3991057  4889397  4501610\n",
       "5  ARE      UNITED ARAB EMIRATES Import      694508   575945  1139183  1224180\n",
       "6  ARE      UNITED ARAB EMIRATES Re-Export   413230    29866   293564    40669\n",
       "7  ARG      ARGENTINA            Export    17224578 21495661 17552048 10238801\n",
       "8  ARG      ARGENTINA            Import          NA       NA       NA       NA\n",
       "9  ARM      ARMENIA              Export      353684       NA       NA       NA\n",
       "10 ARM      ARMENIA              Import          NA       NA       NA       NA\n",
       "11 ATG      ANTIGUA AND BARBUDA  Export        7407    20370       NA     7407\n",
       "12 ATG      ANTIGUA AND BARBUDA  Re-Export     7407    20370       NA       NA\n",
       "   2014    2015    2016    2017  \n",
       "1     7200   28216      NA     NA\n",
       "2       NA      NA      NA     NA\n",
       "3       NA      NA      NA     NA\n",
       "4  4985469 4330899 2852756     NA\n",
       "5  2123569 2010681 1114514     NA\n",
       "6   103677   68523      NA     NA\n",
       "7  4051357 2991986 1242567 748326\n",
       "8       NA      NA      NA  28632\n",
       "9       NA      NA      NA     NA\n",
       "10     176      NA    3781     NA\n",
       "11      NA    9815    4444     NA\n",
       "12      NA      NA      NA     NA"
      ]
     },
     "metadata": {},
     "output_type": "display_data"
    },
    {
     "data": {
      "text/html": [
       "<table>\n",
       "<thead><tr><th scope=col>Reporter</th><th scope=col>Reporter_nm</th><th scope=col>Flow</th><th scope=col>2010</th><th scope=col>2011</th><th scope=col>2012</th><th scope=col>2013</th><th scope=col>2014</th><th scope=col>2015</th><th scope=col>2016</th><th scope=col>2017</th></tr></thead>\n",
       "<tbody>\n",
       "\t<tr><td>KOR               </td><td>KOREA, REPUBLIC OF</td><td>Export            </td><td>171802127         </td><td>141239829         </td><td>157891729         </td><td>154110543         </td><td>146778772         </td><td>148748722         </td><td>151366129         </td><td>119574904         </td></tr>\n",
       "\t<tr><td>KOR               </td><td>KOREA, REPUBLIC OF</td><td>Import            </td><td>  3652620         </td><td>  2884578         </td><td>  1538283         </td><td>  1859189         </td><td>  2623824         </td><td>  2379751         </td><td>   842278         </td><td>  1799405         </td></tr>\n",
       "</tbody>\n",
       "</table>\n"
      ],
      "text/latex": [
       "\\begin{tabular}{r|lllllllllll}\n",
       " Reporter & Reporter\\_nm & Flow & 2010 & 2011 & 2012 & 2013 & 2014 & 2015 & 2016 & 2017\\\\\n",
       "\\hline\n",
       "\t KOR                & KOREA, REPUBLIC OF & Export             & 171802127          & 141239829          & 157891729          & 154110543          & 146778772          & 148748722          & 151366129          & 119574904         \\\\\n",
       "\t KOR                & KOREA, REPUBLIC OF & Import             &   3652620          &   2884578          &   1538283          &   1859189          &   2623824          &   2379751          &    842278          &   1799405         \\\\\n",
       "\\end{tabular}\n"
      ],
      "text/markdown": [
       "\n",
       "Reporter | Reporter_nm | Flow | 2010 | 2011 | 2012 | 2013 | 2014 | 2015 | 2016 | 2017 | \n",
       "|---|---|\n",
       "| KOR                | KOREA, REPUBLIC OF | Export             | 171802127          | 141239829          | 157891729          | 154110543          | 146778772          | 148748722          | 151366129          | 119574904          | \n",
       "| KOR                | KOREA, REPUBLIC OF | Import             |   3652620          |   2884578          |   1538283          |   1859189          |   2623824          |   2379751          |    842278          |   1799405          | \n",
       "\n",
       "\n"
      ],
      "text/plain": [
       "  Reporter Reporter_nm        Flow   2010      2011      2012      2013     \n",
       "1 KOR      KOREA, REPUBLIC OF Export 171802127 141239829 157891729 154110543\n",
       "2 KOR      KOREA, REPUBLIC OF Import   3652620   2884578   1538283   1859189\n",
       "  2014      2015      2016      2017     \n",
       "1 146778772 148748722 151366129 119574904\n",
       "2   2623824   2379751    842278   1799405"
      ]
     },
     "metadata": {},
     "output_type": "display_data"
    },
    {
     "data": {
      "text/html": [
       "<table>\n",
       "<thead><tr><th scope=col>Reporter</th><th scope=col>Reporter_nm</th><th scope=col>Flow</th><th scope=col>2010</th><th scope=col>2011</th><th scope=col>2012</th><th scope=col>2013</th><th scope=col>2014</th><th scope=col>2015</th><th scope=col>2016</th><th scope=col>2017</th></tr></thead>\n",
       "<tbody>\n",
       "\t<tr><td>KOR               </td><td>KOREA, REPUBLIC OF</td><td>Export            </td><td>55567324          </td><td>50194885          </td><td>51194379          </td><td>56344812          </td><td>47579141          </td><td>43200394          </td><td>39844456          </td><td>25191637          </td></tr>\n",
       "\t<tr><td>KOR               </td><td>KOREA, REPUBLIC OF</td><td>Import            </td><td> 2459961          </td><td> 2893720          </td><td> 1128061          </td><td> 1011959          </td><td> 1420037          </td><td> 1026864          </td><td>  440171          </td><td> 2621146          </td></tr>\n",
       "</tbody>\n",
       "</table>\n"
      ],
      "text/latex": [
       "\\begin{tabular}{r|lllllllllll}\n",
       " Reporter & Reporter\\_nm & Flow & 2010 & 2011 & 2012 & 2013 & 2014 & 2015 & 2016 & 2017\\\\\n",
       "\\hline\n",
       "\t KOR                & KOREA, REPUBLIC OF & Export             & 55567324           & 50194885           & 51194379           & 56344812           & 47579141           & 43200394           & 39844456           & 25191637          \\\\\n",
       "\t KOR                & KOREA, REPUBLIC OF & Import             &  2459961           &  2893720           &  1128061           &  1011959           &  1420037           &  1026864           &   440171           &  2621146          \\\\\n",
       "\\end{tabular}\n"
      ],
      "text/markdown": [
       "\n",
       "Reporter | Reporter_nm | Flow | 2010 | 2011 | 2012 | 2013 | 2014 | 2015 | 2016 | 2017 | \n",
       "|---|---|\n",
       "| KOR                | KOREA, REPUBLIC OF | Export             | 55567324           | 50194885           | 51194379           | 56344812           | 47579141           | 43200394           | 39844456           | 25191637           | \n",
       "| KOR                | KOREA, REPUBLIC OF | Import             |  2459961           |  2893720           |  1128061           |  1011959           |  1420037           |  1026864           |   440171           |  2621146           | \n",
       "\n",
       "\n"
      ],
      "text/plain": [
       "  Reporter Reporter_nm        Flow   2010     2011     2012     2013    \n",
       "1 KOR      KOREA, REPUBLIC OF Export 55567324 50194885 51194379 56344812\n",
       "2 KOR      KOREA, REPUBLIC OF Import  2459961  2893720  1128061  1011959\n",
       "  2014     2015     2016     2017    \n",
       "1 47579141 43200394 39844456 25191637\n",
       "2  1420037  1026864   440171  2621146"
      ]
     },
     "metadata": {},
     "output_type": "display_data"
    }
   ],
   "source": [
    "pla_wc %>% filter(Partner == 'CHN') %>% group_by(Reporter, Reporter_nm, Flow, year) %>% \n",
    "    summarize_at(.vars = vars(Netweight_kg, Value_usd), .funs = funs(sum)) %>% dplyr::select(-Value_usd) %>% spread(key = year, value = Netweight_kg) -> pla_wcw_wide\n",
    "\n",
    "\n",
    "pla_wc %>% filter(Partner == 'CHN') %>% group_by(Reporter, Reporter_nm, Flow, year) %>% \n",
    "    summarize_at(.vars = vars(Netweight_kg, Value_usd), .funs = funs(sum)) %>% dplyr::select(-Netweight_kg) %>% spread(key = year, value = Value_usd) -> pla_wcv_wide\n",
    "\n",
    "pla_wcw_wide %>% head(12)\n",
    "pla_wcv_wide %>% head(12)"
   ]
  },
  {
   "cell_type": "markdown",
   "metadata": {},
   "source": [
    "### 3.4\n",
    "- 3.3에서 연도를 분류 속성으로 한 wide format data frame을 생성했으므로, 시계열 탐색은 해당 data.frame으로부터 `filter` 함수를 적용하여 탐색해 봅니다.\n",
    "- 아래 결과를 보면, 한국의 대중국 폐플라스틱 무역은 재수출이나 재수입이 없는 수출과 수입만으로 이루어져 있음을 알 수 있고, 수출순중량에 다소 등락이 있는 반면 수출액은 경향적인 감소 추세를 보이고 있음을 알 수 있습니다."
   ]
  },
  {
   "cell_type": "code",
   "execution_count": 21,
   "metadata": {},
   "outputs": [
    {
     "data": {
      "text/html": [
       "<table>\n",
       "<thead><tr><th scope=col>Reporter</th><th scope=col>Reporter_nm</th><th scope=col>Flow</th><th scope=col>2010</th><th scope=col>2011</th><th scope=col>2012</th><th scope=col>2013</th><th scope=col>2014</th><th scope=col>2015</th><th scope=col>2016</th><th scope=col>2017</th></tr></thead>\n",
       "<tbody>\n",
       "\t<tr><td>KOR               </td><td>KOREA, REPUBLIC OF</td><td>Export            </td><td>171802127         </td><td>141239829         </td><td>157891729         </td><td>154110543         </td><td>146778772         </td><td>148748722         </td><td>151366129         </td><td>119574904         </td></tr>\n",
       "\t<tr><td>KOR               </td><td>KOREA, REPUBLIC OF</td><td>Import            </td><td>  3652620         </td><td>  2884578         </td><td>  1538283         </td><td>  1859189         </td><td>  2623824         </td><td>  2379751         </td><td>   842278         </td><td>  1799405         </td></tr>\n",
       "</tbody>\n",
       "</table>\n"
      ],
      "text/latex": [
       "\\begin{tabular}{r|lllllllllll}\n",
       " Reporter & Reporter\\_nm & Flow & 2010 & 2011 & 2012 & 2013 & 2014 & 2015 & 2016 & 2017\\\\\n",
       "\\hline\n",
       "\t KOR                & KOREA, REPUBLIC OF & Export             & 171802127          & 141239829          & 157891729          & 154110543          & 146778772          & 148748722          & 151366129          & 119574904         \\\\\n",
       "\t KOR                & KOREA, REPUBLIC OF & Import             &   3652620          &   2884578          &   1538283          &   1859189          &   2623824          &   2379751          &    842278          &   1799405         \\\\\n",
       "\\end{tabular}\n"
      ],
      "text/markdown": [
       "\n",
       "Reporter | Reporter_nm | Flow | 2010 | 2011 | 2012 | 2013 | 2014 | 2015 | 2016 | 2017 | \n",
       "|---|---|\n",
       "| KOR                | KOREA, REPUBLIC OF | Export             | 171802127          | 141239829          | 157891729          | 154110543          | 146778772          | 148748722          | 151366129          | 119574904          | \n",
       "| KOR                | KOREA, REPUBLIC OF | Import             |   3652620          |   2884578          |   1538283          |   1859189          |   2623824          |   2379751          |    842278          |   1799405          | \n",
       "\n",
       "\n"
      ],
      "text/plain": [
       "  Reporter Reporter_nm        Flow   2010      2011      2012      2013     \n",
       "1 KOR      KOREA, REPUBLIC OF Export 171802127 141239829 157891729 154110543\n",
       "2 KOR      KOREA, REPUBLIC OF Import   3652620   2884578   1538283   1859189\n",
       "  2014      2015      2016      2017     \n",
       "1 146778772 148748722 151366129 119574904\n",
       "2   2623824   2379751    842278   1799405"
      ]
     },
     "metadata": {},
     "output_type": "display_data"
    },
    {
     "data": {
      "text/html": [
       "<table>\n",
       "<thead><tr><th scope=col>Reporter</th><th scope=col>Reporter_nm</th><th scope=col>Flow</th><th scope=col>2010</th><th scope=col>2011</th><th scope=col>2012</th><th scope=col>2013</th><th scope=col>2014</th><th scope=col>2015</th><th scope=col>2016</th><th scope=col>2017</th></tr></thead>\n",
       "<tbody>\n",
       "\t<tr><td>KOR               </td><td>KOREA, REPUBLIC OF</td><td>Export            </td><td>55567324          </td><td>50194885          </td><td>51194379          </td><td>56344812          </td><td>47579141          </td><td>43200394          </td><td>39844456          </td><td>25191637          </td></tr>\n",
       "\t<tr><td>KOR               </td><td>KOREA, REPUBLIC OF</td><td>Import            </td><td> 2459961          </td><td> 2893720          </td><td> 1128061          </td><td> 1011959          </td><td> 1420037          </td><td> 1026864          </td><td>  440171          </td><td> 2621146          </td></tr>\n",
       "</tbody>\n",
       "</table>\n"
      ],
      "text/latex": [
       "\\begin{tabular}{r|lllllllllll}\n",
       " Reporter & Reporter\\_nm & Flow & 2010 & 2011 & 2012 & 2013 & 2014 & 2015 & 2016 & 2017\\\\\n",
       "\\hline\n",
       "\t KOR                & KOREA, REPUBLIC OF & Export             & 55567324           & 50194885           & 51194379           & 56344812           & 47579141           & 43200394           & 39844456           & 25191637          \\\\\n",
       "\t KOR                & KOREA, REPUBLIC OF & Import             &  2459961           &  2893720           &  1128061           &  1011959           &  1420037           &  1026864           &   440171           &  2621146          \\\\\n",
       "\\end{tabular}\n"
      ],
      "text/markdown": [
       "\n",
       "Reporter | Reporter_nm | Flow | 2010 | 2011 | 2012 | 2013 | 2014 | 2015 | 2016 | 2017 | \n",
       "|---|---|\n",
       "| KOR                | KOREA, REPUBLIC OF | Export             | 55567324           | 50194885           | 51194379           | 56344812           | 47579141           | 43200394           | 39844456           | 25191637           | \n",
       "| KOR                | KOREA, REPUBLIC OF | Import             |  2459961           |  2893720           |  1128061           |  1011959           |  1420037           |  1026864           |   440171           |  2621146           | \n",
       "\n",
       "\n"
      ],
      "text/plain": [
       "  Reporter Reporter_nm        Flow   2010     2011     2012     2013    \n",
       "1 KOR      KOREA, REPUBLIC OF Export 55567324 50194885 51194379 56344812\n",
       "2 KOR      KOREA, REPUBLIC OF Import  2459961  2893720  1128061  1011959\n",
       "  2014     2015     2016     2017    \n",
       "1 47579141 43200394 39844456 25191637\n",
       "2  1420037  1026864   440171  2621146"
      ]
     },
     "metadata": {},
     "output_type": "display_data"
    }
   ],
   "source": [
    "pla_wcw_wide %>% filter(Reporter == 'KOR')\n",
    "pla_wcv_wide %>% filter(Reporter == 'KOR')"
   ]
  },
  {
   "cell_type": "markdown",
   "metadata": {},
   "source": [
    "### 3.5\n",
    "- 3.1에서 만든 표로부터 메트릭 톤당 '수입가격'과 '수출가격'을 계산해 보겠습니다.\n",
    "- 참고: 수입가격은 물품구입대금에 관세, 운송비, 금융비용 등이 더해지므로 수출가격보다 높은 경향이 있습니다. 수입가격이 높다는 것은, 그 배경에 있는 국내가격이 높거나 가공제품 후 재수출가격이 높음을 뜻합니다.\n",
    "- 그런데 2017년에 평균 수출가격이 평균 수입가격을 앞서는 현상이 나타납니다. 이는 나머지 7년 간의 패턴과 상반된 것으로, 수입국의 수입유인이 매우 낮아졌음을 의미합니다. 이로부터 4월의 재활용 대란의 배경이 어느 정도 설명됩니다.\n",
    "- 더 깊은 이야기는 원료인 석유류 및 석유화학제품의 국제무역 자료 분석, 그리고 각국의 플라스틱 재생 업계의 업황 분석을 통해서 이어갈 수 있을 것입니다."
   ]
  },
  {
   "cell_type": "code",
   "execution_count": 24,
   "metadata": {},
   "outputs": [
    {
     "data": {
      "text/html": [
       "<table>\n",
       "<thead><tr><th scope=col>all</th><th scope=col>year</th><th scope=col>Flow</th><th scope=col>sum_netweight</th><th scope=col>sum_value</th><th scope=col>prunit</th></tr></thead>\n",
       "<tbody>\n",
       "\t<tr><td>World      </td><td>2010       </td><td>Export     </td><td>15337934825</td><td>6055398026 </td><td>  394.7988 </td></tr>\n",
       "\t<tr><td>World      </td><td>2010       </td><td>Import     </td><td>15788234286</td><td>8067396001 </td><td>  510.9752 </td></tr>\n",
       "\t<tr><td>World      </td><td>2010       </td><td>Re-Export  </td><td> 2715696936</td><td> 778328090 </td><td>  286.6034 </td></tr>\n",
       "\t<tr><td>World      </td><td>2010       </td><td>Re-Import  </td><td>    1388963</td><td>    777764 </td><td>  559.9602 </td></tr>\n",
       "\t<tr><td>World      </td><td>2011       </td><td>Export     </td><td>14822716997</td><td>7024457937 </td><td>  473.8981 </td></tr>\n",
       "\t<tr><td>World      </td><td>2011       </td><td>Import     </td><td>15974271606</td><td>9618215653 </td><td>  602.1067 </td></tr>\n",
       "\t<tr><td>World      </td><td>2011       </td><td>Re-Export  </td><td> 2655678460</td><td> 860032180 </td><td>  323.8465 </td></tr>\n",
       "\t<tr><td>World      </td><td>2011       </td><td>Re-Import  </td><td>    1748614</td><td>   1257839 </td><td>  719.3349 </td></tr>\n",
       "\t<tr><td>World      </td><td>2012       </td><td>Export     </td><td>14841538079</td><td>6891275058 </td><td>  464.3235 </td></tr>\n",
       "\t<tr><td>World      </td><td>2012       </td><td>Import     </td><td>15940073245</td><td>9546979599 </td><td>  598.9295 </td></tr>\n",
       "\t<tr><td>World      </td><td>2012       </td><td>Re-Export  </td><td> 2972745377</td><td> 970896285 </td><td>  326.5992 </td></tr>\n",
       "\t<tr><td>World      </td><td>2012       </td><td>Re-Import  </td><td>    1407305</td><td>   1055318 </td><td>  749.8858 </td></tr>\n",
       "\t<tr><td>World      </td><td>2013       </td><td>Export     </td><td>12886423344</td><td>6553549084 </td><td>  508.5623 </td></tr>\n",
       "\t<tr><td>World      </td><td>2013       </td><td>Import     </td><td>14753077691</td><td>9299623410 </td><td>  630.3514 </td></tr>\n",
       "\t<tr><td>World      </td><td>2013       </td><td>Re-Export  </td><td> 1328604612</td><td> 732275584 </td><td>  551.1614 </td></tr>\n",
       "\t<tr><td>World      </td><td>2013       </td><td>Re-Import  </td><td>    1106226</td><td>    541806 </td><td>  489.7788 </td></tr>\n",
       "\t<tr><td>World      </td><td>2014       </td><td>Export     </td><td>15383279767</td><td>6779584437 </td><td>  440.7112 </td></tr>\n",
       "\t<tr><td>World      </td><td>2014       </td><td>Import     </td><td>15689358869</td><td>9447374505 </td><td>  602.1517 </td></tr>\n",
       "\t<tr><td>World      </td><td>2014       </td><td>Re-Export  </td><td> 2976671316</td><td> 918006322 </td><td>  308.4003 </td></tr>\n",
       "\t<tr><td>World      </td><td>2014       </td><td>Re-Import  </td><td>    2096504</td><td>   1385985 </td><td>  661.0934 </td></tr>\n",
       "\t<tr><td>World      </td><td>2015       </td><td>Export     </td><td>14259127866</td><td>5630369256 </td><td>  394.8607 </td></tr>\n",
       "\t<tr><td>World      </td><td>2015       </td><td>Import     </td><td>14868566711</td><td>7065579944 </td><td>  475.2025 </td></tr>\n",
       "\t<tr><td>World      </td><td>2015       </td><td>Re-Export  </td><td> 2761138135</td><td> 883085367 </td><td>  319.8266 </td></tr>\n",
       "\t<tr><td>World      </td><td>2015       </td><td>Re-Import  </td><td>    7473772</td><td>   2670648 </td><td>  357.3360 </td></tr>\n",
       "\t<tr><td>World      </td><td>2016       </td><td>Export     </td><td>11327271470</td><td>4257018111 </td><td>  375.8203 </td></tr>\n",
       "\t<tr><td>World      </td><td>2016       </td><td>Import     </td><td>15242995928</td><td>6464519244 </td><td>  424.0977 </td></tr>\n",
       "\t<tr><td>World      </td><td>2016       </td><td>Re-Export  </td><td>   20941252</td><td>  10521716 </td><td>  502.4397 </td></tr>\n",
       "\t<tr><td>World      </td><td>2016       </td><td>Re-Import  </td><td>    3231188</td><td>   1055903 </td><td>  326.7848 </td></tr>\n",
       "\t<tr><td>World      </td><td>2017       </td><td>Export     </td><td> 8711767738</td><td>3729029500 </td><td>  428.0451 </td></tr>\n",
       "\t<tr><td>World      </td><td>2017       </td><td>Import     </td><td> 5887667219</td><td>2263661442 </td><td>  384.4751 </td></tr>\n",
       "\t<tr><td>World      </td><td>2017       </td><td>Re-Export  </td><td>   12376627</td><td> 546091406 </td><td>44122.7974 </td></tr>\n",
       "\t<tr><td>World      </td><td>2017       </td><td>Re-Import  </td><td>    4704120</td><td>   1828282 </td><td>  388.6555 </td></tr>\n",
       "</tbody>\n",
       "</table>\n"
      ],
      "text/latex": [
       "\\begin{tabular}{r|llllll}\n",
       " all & year & Flow & sum\\_netweight & sum\\_value & prunit\\\\\n",
       "\\hline\n",
       "\t World       & 2010        & Export      & 15337934825 & 6055398026  &   394.7988 \\\\\n",
       "\t World       & 2010        & Import      & 15788234286 & 8067396001  &   510.9752 \\\\\n",
       "\t World       & 2010        & Re-Export   &  2715696936 &  778328090  &   286.6034 \\\\\n",
       "\t World       & 2010        & Re-Import   &     1388963 &     777764  &   559.9602 \\\\\n",
       "\t World       & 2011        & Export      & 14822716997 & 7024457937  &   473.8981 \\\\\n",
       "\t World       & 2011        & Import      & 15974271606 & 9618215653  &   602.1067 \\\\\n",
       "\t World       & 2011        & Re-Export   &  2655678460 &  860032180  &   323.8465 \\\\\n",
       "\t World       & 2011        & Re-Import   &     1748614 &    1257839  &   719.3349 \\\\\n",
       "\t World       & 2012        & Export      & 14841538079 & 6891275058  &   464.3235 \\\\\n",
       "\t World       & 2012        & Import      & 15940073245 & 9546979599  &   598.9295 \\\\\n",
       "\t World       & 2012        & Re-Export   &  2972745377 &  970896285  &   326.5992 \\\\\n",
       "\t World       & 2012        & Re-Import   &     1407305 &    1055318  &   749.8858 \\\\\n",
       "\t World       & 2013        & Export      & 12886423344 & 6553549084  &   508.5623 \\\\\n",
       "\t World       & 2013        & Import      & 14753077691 & 9299623410  &   630.3514 \\\\\n",
       "\t World       & 2013        & Re-Export   &  1328604612 &  732275584  &   551.1614 \\\\\n",
       "\t World       & 2013        & Re-Import   &     1106226 &     541806  &   489.7788 \\\\\n",
       "\t World       & 2014        & Export      & 15383279767 & 6779584437  &   440.7112 \\\\\n",
       "\t World       & 2014        & Import      & 15689358869 & 9447374505  &   602.1517 \\\\\n",
       "\t World       & 2014        & Re-Export   &  2976671316 &  918006322  &   308.4003 \\\\\n",
       "\t World       & 2014        & Re-Import   &     2096504 &    1385985  &   661.0934 \\\\\n",
       "\t World       & 2015        & Export      & 14259127866 & 5630369256  &   394.8607 \\\\\n",
       "\t World       & 2015        & Import      & 14868566711 & 7065579944  &   475.2025 \\\\\n",
       "\t World       & 2015        & Re-Export   &  2761138135 &  883085367  &   319.8266 \\\\\n",
       "\t World       & 2015        & Re-Import   &     7473772 &    2670648  &   357.3360 \\\\\n",
       "\t World       & 2016        & Export      & 11327271470 & 4257018111  &   375.8203 \\\\\n",
       "\t World       & 2016        & Import      & 15242995928 & 6464519244  &   424.0977 \\\\\n",
       "\t World       & 2016        & Re-Export   &    20941252 &   10521716  &   502.4397 \\\\\n",
       "\t World       & 2016        & Re-Import   &     3231188 &    1055903  &   326.7848 \\\\\n",
       "\t World       & 2017        & Export      &  8711767738 & 3729029500  &   428.0451 \\\\\n",
       "\t World       & 2017        & Import      &  5887667219 & 2263661442  &   384.4751 \\\\\n",
       "\t World       & 2017        & Re-Export   &    12376627 &  546091406  & 44122.7974 \\\\\n",
       "\t World       & 2017        & Re-Import   &     4704120 &    1828282  &   388.6555 \\\\\n",
       "\\end{tabular}\n"
      ],
      "text/markdown": [
       "\n",
       "all | year | Flow | sum_netweight | sum_value | prunit | \n",
       "|---|---|---|---|---|---|---|---|---|---|---|---|---|---|---|---|---|---|---|---|---|---|---|---|---|---|---|---|---|---|---|---|\n",
       "| World       | 2010        | Export      | 15337934825 | 6055398026  |   394.7988  | \n",
       "| World       | 2010        | Import      | 15788234286 | 8067396001  |   510.9752  | \n",
       "| World       | 2010        | Re-Export   |  2715696936 |  778328090  |   286.6034  | \n",
       "| World       | 2010        | Re-Import   |     1388963 |     777764  |   559.9602  | \n",
       "| World       | 2011        | Export      | 14822716997 | 7024457937  |   473.8981  | \n",
       "| World       | 2011        | Import      | 15974271606 | 9618215653  |   602.1067  | \n",
       "| World       | 2011        | Re-Export   |  2655678460 |  860032180  |   323.8465  | \n",
       "| World       | 2011        | Re-Import   |     1748614 |    1257839  |   719.3349  | \n",
       "| World       | 2012        | Export      | 14841538079 | 6891275058  |   464.3235  | \n",
       "| World       | 2012        | Import      | 15940073245 | 9546979599  |   598.9295  | \n",
       "| World       | 2012        | Re-Export   |  2972745377 |  970896285  |   326.5992  | \n",
       "| World       | 2012        | Re-Import   |     1407305 |    1055318  |   749.8858  | \n",
       "| World       | 2013        | Export      | 12886423344 | 6553549084  |   508.5623  | \n",
       "| World       | 2013        | Import      | 14753077691 | 9299623410  |   630.3514  | \n",
       "| World       | 2013        | Re-Export   |  1328604612 |  732275584  |   551.1614  | \n",
       "| World       | 2013        | Re-Import   |     1106226 |     541806  |   489.7788  | \n",
       "| World       | 2014        | Export      | 15383279767 | 6779584437  |   440.7112  | \n",
       "| World       | 2014        | Import      | 15689358869 | 9447374505  |   602.1517  | \n",
       "| World       | 2014        | Re-Export   |  2976671316 |  918006322  |   308.4003  | \n",
       "| World       | 2014        | Re-Import   |     2096504 |    1385985  |   661.0934  | \n",
       "| World       | 2015        | Export      | 14259127866 | 5630369256  |   394.8607  | \n",
       "| World       | 2015        | Import      | 14868566711 | 7065579944  |   475.2025  | \n",
       "| World       | 2015        | Re-Export   |  2761138135 |  883085367  |   319.8266  | \n",
       "| World       | 2015        | Re-Import   |     7473772 |    2670648  |   357.3360  | \n",
       "| World       | 2016        | Export      | 11327271470 | 4257018111  |   375.8203  | \n",
       "| World       | 2016        | Import      | 15242995928 | 6464519244  |   424.0977  | \n",
       "| World       | 2016        | Re-Export   |    20941252 |   10521716  |   502.4397  | \n",
       "| World       | 2016        | Re-Import   |     3231188 |    1055903  |   326.7848  | \n",
       "| World       | 2017        | Export      |  8711767738 | 3729029500  |   428.0451  | \n",
       "| World       | 2017        | Import      |  5887667219 | 2263661442  |   384.4751  | \n",
       "| World       | 2017        | Re-Export   |    12376627 |  546091406  | 44122.7974  | \n",
       "| World       | 2017        | Re-Import   |     4704120 |    1828282  |   388.6555  | \n",
       "\n",
       "\n"
      ],
      "text/plain": [
       "   all   year Flow      sum_netweight sum_value  prunit    \n",
       "1  World 2010 Export    15337934825   6055398026   394.7988\n",
       "2  World 2010 Import    15788234286   8067396001   510.9752\n",
       "3  World 2010 Re-Export  2715696936    778328090   286.6034\n",
       "4  World 2010 Re-Import     1388963       777764   559.9602\n",
       "5  World 2011 Export    14822716997   7024457937   473.8981\n",
       "6  World 2011 Import    15974271606   9618215653   602.1067\n",
       "7  World 2011 Re-Export  2655678460    860032180   323.8465\n",
       "8  World 2011 Re-Import     1748614      1257839   719.3349\n",
       "9  World 2012 Export    14841538079   6891275058   464.3235\n",
       "10 World 2012 Import    15940073245   9546979599   598.9295\n",
       "11 World 2012 Re-Export  2972745377    970896285   326.5992\n",
       "12 World 2012 Re-Import     1407305      1055318   749.8858\n",
       "13 World 2013 Export    12886423344   6553549084   508.5623\n",
       "14 World 2013 Import    14753077691   9299623410   630.3514\n",
       "15 World 2013 Re-Export  1328604612    732275584   551.1614\n",
       "16 World 2013 Re-Import     1106226       541806   489.7788\n",
       "17 World 2014 Export    15383279767   6779584437   440.7112\n",
       "18 World 2014 Import    15689358869   9447374505   602.1517\n",
       "19 World 2014 Re-Export  2976671316    918006322   308.4003\n",
       "20 World 2014 Re-Import     2096504      1385985   661.0934\n",
       "21 World 2015 Export    14259127866   5630369256   394.8607\n",
       "22 World 2015 Import    14868566711   7065579944   475.2025\n",
       "23 World 2015 Re-Export  2761138135    883085367   319.8266\n",
       "24 World 2015 Re-Import     7473772      2670648   357.3360\n",
       "25 World 2016 Export    11327271470   4257018111   375.8203\n",
       "26 World 2016 Import    15242995928   6464519244   424.0977\n",
       "27 World 2016 Re-Export    20941252     10521716   502.4397\n",
       "28 World 2016 Re-Import     3231188      1055903   326.7848\n",
       "29 World 2017 Export     8711767738   3729029500   428.0451\n",
       "30 World 2017 Import     5887667219   2263661442   384.4751\n",
       "31 World 2017 Re-Export    12376627    546091406 44122.7974\n",
       "32 World 2017 Re-Import     4704120      1828282   388.6555"
      ]
     },
     "metadata": {},
     "output_type": "display_data"
    },
    {
     "data": {
      "text/html": [
       "<table>\n",
       "<thead><tr><th scope=col>all</th><th scope=col>Flow</th><th scope=col>2010</th><th scope=col>2011</th><th scope=col>2012</th><th scope=col>2013</th><th scope=col>2014</th><th scope=col>2015</th><th scope=col>2016</th><th scope=col>2017</th></tr></thead>\n",
       "<tbody>\n",
       "\t<tr><td>World     </td><td>Export    </td><td>394.7988  </td><td>473.8981  </td><td>464.3235  </td><td>508.5623  </td><td>440.7112  </td><td>394.8607  </td><td>375.8203  </td><td>  428.0451</td></tr>\n",
       "\t<tr><td>World     </td><td>Import    </td><td>510.9752  </td><td>602.1067  </td><td>598.9295  </td><td>630.3514  </td><td>602.1517  </td><td>475.2025  </td><td>424.0977  </td><td>  384.4751</td></tr>\n",
       "\t<tr><td>World     </td><td>Re-Export </td><td>286.6034  </td><td>323.8465  </td><td>326.5992  </td><td>551.1614  </td><td>308.4003  </td><td>319.8266  </td><td>502.4397  </td><td>44122.7974</td></tr>\n",
       "\t<tr><td>World     </td><td>Re-Import </td><td>559.9602  </td><td>719.3349  </td><td>749.8858  </td><td>489.7788  </td><td>661.0934  </td><td>357.3360  </td><td>326.7848  </td><td>  388.6555</td></tr>\n",
       "</tbody>\n",
       "</table>\n"
      ],
      "text/latex": [
       "\\begin{tabular}{r|llllllllll}\n",
       " all & Flow & 2010 & 2011 & 2012 & 2013 & 2014 & 2015 & 2016 & 2017\\\\\n",
       "\\hline\n",
       "\t World      & Export     & 394.7988   & 473.8981   & 464.3235   & 508.5623   & 440.7112   & 394.8607   & 375.8203   &   428.0451\\\\\n",
       "\t World      & Import     & 510.9752   & 602.1067   & 598.9295   & 630.3514   & 602.1517   & 475.2025   & 424.0977   &   384.4751\\\\\n",
       "\t World      & Re-Export  & 286.6034   & 323.8465   & 326.5992   & 551.1614   & 308.4003   & 319.8266   & 502.4397   & 44122.7974\\\\\n",
       "\t World      & Re-Import  & 559.9602   & 719.3349   & 749.8858   & 489.7788   & 661.0934   & 357.3360   & 326.7848   &   388.6555\\\\\n",
       "\\end{tabular}\n"
      ],
      "text/markdown": [
       "\n",
       "all | Flow | 2010 | 2011 | 2012 | 2013 | 2014 | 2015 | 2016 | 2017 | \n",
       "|---|---|---|---|\n",
       "| World      | Export     | 394.7988   | 473.8981   | 464.3235   | 508.5623   | 440.7112   | 394.8607   | 375.8203   |   428.0451 | \n",
       "| World      | Import     | 510.9752   | 602.1067   | 598.9295   | 630.3514   | 602.1517   | 475.2025   | 424.0977   |   384.4751 | \n",
       "| World      | Re-Export  | 286.6034   | 323.8465   | 326.5992   | 551.1614   | 308.4003   | 319.8266   | 502.4397   | 44122.7974 | \n",
       "| World      | Re-Import  | 559.9602   | 719.3349   | 749.8858   | 489.7788   | 661.0934   | 357.3360   | 326.7848   |   388.6555 | \n",
       "\n",
       "\n"
      ],
      "text/plain": [
       "  all   Flow      2010     2011     2012     2013     2014     2015    \n",
       "1 World Export    394.7988 473.8981 464.3235 508.5623 440.7112 394.8607\n",
       "2 World Import    510.9752 602.1067 598.9295 630.3514 602.1517 475.2025\n",
       "3 World Re-Export 286.6034 323.8465 326.5992 551.1614 308.4003 319.8266\n",
       "4 World Re-Import 559.9602 719.3349 749.8858 489.7788 661.0934 357.3360\n",
       "  2016     2017      \n",
       "1 375.8203   428.0451\n",
       "2 424.0977   384.4751\n",
       "3 502.4397 44122.7974\n",
       "4 326.7848   388.6555"
      ]
     },
     "metadata": {},
     "output_type": "display_data"
    }
   ],
   "source": [
    "pla_wcyfsum %>% mutate(prunit = 1000 * sum_value / sum_netweight) -> pla_wcyf_price# convert price per metric ton\n",
    "pla_wcyf_price\n",
    "pla_wcyf_price %>% dplyr::select(-starts_with('sum_')) %>% spread(key = year, value = prunit)"
   ]
  },
  {
   "cell_type": "code",
   "execution_count": 28,
   "metadata": {},
   "outputs": [
    {
     "data": {
      "text/html": [
       "<table>\n",
       "<thead><tr><th scope=col>Partner</th><th scope=col>Partner_nm</th><th scope=col>Flow</th><th scope=col>2010</th><th scope=col>2011</th><th scope=col>2012</th><th scope=col>2013</th><th scope=col>2014</th><th scope=col>2015</th><th scope=col>2016</th><th scope=col>2017</th></tr></thead>\n",
       "<tbody>\n",
       "\t<tr><td>CHN        </td><td>CHINA      </td><td>Export     </td><td>171802127  </td><td>141239829  </td><td>157891729  </td><td>154110543  </td><td>146778772  </td><td>148748722  </td><td>151366129  </td><td>119574904  </td></tr>\n",
       "\t<tr><td>VNM        </td><td>VIET NAM   </td><td>Export     </td><td>  7632766  </td><td>  4097892  </td><td>  1811658  </td><td>  2483151  </td><td>  8417985  </td><td> 11321717  </td><td> 21546755  </td><td> 50787060  </td></tr>\n",
       "\t<tr><td>JPN        </td><td>JAPAN      </td><td>Import     </td><td> 32691295  </td><td> 41433291  </td><td> 45530659  </td><td> 43446002  </td><td> 39880861  </td><td> 35897651  </td><td> 29418449  </td><td> 31117971  </td></tr>\n",
       "\t<tr><td>MYS        </td><td>MALAYSIA   </td><td>Export     </td><td>  6318334  </td><td>  6134217  </td><td>  6906852  </td><td>  7617611  </td><td>  7679957  </td><td> 11664292  </td><td> 11682327  </td><td> 12984899  </td></tr>\n",
       "\t<tr><td>PHL        </td><td>PHILIPPINES</td><td>Import     </td><td>   203598  </td><td>  1682466  </td><td>  2796664  </td><td>  2022117  </td><td>  4244184  </td><td>  3872531  </td><td>  3649437  </td><td> 10544768  </td></tr>\n",
       "</tbody>\n",
       "</table>\n"
      ],
      "text/latex": [
       "\\begin{tabular}{r|lllllllllll}\n",
       " Partner & Partner\\_nm & Flow & 2010 & 2011 & 2012 & 2013 & 2014 & 2015 & 2016 & 2017\\\\\n",
       "\\hline\n",
       "\t CHN         & CHINA       & Export      & 171802127   & 141239829   & 157891729   & 154110543   & 146778772   & 148748722   & 151366129   & 119574904  \\\\\n",
       "\t VNM         & VIET NAM    & Export      &   7632766   &   4097892   &   1811658   &   2483151   &   8417985   &  11321717   &  21546755   &  50787060  \\\\\n",
       "\t JPN         & JAPAN       & Import      &  32691295   &  41433291   &  45530659   &  43446002   &  39880861   &  35897651   &  29418449   &  31117971  \\\\\n",
       "\t MYS         & MALAYSIA    & Export      &   6318334   &   6134217   &   6906852   &   7617611   &   7679957   &  11664292   &  11682327   &  12984899  \\\\\n",
       "\t PHL         & PHILIPPINES & Import      &    203598   &   1682466   &   2796664   &   2022117   &   4244184   &   3872531   &   3649437   &  10544768  \\\\\n",
       "\\end{tabular}\n"
      ],
      "text/markdown": [
       "\n",
       "Partner | Partner_nm | Flow | 2010 | 2011 | 2012 | 2013 | 2014 | 2015 | 2016 | 2017 | \n",
       "|---|---|---|---|---|\n",
       "| CHN         | CHINA       | Export      | 171802127   | 141239829   | 157891729   | 154110543   | 146778772   | 148748722   | 151366129   | 119574904   | \n",
       "| VNM         | VIET NAM    | Export      |   7632766   |   4097892   |   1811658   |   2483151   |   8417985   |  11321717   |  21546755   |  50787060   | \n",
       "| JPN         | JAPAN       | Import      |  32691295   |  41433291   |  45530659   |  43446002   |  39880861   |  35897651   |  29418449   |  31117971   | \n",
       "| MYS         | MALAYSIA    | Export      |   6318334   |   6134217   |   6906852   |   7617611   |   7679957   |  11664292   |  11682327   |  12984899   | \n",
       "| PHL         | PHILIPPINES | Import      |    203598   |   1682466   |   2796664   |   2022117   |   4244184   |   3872531   |   3649437   |  10544768   | \n",
       "\n",
       "\n"
      ],
      "text/plain": [
       "  Partner Partner_nm  Flow   2010      2011      2012      2013      2014     \n",
       "1 CHN     CHINA       Export 171802127 141239829 157891729 154110543 146778772\n",
       "2 VNM     VIET NAM    Export   7632766   4097892   1811658   2483151   8417985\n",
       "3 JPN     JAPAN       Import  32691295  41433291  45530659  43446002  39880861\n",
       "4 MYS     MALAYSIA    Export   6318334   6134217   6906852   7617611   7679957\n",
       "5 PHL     PHILIPPINES Import    203598   1682466   2796664   2022117   4244184\n",
       "  2015      2016      2017     \n",
       "1 148748722 151366129 119574904\n",
       "2  11321717  21546755  50787060\n",
       "3  35897651  29418449  31117971\n",
       "4  11664292  11682327  12984899\n",
       "5   3872531   3649437  10544768"
      ]
     },
     "metadata": {},
     "output_type": "display_data"
    },
    {
     "data": {
      "text/html": [
       "<table>\n",
       "<thead><tr><th scope=col>Partner</th><th scope=col>Partner_nm</th><th scope=col>Flow</th><th scope=col>2010</th><th scope=col>2011</th><th scope=col>2012</th><th scope=col>2013</th><th scope=col>2014</th><th scope=col>2015</th><th scope=col>2016</th><th scope=col>2017</th></tr></thead>\n",
       "<tbody>\n",
       "\t<tr><td>CHN     </td><td>CHINA   </td><td>Export  </td><td>55567324</td><td>50194885</td><td>51194379</td><td>56344812</td><td>47579141</td><td>43200394</td><td>39844456</td><td>25191637</td></tr>\n",
       "\t<tr><td>VNM     </td><td>VIET NAM</td><td>Export  </td><td> 1303549</td><td>  710004</td><td>  720211</td><td>  723572</td><td> 2022539</td><td> 3334737</td><td> 4369061</td><td>11628842</td></tr>\n",
       "\t<tr><td>JPN     </td><td>JAPAN   </td><td>Import  </td><td>14559547</td><td>19690602</td><td>20268919</td><td>16334759</td><td>14736685</td><td>11528181</td><td> 9515490</td><td>10058088</td></tr>\n",
       "\t<tr><td>MYS     </td><td>MALAYSIA</td><td>Export  </td><td> 1827208</td><td> 1886641</td><td> 2276696</td><td> 2843514</td><td> 3344124</td><td> 4263232</td><td> 3876337</td><td> 4320140</td></tr>\n",
       "\t<tr><td>VNM     </td><td>VIET NAM</td><td>Import  </td><td>  337040</td><td>  703977</td><td>  925765</td><td>  918721</td><td> 1326669</td><td> 1741148</td><td> 2893032</td><td> 4036748</td></tr>\n",
       "</tbody>\n",
       "</table>\n"
      ],
      "text/latex": [
       "\\begin{tabular}{r|lllllllllll}\n",
       " Partner & Partner\\_nm & Flow & 2010 & 2011 & 2012 & 2013 & 2014 & 2015 & 2016 & 2017\\\\\n",
       "\\hline\n",
       "\t CHN      & CHINA    & Export   & 55567324 & 50194885 & 51194379 & 56344812 & 47579141 & 43200394 & 39844456 & 25191637\\\\\n",
       "\t VNM      & VIET NAM & Export   &  1303549 &   710004 &   720211 &   723572 &  2022539 &  3334737 &  4369061 & 11628842\\\\\n",
       "\t JPN      & JAPAN    & Import   & 14559547 & 19690602 & 20268919 & 16334759 & 14736685 & 11528181 &  9515490 & 10058088\\\\\n",
       "\t MYS      & MALAYSIA & Export   &  1827208 &  1886641 &  2276696 &  2843514 &  3344124 &  4263232 &  3876337 &  4320140\\\\\n",
       "\t VNM      & VIET NAM & Import   &   337040 &   703977 &   925765 &   918721 &  1326669 &  1741148 &  2893032 &  4036748\\\\\n",
       "\\end{tabular}\n"
      ],
      "text/markdown": [
       "\n",
       "Partner | Partner_nm | Flow | 2010 | 2011 | 2012 | 2013 | 2014 | 2015 | 2016 | 2017 | \n",
       "|---|---|---|---|---|\n",
       "| CHN      | CHINA    | Export   | 55567324 | 50194885 | 51194379 | 56344812 | 47579141 | 43200394 | 39844456 | 25191637 | \n",
       "| VNM      | VIET NAM | Export   |  1303549 |   710004 |   720211 |   723572 |  2022539 |  3334737 |  4369061 | 11628842 | \n",
       "| JPN      | JAPAN    | Import   | 14559547 | 19690602 | 20268919 | 16334759 | 14736685 | 11528181 |  9515490 | 10058088 | \n",
       "| MYS      | MALAYSIA | Export   |  1827208 |  1886641 |  2276696 |  2843514 |  3344124 |  4263232 |  3876337 |  4320140 | \n",
       "| VNM      | VIET NAM | Import   |   337040 |   703977 |   925765 |   918721 |  1326669 |  1741148 |  2893032 |  4036748 | \n",
       "\n",
       "\n"
      ],
      "text/plain": [
       "  Partner Partner_nm Flow   2010     2011     2012     2013     2014    \n",
       "1 CHN     CHINA      Export 55567324 50194885 51194379 56344812 47579141\n",
       "2 VNM     VIET NAM   Export  1303549   710004   720211   723572  2022539\n",
       "3 JPN     JAPAN      Import 14559547 19690602 20268919 16334759 14736685\n",
       "4 MYS     MALAYSIA   Export  1827208  1886641  2276696  2843514  3344124\n",
       "5 VNM     VIET NAM   Import   337040   703977   925765   918721  1326669\n",
       "  2015     2016     2017    \n",
       "1 43200394 39844456 25191637\n",
       "2  3334737  4369061 11628842\n",
       "3 11528181  9515490 10058088\n",
       "4  4263232  3876337  4320140\n",
       "5  1741148  2893032  4036748"
      ]
     },
     "metadata": {},
     "output_type": "display_data"
    }
   ],
   "source": [
    "pla_wc %>% filter(Reporter == 'KOR') %>% group_by(Partner, Partner_nm, Flow, year) %>% \n",
    "    summarize_at(.vars = vars(Netweight_kg, Value_usd), .funs = funs(sum)) %>% dplyr::select(-Value_usd) %>% \n",
    "    spread(key = year, value = Netweight_kg) -> pla_wkw_wide\n",
    "pla_wc %>% filter(Reporter == 'KOR') %>% group_by(Partner, Partner_nm, Flow, year) %>% \n",
    "    summarize_at(.vars = vars(Netweight_kg, Value_usd), .funs = funs(sum)) %>% dplyr::select(-Netweight_kg) %>% \n",
    "    spread(key = year, value = Value_usd) -> pla_wkv_wide\n",
    "\n",
    "pla_wkw_wide %>% arrange(-`2017`) %>% head(5)\n",
    "pla_wkv_wide %>% arrange(-`2017`) %>% head(5)"
   ]
  },
  {
   "cell_type": "markdown",
   "metadata": {},
   "source": [
    "## Assignment\n",
    "### Preprocessing (no presentation)\n",
    "+ 제공된 2015년 세계 무역 데이터를 이용하십시오.\n",
    "    + CSV 파일을 불러오십시오.\n",
    "    + 값의 형식이 알맞게 불러들여졌는지 확인하십시오. 만약 알맞지 않다면, 적절한 방식으로 변환하십시오. 오류가 없다면 넘어가도 됩니다.\n",
    "    + 필드 이름에 빈칸이 포함되어 이용하기 불편하므로, 각자가 원하는 방식으로 필드 이름을 새롭게 지정하십시오.\n",
    "        + 문제에서 이야기했듯이 필드 이름에는 빈칸이 포함되지 않아야 합니다.\n",
    "        + 만약 빈칸이 들어간 필드를 이용해서 SAC 관련 함수들을 이용하려면, 필드 이름을 \\`\\` 사이에 넣어야 합니다. (주의: 작은 따옴표 아님! 1 왼쪽의 물결무늬 표시 (~)를 Shift 없이 타이핑할 때 나오는 기호입니다) \n",
    "        + 필드 이름은 가급적 숫자로 시작하지 않도록 지정하십시오. 숫자로 시작한 필드도 \\`\\` 사이에 넣어 처리해야 합니다.\n",
    "    + `unique` 함수와 파이프 연산자를 이용해서 한국 (ISO code: KOR)의 수입 품목이 몇 가지인지 확인하십시오.\n",
    "    + 다른 국가의 현황도 살펴보십시오.\n",
    "\n",
    "### Presentation\n",
    "+ 본인이 원하는 품목을 한 가지 지정한 후, 위에서 보인 폐플라스틱 예시와 동일한 요령으로 분석하여 5분 이내로 발표하십시오. 강조하여야 할 점은 아래와 같습니다.\n",
    "    + 지정품목의 전세계 교역량: 중량과 교역액을 분리하여\n",
    "    + Top X 교역대상국 (수출, 수입 총합): 중량과 교역액을 분리하여\n",
    "    + Top X 교역대상국 (수출, 수입 분리): 중량과 교역액을 분리하여"
   ]
  },
  {
   "cell_type": "code",
   "execution_count": null,
   "metadata": {},
   "outputs": [],
   "source": []
  }
 ],
 "metadata": {
  "kernelspec": {
   "display_name": "R 3.5",
   "language": "R",
   "name": "ir35"
  },
  "language_info": {
   "codemirror_mode": "r",
   "file_extension": ".r",
   "mimetype": "text/x-r-source",
   "name": "R",
   "pygments_lexer": "r",
   "version": "3.5.0"
  }
 },
 "nbformat": 4,
 "nbformat_minor": 2
}
